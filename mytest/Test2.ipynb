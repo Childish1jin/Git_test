{
 "cells": [
  {
   "cell_type": "markdown",
   "metadata": {},
   "source": [
    "# MNIST "
   ]
  },
  {
   "cell_type": "code",
   "execution_count": 1,
   "metadata": {
    "ExecuteTime": {
     "end_time": "2019-04-17T06:42:09.028852Z",
     "start_time": "2019-04-17T06:42:09.024607Z"
    }
   },
   "outputs": [],
   "source": [
    "import warnings\n",
    "warnings.filterwarnings(action='ignore')"
   ]
  },
  {
   "cell_type": "code",
   "execution_count": null,
   "metadata": {
    "ExecuteTime": {
     "end_time": "2019-04-17T02:06:40.780711Z",
     "start_time": "2019-04-17T02:06:40.776157Z"
    },
    "scrolled": true
   },
   "outputs": [],
   "source": [
    "help(warnings.filterwarnings)"
   ]
  },
  {
   "cell_type": "code",
   "execution_count": 2,
   "metadata": {
    "ExecuteTime": {
     "end_time": "2019-04-17T06:42:14.779909Z",
     "start_time": "2019-04-17T06:42:14.256188Z"
    }
   },
   "outputs": [
    {
     "name": "stderr",
     "output_type": "stream",
     "text": [
      "/home/wang/anaconda3/lib/python3.7/site-packages/sklearn/utils/deprecation.py:77: DeprecationWarning: Function fetch_mldata is deprecated; fetch_mldata was deprecated in version 0.20 and will be removed in version 0.22\n",
      "  warnings.warn(msg, category=DeprecationWarning)\n",
      "/home/wang/anaconda3/lib/python3.7/site-packages/sklearn/utils/deprecation.py:77: DeprecationWarning: Function mldata_filename is deprecated; mldata_filename was deprecated in version 0.20 and will be removed in version 0.22\n",
      "  warnings.warn(msg, category=DeprecationWarning)\n"
     ]
    },
    {
     "data": {
      "text/plain": [
       "{'DESCR': 'mldata.org dataset: mnist-original',\n",
       " 'COL_NAMES': ['label', 'data'],\n",
       " 'target': array([0., 0., 0., ..., 9., 9., 9.]),\n",
       " 'data': array([[0, 0, 0, ..., 0, 0, 0],\n",
       "        [0, 0, 0, ..., 0, 0, 0],\n",
       "        [0, 0, 0, ..., 0, 0, 0],\n",
       "        ...,\n",
       "        [0, 0, 0, ..., 0, 0, 0],\n",
       "        [0, 0, 0, ..., 0, 0, 0],\n",
       "        [0, 0, 0, ..., 0, 0, 0]], dtype=uint8)}"
      ]
     },
     "execution_count": 2,
     "metadata": {},
     "output_type": "execute_result"
    }
   ],
   "source": [
    "from sklearn.datasets import fetch_mldata\n",
    "mnist = fetch_mldata('MNIST original')\n",
    "mnist"
   ]
  },
  {
   "cell_type": "code",
   "execution_count": 3,
   "metadata": {
    "ExecuteTime": {
     "end_time": "2019-04-17T06:42:18.680757Z",
     "start_time": "2019-04-17T06:42:18.575510Z"
    }
   },
   "outputs": [
    {
     "data": {
      "text/plain": [
       "{'DESCR': 'mldata.org dataset: mnist-original',\n",
       " 'COL_NAMES': ['label', 'data'],\n",
       " 'target': array([0., 0., 0., ..., 9., 9., 9.]),\n",
       " 'data': array([[0, 0, 0, ..., 0, 0, 0],\n",
       "        [0, 0, 0, ..., 0, 0, 0],\n",
       "        [0, 0, 0, ..., 0, 0, 0],\n",
       "        ...,\n",
       "        [0, 0, 0, ..., 0, 0, 0],\n",
       "        [0, 0, 0, ..., 0, 0, 0],\n",
       "        [0, 0, 0, ..., 0, 0, 0]], dtype=uint8)}"
      ]
     },
     "execution_count": 3,
     "metadata": {},
     "output_type": "execute_result"
    }
   ],
   "source": [
    "from sklearn.datasets import fetch_mldata\n",
    "import warnings\n",
    "warnings.filterwarnings(action=\"ignore\")\n",
    "\n",
    "mnist = fetch_mldata('MNIST original')\n",
    "mnist"
   ]
  },
  {
   "cell_type": "markdown",
   "metadata": {},
   "source": [
    "使用Scikit-Learn下载的数据集通常有一个类似于字典的结构：\n",
    "* 一个'**DESCR**'关键字用来描述数据集\n",
    "* 一个'**data**'关键字包含一个数组，这个数组的每一行代表一个例子，每一列代表一个特征\n",
    "* 一个'**target**'关键字，包含一个数组，数组内容是例子的标签 "
   ]
  },
  {
   "cell_type": "code",
   "execution_count": null,
   "metadata": {
    "ExecuteTime": {
     "end_time": "2019-04-17T06:01:54.097428Z",
     "start_time": "2019-04-17T06:01:54.092044Z"
    }
   },
   "outputs": [],
   "source": [
    "from sklearn.datasets import get_data_home\n",
    "print(get_data_home())           # 获取sklearn.datasets 路径"
   ]
  },
  {
   "cell_type": "code",
   "execution_count": 4,
   "metadata": {
    "ExecuteTime": {
     "end_time": "2019-04-17T06:42:33.128648Z",
     "start_time": "2019-04-17T06:42:33.123494Z"
    }
   },
   "outputs": [
    {
     "data": {
      "text/plain": [
       "(70000, 784)"
      ]
     },
     "execution_count": 4,
     "metadata": {},
     "output_type": "execute_result"
    }
   ],
   "source": [
    "X, y = mnist['data'], mnist['target']\n",
    "X.shape"
   ]
  },
  {
   "cell_type": "code",
   "execution_count": null,
   "metadata": {
    "ExecuteTime": {
     "end_time": "2019-04-17T06:01:56.157188Z",
     "start_time": "2019-04-17T06:01:56.141679Z"
    }
   },
   "outputs": [],
   "source": [
    "X, y = mnist['data'], mnist['target']\n",
    "X.shape"
   ]
  },
  {
   "cell_type": "code",
   "execution_count": null,
   "metadata": {
    "ExecuteTime": {
     "end_time": "2019-04-17T06:01:56.681053Z",
     "start_time": "2019-04-17T06:01:56.675756Z"
    }
   },
   "outputs": [],
   "source": [
    "y.shape"
   ]
  },
  {
   "cell_type": "code",
   "execution_count": null,
   "metadata": {
    "ExecuteTime": {
     "end_time": "2019-04-17T06:01:57.852708Z",
     "start_time": "2019-04-17T06:01:57.738945Z"
    }
   },
   "outputs": [],
   "source": [
    "help(matplotlib.pyplot.imshow)"
   ]
  },
  {
   "cell_type": "code",
   "execution_count": 5,
   "metadata": {
    "ExecuteTime": {
     "end_time": "2019-04-17T06:42:55.958797Z",
     "start_time": "2019-04-17T06:42:55.679658Z"
    }
   },
   "outputs": [
    {
     "data": {
      "image/png": "[encoded data removed]",
      "text/plain": [
       "<Figure size 432x288 with 1 Axes>"
      ]
     },
     "metadata": {
      "needs_background": "light"
     },
     "output_type": "display_data"
    }
   ],
   "source": [
    "import matplotlib.pyplot as plt\n",
    "import matplotlib\n",
    "%matplotlib inline\n",
    "some_digit = X[-1]\n",
    "some_digit_image = some_digit.reshape(28, 28)\n",
    "plt.imshow(some_digit_image, cmap=matplotlib.cm.binary,\n",
    "           interpolation='nearest')\n",
    "plt.axis('off')\n",
    "plt.show()"
   ]
  },
  {
   "cell_type": "code",
   "execution_count": 6,
   "metadata": {
    "ExecuteTime": {
     "end_time": "2019-04-17T06:43:06.229112Z",
     "start_time": "2019-04-17T06:43:06.031766Z"
    }
   },
   "outputs": [
    {
     "data": {
      "image/png": "[encoded data removed]",
      "text/plain": [
       "<Figure size 432x288 with 1 Axes>"
      ]
     },
     "metadata": {
      "needs_background": "light"
     },
     "output_type": "display_data"
    }
   ],
   "source": [
    "import matplotlib.pyplot as plt\n",
    "%matplotlib inline\n",
    "some_digit = X[36000]\n",
    "some_digit_image = some_digit.reshape((28, 28))\n",
    "plt.imshow(some_digit_image, cmap=matplotlib.cm.binary)\n",
    "plt.axis('off')\n",
    "plt.show()"
   ]
  },
  {
   "cell_type": "code",
   "execution_count": 8,
   "metadata": {
    "ExecuteTime": {
     "end_time": "2019-04-17T06:43:13.913018Z",
     "start_time": "2019-04-17T06:43:13.904830Z"
    }
   },
   "outputs": [
    {
     "data": {
      "text/plain": [
       "5.0"
      ]
     },
     "execution_count": 8,
     "metadata": {},
     "output_type": "execute_result"
    }
   ],
   "source": [
    "y[36000]"
   ]
  },
  {
   "cell_type": "code",
   "execution_count": 9,
   "metadata": {
    "ExecuteTime": {
     "end_time": "2019-04-17T06:43:21.365637Z",
     "start_time": "2019-04-17T06:43:21.359953Z"
    }
   },
   "outputs": [],
   "source": [
    "X_train, X_test, y_train, y_test = X[:60000], X[60000:], y[:60000], y[60000:]"
   ]
  },
  {
   "cell_type": "code",
   "execution_count": 35,
   "metadata": {
    "ExecuteTime": {
     "end_time": "2019-04-17T06:50:50.400840Z",
     "start_time": "2019-04-17T06:50:50.384387Z"
    }
   },
   "outputs": [],
   "source": [
    "import numpy as np\n",
    "\n",
    "\n",
    "def plt_digit(data):\n",
    "    image = data.reshape((28, 28))\n",
    "    plt.imshow(image, cmap=matplotlib.cm.binary, interpolation='nearest')\n",
    "    plt.axis('off')\n",
    "    plt.show()\n",
    "\n",
    "\n",
    "def plt_digits(instances, images_per_row=10, **options):\n",
    "    size = 28\n",
    "    images_per_row = min(len(instances), images_per_row)\n",
    "    images = [instance.reshape((size, size)) for instance in instances]\n",
    "    n_rows = (len(instances) - 1) // images_per_row + 1\n",
    "    row_images = []\n",
    "    n_empty = n_rows * images_per_row - len(instances)\n",
    "    images.append(np.zeros((size, size * n_empty)))\n",
    "    for row in range(n_rows):\n",
    "        rimages = images[row * images_per_row:(row + 1) * images_per_row]\n",
    "        row_images.append(np.concatenate(rimages, axis=1))\n",
    "    image = np.concatenate(row_images, axis=0)\n",
    "    plt.imshow(image, cmap=matplotlib.cm.binary, **options)\n",
    "    plt.axis('off')"
   ]
  },
  {
   "cell_type": "code",
   "execution_count": 36,
   "metadata": {
    "ExecuteTime": {
     "end_time": "2019-04-17T06:50:51.077138Z",
     "start_time": "2019-04-17T06:50:51.071601Z"
    }
   },
   "outputs": [],
   "source": [
    "import os\n",
    "# PROJECT_ROOT_DIR = \"mldata\"\n",
    "# CHAPTER_ID = \"Classification_MNIST_03\"\n",
    "# IMAGES_PATH = os.path.join(PROJECT_ROOT_DIR, \"images\", CHAPTER_ID)\n",
    "IMAGES_PATH = 'mldata'\n",
    "\n",
    "\n",
    "def save_fig(fig_id, tight_layout=True, fig_extension=\"png\", resolution=300):\n",
    "    path = os.path.join(IMAGES_PATH, fig_id + \".\" + fig_extension)\n",
    "    print(\"Saving figure\", fig_id)\n",
    "    if tight_layout:\n",
    "        plt.tight_layout()\n",
    "    plt.savefig(path, format=fig_extension, dpi=resolution)"
   ]
  },
  {
   "cell_type": "code",
   "execution_count": 37,
   "metadata": {
    "ExecuteTime": {
     "end_time": "2019-04-17T06:50:52.964831Z",
     "start_time": "2019-04-17T06:50:52.176040Z"
    },
    "scrolled": false
   },
   "outputs": [
    {
     "name": "stdout",
     "output_type": "stream",
     "text": [
      "Saving figure more_digits_plot\n"
     ]
    },
    {
     "data": {
      "image/png": "[encoded data removed]",
      "text/plain": [
       "<Figure size 648x648 with 1 Axes>"
      ]
     },
     "metadata": {
      "needs_background": "light"
     },
     "output_type": "display_data"
    }
   ],
   "source": [
    "import matplotlib.pyplot as plt\n",
    "plt.figure(figsize=(9, 9))\n",
    "example_images = np.r_[X[:12000:600], X[13000:30600:600], X[30600:60000:590]]\n",
    "plt_digits(example_images, images_per_row=10)\n",
    "save_fig('more_digits_plot')\n",
    "plt.show()"
   ]
  },
  {
   "cell_type": "code",
   "execution_count": null,
   "metadata": {
    "ExecuteTime": {
     "end_time": "2019-04-17T06:02:10.112732Z",
     "start_time": "2019-04-17T06:02:10.107254Z"
    }
   },
   "outputs": [],
   "source": [
    "X_train, X_test, y_train, y_test = X[:60000], X[60000:], y[:60000], y[60000:]"
   ]
  },
  {
   "cell_type": "code",
   "execution_count": 10,
   "metadata": {
    "ExecuteTime": {
     "end_time": "2019-04-17T06:43:51.452683Z",
     "start_time": "2019-04-17T06:43:51.360181Z"
    }
   },
   "outputs": [],
   "source": [
    "import numpy as np\n",
    "\n",
    "shuffle_index = np.random.permutation(60000)\n",
    "X_train, y_train = X_train[shuffle_index], y_train[shuffle_index]"
   ]
  },
  {
   "cell_type": "markdown",
   "metadata": {},
   "source": [
    "## 训练一个二分类器"
   ]
  },
  {
   "cell_type": "code",
   "execution_count": 11,
   "metadata": {
    "ExecuteTime": {
     "end_time": "2019-04-17T06:43:54.547702Z",
     "start_time": "2019-04-17T06:43:54.543858Z"
    }
   },
   "outputs": [],
   "source": [
    "y_train_5 = (y_train == 5)"
   ]
  },
  {
   "cell_type": "code",
   "execution_count": 12,
   "metadata": {
    "ExecuteTime": {
     "end_time": "2019-04-17T06:43:55.108074Z",
     "start_time": "2019-04-17T06:43:55.103997Z"
    }
   },
   "outputs": [],
   "source": [
    "y_test_5 = (y_test == 5)"
   ]
  },
  {
   "cell_type": "code",
   "execution_count": 13,
   "metadata": {
    "ExecuteTime": {
     "end_time": "2019-04-17T06:43:57.695035Z",
     "start_time": "2019-04-17T06:43:56.831655Z"
    },
    "scrolled": false
   },
   "outputs": [
    {
     "data": {
      "text/plain": [
       "SGDClassifier(alpha=0.0001, average=False, class_weight=None,\n",
       "       early_stopping=False, epsilon=0.1, eta0=0.0, fit_intercept=True,\n",
       "       l1_ratio=0.15, learning_rate='optimal', loss='hinge', max_iter=None,\n",
       "       n_iter=None, n_iter_no_change=5, n_jobs=None, penalty='l2',\n",
       "       power_t=0.5, random_state=42, shuffle=True, tol=None,\n",
       "       validation_fraction=0.1, verbose=0, warm_start=False)"
      ]
     },
     "execution_count": 13,
     "metadata": {},
     "output_type": "execute_result"
    }
   ],
   "source": [
    "from sklearn.linear_model import SGDClassifier\n",
    "sgd_clf = SGDClassifier(random_state=42)\n",
    "sgd_clf.fit(X_train, y_train_5)"
   ]
  },
  {
   "cell_type": "code",
   "execution_count": null,
   "metadata": {
    "ExecuteTime": {
     "end_time": "2019-04-17T06:02:16.008810Z",
     "start_time": "2019-04-17T06:02:15.435135Z"
    }
   },
   "outputs": [],
   "source": [
    "from sklearn.linear_model import SGDClassifier\n",
    "sgd_clf = SGDClassifier(random_state=42)\n",
    "sgd_clf.fit(X_train, y_train_5)"
   ]
  },
  {
   "cell_type": "code",
   "execution_count": null,
   "metadata": {
    "ExecuteTime": {
     "end_time": "2019-04-17T06:02:19.217132Z",
     "start_time": "2019-04-17T06:02:19.204789Z"
    },
    "scrolled": true
   },
   "outputs": [],
   "source": [
    "some_digit"
   ]
  },
  {
   "cell_type": "code",
   "execution_count": 14,
   "metadata": {
    "ExecuteTime": {
     "end_time": "2019-04-17T06:44:02.680506Z",
     "start_time": "2019-04-17T06:44:02.672668Z"
    }
   },
   "outputs": [
    {
     "data": {
      "text/plain": [
       "array([ True])"
      ]
     },
     "execution_count": 14,
     "metadata": {},
     "output_type": "execute_result"
    }
   ],
   "source": [
    "sgd_clf.predict([some_digit])"
   ]
  },
  {
   "cell_type": "code",
   "execution_count": 15,
   "metadata": {
    "ExecuteTime": {
     "end_time": "2019-04-17T06:44:05.620690Z",
     "start_time": "2019-04-17T06:44:05.615540Z"
    }
   },
   "outputs": [
    {
     "data": {
      "text/plain": [
       "array([ True])"
      ]
     },
     "execution_count": 15,
     "metadata": {},
     "output_type": "execute_result"
    }
   ],
   "source": [
    "sgd_clf.predict([some_digit])"
   ]
  },
  {
   "cell_type": "markdown",
   "metadata": {},
   "source": [
    "## 对性能的评估"
   ]
  },
  {
   "cell_type": "markdown",
   "metadata": {},
   "source": [
    "### 使用交叉验证测量准确性"
   ]
  },
  {
   "cell_type": "code",
   "execution_count": null,
   "metadata": {
    "ExecuteTime": {
     "end_time": "2019-04-17T06:02:30.902315Z",
     "start_time": "2019-04-17T06:02:29.019623Z"
    }
   },
   "outputs": [],
   "source": [
    "from sklearn.model_selection import StratifiedKFold\n",
    "from sklearn.base import clone\n",
    "skfolds = StratifiedKFold(n_splits=3, random_state=42)\n",
    "for train_index, test_index in skfolds.split(X_train, y_train_5):\n",
    "    clone_clf = clone(sgd_clf)\n",
    "    X_train_folds = X_train[train_index]\n",
    "    y_train_folds = (y_train_5[train_index])\n",
    "    X_test_fold = X_train[test_index]\n",
    "    y_test_fold = y_train_5[test_index]\n",
    "    clone_clf.fit(X_train_folds, y_train_folds)\n",
    "    y_pred = clone_clf.predict(X_test_fold)\n",
    "    n_correct = sum(y_pred == y_test_fold)\n",
    "    print(n_correct/len(y_pred))"
   ]
  },
  {
   "cell_type": "markdown",
   "metadata": {},
   "source": [
    "## sklearn中的cross_val_value函数，交叉验证SGD 模型"
   ]
  },
  {
   "cell_type": "code",
   "execution_count": 16,
   "metadata": {
    "ExecuteTime": {
     "end_time": "2019-04-17T06:44:17.104674Z",
     "start_time": "2019-04-17T06:44:15.632705Z"
    }
   },
   "outputs": [
    {
     "data": {
      "text/plain": [
       "array([0.9527 , 0.96575, 0.9678 ])"
      ]
     },
     "execution_count": 16,
     "metadata": {},
     "output_type": "execute_result"
    }
   ],
   "source": [
    "from sklearn.model_selection import cross_val_score\n",
    "cross_val_score(sgd_clf, X_train, y_train_5, cv=3, scoring='accuracy')"
   ]
  },
  {
   "cell_type": "code",
   "execution_count": null,
   "metadata": {
    "ExecuteTime": {
     "end_time": "2019-04-17T06:02:37.155793Z",
     "start_time": "2019-04-17T06:02:35.787156Z"
    }
   },
   "outputs": [],
   "source": [
    "from sklearn.model_selection import cross_val_score\n",
    "cross_val_score(sgd_clf, X_train, y_train_5, cv=3, scoring='accuracy')"
   ]
  },
  {
   "cell_type": "code",
   "execution_count": 17,
   "metadata": {
    "ExecuteTime": {
     "end_time": "2019-04-17T06:44:46.124057Z",
     "start_time": "2019-04-17T06:44:46.117528Z"
    }
   },
   "outputs": [],
   "source": [
    "from sklearn.base import BaseEstimator\n",
    "\n",
    "\n",
    "class Never5Classifier(BaseEstimator):\n",
    "    def fit(self, X, y=None):\n",
    "        pass\n",
    "\n",
    "    def predict(self, X):\n",
    "        return np.zeros((len(X), 1), dtype=bool)"
   ]
  },
  {
   "cell_type": "code",
   "execution_count": 18,
   "metadata": {
    "ExecuteTime": {
     "end_time": "2019-04-17T06:44:46.757211Z",
     "start_time": "2019-04-17T06:44:46.670257Z"
    }
   },
   "outputs": [
    {
     "data": {
      "text/plain": [
       "array([0.9109 , 0.90665, 0.9114 ])"
      ]
     },
     "execution_count": 18,
     "metadata": {},
     "output_type": "execute_result"
    }
   ],
   "source": [
    "never_5_clf = Never5Classifier()\n",
    "cross_val_score(never_5_clf, X_train, y_train_5, cv=3, scoring='accuracy')"
   ]
  },
  {
   "cell_type": "markdown",
   "metadata": {},
   "source": [
    "### 使用混淆矩阵"
   ]
  },
  {
   "cell_type": "code",
   "execution_count": 19,
   "metadata": {
    "ExecuteTime": {
     "end_time": "2019-04-17T06:44:58.403618Z",
     "start_time": "2019-04-17T06:44:56.852890Z"
    }
   },
   "outputs": [],
   "source": [
    "from sklearn.model_selection import cross_val_predict\n",
    "y_train_pred = cross_val_predict(sgd_clf, X_train, y_train_5, cv=3)"
   ]
  },
  {
   "cell_type": "markdown",
   "metadata": {},
   "source": [
    "使用confusion_matrix()函数，得到一个混淆矩阵"
   ]
  },
  {
   "cell_type": "code",
   "execution_count": 20,
   "metadata": {
    "ExecuteTime": {
     "end_time": "2019-04-17T06:45:18.387424Z",
     "start_time": "2019-04-17T06:45:18.320323Z"
    }
   },
   "outputs": [
    {
     "data": {
      "text/plain": [
       "array([[53301,  1278],\n",
       "       [  997,  4424]])"
      ]
     },
     "execution_count": 20,
     "metadata": {},
     "output_type": "execute_result"
    }
   ],
   "source": [
    "from sklearn.metrics import confusion_matrix\n",
    "confusion_matrix(y_train_5, y_train_pred)"
   ]
  },
  {
   "cell_type": "markdown",
   "metadata": {},
   "source": [
    "negative class  [[ **true negatives** , **false positives** ],\n",
    " \n",
    "positive class  [ **false negatives** , **true positives** ]]\n",
    "\n",
    "第一行考虑**非5**的图片，**negative class** ：\n",
    "\n",
    "* true negatives:  53,272 张被正确的分类为非5\n",
    "* false positives：1307张被错误的分类为5\n",
    "\n",
    "第一行考虑**是5**的图片，**positive class** ：\n",
    "\n",
    "* false negatives：1077张错误的分类为非5\n",
    "* true positives： 4344张被正确的分类为5\n",
    "\n",
    "一个完美的分类器应该只有**true positives** 和 **true negatives**, 即主对角线元素不为0，其余元素为0"
   ]
  },
  {
   "cell_type": "markdown",
   "metadata": {},
   "source": [
    "|--混淆矩阵---|---|\n",
    "|:-:|:-:|\n",
    "|**真反**（非5-正确分为非5）|**假正**（非5--错误分为5）|\n",
    "|**假反**（5--错误分为非5）|**真正**（5--正确分为5）|\n"
   ]
  },
  {
   "cell_type": "code",
   "execution_count": 21,
   "metadata": {
    "ExecuteTime": {
     "end_time": "2019-04-17T06:45:28.526747Z",
     "start_time": "2019-04-17T06:45:28.468286Z"
    }
   },
   "outputs": [
    {
     "data": {
      "text/plain": [
       "array([[54579,     0],\n",
       "       [    0,  5421]])"
      ]
     },
     "execution_count": 21,
     "metadata": {},
     "output_type": "execute_result"
    }
   ],
   "source": [
    "y_train_perfect_predictions = y_train_5\n",
    "confusion_matrix(y_train_5, y_train_perfect_predictions)"
   ]
  },
  {
   "attachments": {
    "image.png": {
     "image/png": "[encoded data removed]"
    }
   },
   "cell_type": "markdown",
   "metadata": {
    "ExecuteTime": {
     "end_time": "2019-04-17T06:18:34.248050Z",
     "start_time": "2019-04-17T06:18:34.237063Z"
    }
   },
   "source": [
    "### Precision and Recall\n",
    "\n",
    "\n",
    "**$ precision = \\frac {TP} {TP + FP} $**\n",
    "\n",
    "\n",
    "**$ recall = \\frac {TP} {TP + FN} $**\n",
    "\n",
    "\n",
    "* TP is the number of true positives\n",
    "* FP is the number of false positives\n",
    "* FN is of course the number of false negatives.\n",
    "\n",
    "![image.png](attachment:image.png)\n"
   ]
  },
  {
   "cell_type": "code",
   "execution_count": 22,
   "metadata": {
    "ExecuteTime": {
     "end_time": "2019-04-17T06:45:33.892489Z",
     "start_time": "2019-04-17T06:45:33.870447Z"
    }
   },
   "outputs": [
    {
     "data": {
      "text/plain": [
       "0.7758681164503682"
      ]
     },
     "execution_count": 22,
     "metadata": {},
     "output_type": "execute_result"
    }
   ],
   "source": [
    "from sklearn.metrics import precision_score, recall_score\n",
    "precision_score(y_train_5, y_train_pred)"
   ]
  },
  {
   "cell_type": "code",
   "execution_count": 23,
   "metadata": {
    "ExecuteTime": {
     "end_time": "2019-04-17T06:45:39.350298Z",
     "start_time": "2019-04-17T06:45:39.326999Z"
    }
   },
   "outputs": [
    {
     "data": {
      "text/plain": [
       "0.8160855930640103"
      ]
     },
     "execution_count": 23,
     "metadata": {},
     "output_type": "execute_result"
    }
   ],
   "source": [
    "recall_score(y_train_5, y_train_pred)"
   ]
  },
  {
   "cell_type": "markdown",
   "metadata": {},
   "source": [
    "将**Precision** 和 **Recall**结合到一个称为**F1 score** 的量,，特别是在我们需要一种简单的方法来比较两个分类器。**F1 score**是精度和召回的调和平均值。常规均值平等地处理所有值，但调和平均值给予低值更多权重。 因此，如果召回和精确度都很高，分类器将只获得高F 1分数。\n",
    "\n",
    "$ F_1  = $ $2\\over {1\\over precision}+{1\\over recall} $ $=$ $2×$ $precision×recall\\over precision+recall $ $=$ $TP\\over {TP}+{FN + FP\\over 2}$\n"
   ]
  },
  {
   "cell_type": "code",
   "execution_count": 24,
   "metadata": {
    "ExecuteTime": {
     "end_time": "2019-04-17T06:45:49.043910Z",
     "start_time": "2019-04-17T06:45:49.022825Z"
    }
   },
   "outputs": [
    {
     "data": {
      "text/plain": [
       "0.7954688483322845"
      ]
     },
     "execution_count": 24,
     "metadata": {},
     "output_type": "execute_result"
    }
   ],
   "source": [
    "from sklearn.metrics import f1_score\n",
    "f1_score(y_train_5, y_train_pred)"
   ]
  },
  {
   "cell_type": "markdown",
   "metadata": {},
   "source": [
    "$F_1$评分倾向于具有相似精度和召回率的分类器。这并不总是你想要的：在某些情况下，你最关心的是精确度，而在其他情况下，你真的很关心召回。例如：\n",
    "* 如果您训练分类器来检测对孩子来说安全的视频，您可能更喜欢拒绝许多好视频的分类器（低召回率）但只保留安全分类（高精度），而不是一个具有更高召回率的分类器，这会让一些非常糟糕的视频出现在您的产品中（在这种情况下，您甚至可能希望添加人工管道来检查分类器的视频选择）。\n",
    "\n",
    "* 另一方面，假设你训练一个分类器来检测监控图像上的商店扒手：如果你的分类器只有30％的精度，只要它有99％的召回率就可能很好（当然，保安人员会得到一些虚假警报，但几乎所有商店扒手都会被抓住）。\n",
    "\n",
    "不幸的是，你无法双管齐下：提高精确度，减少召回率，反之亦然。这称为精确/召回权衡。"
   ]
  },
  {
   "cell_type": "markdown",
   "metadata": {},
   "source": [
    "### 3.3 Precision/Recall Tradeoff\n",
    "\n",
    "为了理解这种权衡，让我们看一下**SGDClassifier**是如何做出它的分类决定的。对于每个实例，它根据决策函数计算得分，如果该得分大于阈值，则将实例分配给**positive class**，否则将其分配给**negative class**。\n",
    "\n",
    "下图显示了一些数字，从左侧最低分到右侧最高分。假设决策阈值位于中心箭头（两个5s之间）：您将在该阈值的右侧找到4个**true positives**（实际5s），和一个**false positive**（实际为6）。因此，使用该阈值，**精度**为80％（5个中的4个）。但是在6个实际数字5中，分类器仅检测到4个，因此**召回率**为67％（6个中有4个）。\n",
    "\n",
    "现在，如果你提高阈值（将其移动到右边的箭头），**false positive**（6）变为**true negative**，从而提高**精度**（在这种情况下高达100％），但一个**true positive** 变为**false negative**，将**召回率**降低至50％。相反，降低阈值会**增加召回率**并**降低精度**。"
   ]
  },
  {
   "attachments": {
    "image.png": {
     "image/png": "[encoded data removed]"
    }
   },
   "cell_type": "markdown",
   "metadata": {
    "ExecuteTime": {
     "end_time": "2019-04-17T06:26:52.215835Z",
     "start_time": "2019-04-17T06:26:52.063331Z"
    }
   },
   "source": [
    "![image.png](attachment:image.png)"
   ]
  },
  {
   "cell_type": "markdown",
   "metadata": {},
   "source": [
    "Scikit-Learn不允许您直接设置阈值，但它确实可以让您访问用于进行预测的决策分数。 您可以调用其**decision_function（）**方法，而不是调用分类器的**predict（）**方法，该方法返回每个实例的分数，然后使用您想要的**任何阈值**根据这些分数进行预测："
   ]
  },
  {
   "cell_type": "code",
   "execution_count": 26,
   "metadata": {
    "ExecuteTime": {
     "end_time": "2019-04-17T06:46:08.469808Z",
     "start_time": "2019-04-17T06:46:08.463340Z"
    }
   },
   "outputs": [
    {
     "data": {
      "text/plain": [
       "array([93102.35716829])"
      ]
     },
     "execution_count": 26,
     "metadata": {},
     "output_type": "execute_result"
    }
   ],
   "source": [
    "y_scores = sgd_clf.decision_function([some_digit])     # 返回每个实例的分数值\n",
    "y_scores"
   ]
  },
  {
   "cell_type": "code",
   "execution_count": 27,
   "metadata": {
    "ExecuteTime": {
     "end_time": "2019-04-17T06:46:10.285904Z",
     "start_time": "2019-04-17T06:46:10.277515Z"
    }
   },
   "outputs": [
    {
     "data": {
      "text/plain": [
       "array([ True])"
      ]
     },
     "execution_count": 27,
     "metadata": {},
     "output_type": "execute_result"
    }
   ],
   "source": [
    "threshold = 0\n",
    "y_some_digit_pred = (y_scores > threshold)\n",
    "\n",
    "y_some_digit_pred"
   ]
  },
  {
   "cell_type": "code",
   "execution_count": 28,
   "metadata": {
    "ExecuteTime": {
     "end_time": "2019-04-17T06:46:21.560657Z",
     "start_time": "2019-04-17T06:46:21.552259Z"
    }
   },
   "outputs": [
    {
     "data": {
      "text/plain": [
       "array([False])"
      ]
     },
     "execution_count": 28,
     "metadata": {},
     "output_type": "execute_result"
    }
   ],
   "source": [
    "threshold = 200000\n",
    "y_some_digit_pred = (y_scores > threshold)\n",
    "\n",
    "y_some_digit_pred"
   ]
  },
  {
   "cell_type": "markdown",
   "metadata": {},
   "source": [
    "那么如何决定使用哪个阈值？ 为此，您首先需要再次使用cross_val_predict（) 函数获得训练集中所有实例的分数，但这一次你希望它返回决策分数而不是预测："
   ]
  },
  {
   "cell_type": "code",
   "execution_count": 31,
   "metadata": {
    "ExecuteTime": {
     "end_time": "2019-04-17T06:47:42.562642Z",
     "start_time": "2019-04-17T06:47:41.024354Z"
    }
   },
   "outputs": [
    {
     "data": {
      "text/plain": [
       "(60000,)"
      ]
     },
     "execution_count": 31,
     "metadata": {},
     "output_type": "execute_result"
    }
   ],
   "source": [
    "y_scores = cross_val_predict(\n",
    "    sgd_clf, X_train, y_train_5, cv=3, method='decision_function')\n",
    "y_scores.shape"
   ]
  },
  {
   "cell_type": "code",
   "execution_count": 32,
   "metadata": {
    "ExecuteTime": {
     "end_time": "2019-04-17T06:50:05.364165Z",
     "start_time": "2019-04-17T06:50:05.312601Z"
    }
   },
   "outputs": [],
   "source": [
    "from sklearn.metrics import precision_recall_curve\n",
    "precisions, recalls, thresholds = precision_recall_curve(y_train_5, y_scores)"
   ]
  },
  {
   "cell_type": "code",
   "execution_count": 38,
   "metadata": {
    "ExecuteTime": {
     "end_time": "2019-04-17T06:51:57.858364Z",
     "start_time": "2019-04-17T06:51:57.312627Z"
    }
   },
   "outputs": [
    {
     "name": "stdout",
     "output_type": "stream",
     "text": [
      "Saving figure precision_recall_vs_threshold_plot\n"
     ]
    },
    {
     "data": {
      "image/png": "[encoded data removed]",
      "text/plain": [
       "<Figure size 576x288 with 1 Axes>"
      ]
     },
     "metadata": {
      "needs_background": "light"
     },
     "output_type": "display_data"
    }
   ],
   "source": [
    "%matplotlib inline\n",
    "\n",
    "\n",
    "def plot_precision_recall_vs_threshold(precisions, recalls, thresholds):\n",
    "    plt.plot(thresholds,\n",
    "             precisions[:-1],\n",
    "             \"b--\",\n",
    "             label=\"Precision\")\n",
    "\n",
    "    plt.plot(thresholds,\n",
    "             recalls[:-1],\n",
    "             \"g-\",\n",
    "             label=\"Recall\")\n",
    "    plt.xlabel(\"Threshold\", fontsize=16)\n",
    "    plt.legend(loc=\"upper left\", fontsize=16)\n",
    "    plt.ylim([0, 1])\n",
    "\n",
    "\n",
    "plt.figure(figsize=(8, 4))\n",
    "plot_precision_recall_vs_threshold(precisions, recalls, thresholds)\n",
    "plt.xlim([-700000, 700000])\n",
    "save_fig(\"precision_recall_vs_threshold_plot\")\n",
    "plt.show()"
   ]
  },
  {
   "cell_type": "code",
   "execution_count": 39,
   "metadata": {
    "ExecuteTime": {
     "end_time": "2019-04-17T06:54:58.097547Z",
     "start_time": "2019-04-17T06:54:57.456177Z"
    }
   },
   "outputs": [
    {
     "name": "stdout",
     "output_type": "stream",
     "text": [
      "Saving figure precision_vs_recall_plot\n"
     ]
    },
    {
     "data": {
      "image/png": "[encoded data removed]",
      "text/plain": [
       "<Figure size 576x432 with 1 Axes>"
      ]
     },
     "metadata": {
      "needs_background": "light"
     },
     "output_type": "display_data"
    }
   ],
   "source": [
    "def plot_precision_vs_recall(precisions, recalls):\n",
    "    plt.plot(recalls,\n",
    "             precisions,\n",
    "             \"b-\",\n",
    "             linewidth=2)\n",
    "\n",
    "    plt.xlabel(\"Recall\", fontsize=16)\n",
    "    plt.ylabel(\"Precision\", fontsize=16)\n",
    "    plt.axis([0, 1, 0, 1])\n",
    "\n",
    "\n",
    "plt.figure(figsize=(8, 6))\n",
    "plot_precision_vs_recall(precisions, recalls)\n",
    "save_fig(\"precision_vs_recall_plot\")\n",
    "plt.show()"
   ]
  },
  {
   "cell_type": "markdown",
   "metadata": {},
   "source": [
    "你可以看到，在召回率为80%时，精度确实开始急剧下降。您可能希望在该下降之前选择精度/召回权衡 - 例如，召回率约为60％。 但当然，选择取决于您的项目。\n",
    "\n",
    "所以我们假设你决定瞄准90％的精度。 查看上一个图发现你需要使用大约70,000的阈值。 为了做预测（现在是在训练集上），如果不调用分类器的predict（）\n",
    "方法，你可以运行这段代码："
   ]
  },
  {
   "cell_type": "code",
   "execution_count": 40,
   "metadata": {
    "ExecuteTime": {
     "end_time": "2019-04-17T06:56:56.021214Z",
     "start_time": "2019-04-17T06:56:56.016054Z"
    }
   },
   "outputs": [],
   "source": [
    "y_train_pred_90 = (y_scores > 70000)"
   ]
  },
  {
   "cell_type": "code",
   "execution_count": 41,
   "metadata": {
    "ExecuteTime": {
     "end_time": "2019-04-17T06:57:14.064533Z",
     "start_time": "2019-04-17T06:57:14.032272Z"
    }
   },
   "outputs": [
    {
     "data": {
      "text/plain": [
       "0.876300316598824"
      ]
     },
     "execution_count": 41,
     "metadata": {},
     "output_type": "execute_result"
    }
   ],
   "source": [
    "precision_score(y_train_5, y_train_pred_90)"
   ]
  },
  {
   "cell_type": "code",
   "execution_count": 42,
   "metadata": {
    "ExecuteTime": {
     "end_time": "2019-04-17T06:57:29.936737Z",
     "start_time": "2019-04-17T06:57:29.904202Z"
    }
   },
   "outputs": [
    {
     "data": {
      "text/plain": [
       "0.7148127651724774"
      ]
     },
     "execution_count": 42,
     "metadata": {},
     "output_type": "execute_result"
    }
   ],
   "source": [
    "recall_score(y_train_5, y_train_pred_90)"
   ]
  },
  {
   "cell_type": "markdown",
   "metadata": {
    "ExecuteTime": {
     "end_time": "2019-04-17T06:57:37.718413Z",
     "start_time": "2019-04-17T06:57:37.712815Z"
    }
   },
   "source": [
    "太棒了，你有一个精度为90％的分类器（或足够接近）！正如您所看到的，创建一个几乎任何您想要的精度的分类器相当容易：只需设置足够高的阈值，就可以了。 嗯，没那么快。 如果召回率太低，高精度分类器就不是很有用了！"
   ]
  },
  {
   "cell_type": "markdown",
   "metadata": {},
   "source": [
    "### 3.4 ROC curves\n",
    "**receiver operating characteristic (ROC)** 曲线是二元分类器的另一种常用工具。\n",
    "* 它与精确度/召回曲线非常相似，但ROC曲线不是绘制精确度与召回率，而是绘制**true positive rate(TPR)** （召回的另一个名称）与**false positive rate(FPR)** \n",
    "* FPR是负面例子被错误归类为正面例子的比例。它等于**1 - true negative rate（TNR）**，即负面例子被正确归类为负面例子的比例。\n",
    "* TNR也称为**specificity**。 \n",
    "\n",
    "因此，ROC曲线绘制了**sensitivity**（召回）与 **1 – specificity** 。\n",
    "\n",
    "要绘制ROC曲线，首先需要使用**roc_curve（）**函数计算各种阈值的**TPR和FPR**："
   ]
  },
  {
   "cell_type": "code",
   "execution_count": 44,
   "metadata": {
    "ExecuteTime": {
     "end_time": "2019-04-17T07:24:02.225820Z",
     "start_time": "2019-04-17T07:24:02.190401Z"
    }
   },
   "outputs": [],
   "source": [
    "from sklearn.metrics import roc_curve\n",
    "\n",
    "fpr, tpr, thresholds = roc_curve(y_train_5, y_scores)"
   ]
  },
  {
   "cell_type": "code",
   "execution_count": 47,
   "metadata": {
    "ExecuteTime": {
     "end_time": "2019-04-17T07:27:04.699504Z",
     "start_time": "2019-04-17T07:27:04.173654Z"
    }
   },
   "outputs": [
    {
     "name": "stdout",
     "output_type": "stream",
     "text": [
      "Saving figure roc_curve_plot\n"
     ]
    },
    {
     "data": {
      "image/png": "[encoded data removed]",
      "text/plain": [
       "<Figure size 576x432 with 1 Axes>"
      ]
     },
     "metadata": {
      "needs_background": "light"
     },
     "output_type": "display_data"
    }
   ],
   "source": [
    "def plot_roc_curve(fpr, tpr, label=None):\n",
    "    plt.plot(fpr, tpr, linewidth=2, label=label)\n",
    "    plt.plot([0, 1], [0, 1], 'k--')\n",
    "    plt.axis([0, 1, 0, 1])\n",
    "    plt.xlabel('False Positive Rate', fontsize=16)\n",
    "    plt.ylabel('True Positive Rate', fontsize=16)\n",
    "\n",
    "\n",
    "plt.figure(figsize=(8, 6))\n",
    "plot_roc_curve(fpr, tpr)\n",
    "save_fig(\"roc_curve_plot\")\n",
    "plt.show()"
   ]
  },
  {
   "cell_type": "markdown",
   "metadata": {},
   "source": [
    "这里也有一个权衡：召回（TPR）越高，分类器产生的误报（FPR）越多。 **虚线表示纯随机分类器的ROC曲线**; 一个好的分类器尽可能远离该线（朝左上角）。\n",
    "\n",
    "比较分类器的一种方法是测量曲线下面积（AUC）。完美分类器的ROC AUC**等于1**，而纯随机分类器的ROC AUC**等于0.5**。 Scikit-Learn提供了计算ROC AUC的函数："
   ]
  },
  {
   "cell_type": "code",
   "execution_count": 48,
   "metadata": {
    "ExecuteTime": {
     "end_time": "2019-04-17T07:29:01.261527Z",
     "start_time": "2019-04-17T07:29:01.214638Z"
    }
   },
   "outputs": [
    {
     "data": {
      "text/plain": [
       "0.9630022681473017"
      ]
     },
     "execution_count": 48,
     "metadata": {},
     "output_type": "execute_result"
    }
   ],
   "source": [
    "from sklearn.metrics import roc_auc_score\n",
    "roc_auc_score(y_train_5, y_scores)"
   ]
  },
  {
   "cell_type": "markdown",
   "metadata": {
    "ExecuteTime": {
     "end_time": "2019-04-17T07:29:09.904754Z",
     "start_time": "2019-04-17T07:29:09.899270Z"
    }
   },
   "source": [
    "根据经验，每当**positiveclass** 很少或者你**更关心false positives**而不是**false negatives**时，我们更倾向于使用PR曲线，否则使用ROC曲线。"
   ]
  },
  {
   "cell_type": "markdown",
   "metadata": {},
   "source": [
    "# RandomForecastClassifier"
   ]
  },
  {
   "cell_type": "markdown",
   "metadata": {},
   "source": [
    "下面我们训练一个**RandomForestClassifier**并将它的ROC曲线和ROC AUC得分与**SGDClassifier**：\n",
    "\n",
    "* 首先，我们需要获得训练集中每个实例的分数。 \n",
    "* 但由于它的工作方式（见第7章），RandomForestClassi fier类没有decision_function（）方法。 \n",
    "* 相反，它有一个**predict_proba（）**方法。 Scikit-Learn分类器通常有一个或另一个。\n",
    "* **predict_proba（）**方法返回一个数组，这个数组的每一行包含一个实例，每一列代表一个类，每列包含给定实例属于给定类的概率（例如，图像内容表示5的概率为70％）："
   ]
  },
  {
   "cell_type": "code",
   "execution_count": 50,
   "metadata": {
    "ExecuteTime": {
     "end_time": "2019-04-17T07:44:47.402913Z",
     "start_time": "2019-04-17T07:44:37.206726Z"
    }
   },
   "outputs": [],
   "source": [
    "from sklearn.ensemble import RandomForestClassifier\n",
    "forest_clf = RandomForestClassifier(random_state=42)\n",
    "y_probas_forest = cross_val_predict(\n",
    "    forest_clf, X_train, y_train_5, cv=3, method='predict_proba')"
   ]
  },
  {
   "cell_type": "markdown",
   "metadata": {},
   "source": [
    "但要绘制ROC曲线，我们需要的是得分，而不是概率。 一个简单的解决方案是使用正类的概率作为分数"
   ]
  },
  {
   "cell_type": "code",
   "execution_count": 52,
   "metadata": {
    "ExecuteTime": {
     "end_time": "2019-04-17T07:46:14.443374Z",
     "start_time": "2019-04-17T07:46:14.422510Z"
    }
   },
   "outputs": [],
   "source": [
    "y_score_forest = y_probas_forest[:, 1]   # score = proba of positive class\n",
    "fpr_forest, tpr_forest, thresholds_forest = roc_curve(\n",
    "    y_train_5, y_score_forest)"
   ]
  },
  {
   "cell_type": "code",
   "execution_count": 53,
   "metadata": {
    "ExecuteTime": {
     "end_time": "2019-04-17T07:46:48.693100Z",
     "start_time": "2019-04-17T07:46:48.086775Z"
    }
   },
   "outputs": [
    {
     "name": "stdout",
     "output_type": "stream",
     "text": [
      "Saving figure roc_curve_comparison_plot\n"
     ]
    },
    {
     "data": {
      "image/png": "[encoded data removed]",
      "text/plain": [
       "<Figure size 576x432 with 1 Axes>"
      ]
     },
     "metadata": {
      "needs_background": "light"
     },
     "output_type": "display_data"
    }
   ],
   "source": [
    "# It is useful to plot the first ROC curve as well to see how they compare\n",
    "plt.figure(figsize=(8, 6))\n",
    "\n",
    "plt.plot(fpr,\n",
    "         tpr,\n",
    "         \"b:\",\n",
    "         linewidth=2, label=\"SGD\")\n",
    "\n",
    "plot_roc_curve(fpr_forest,\n",
    "               tpr_forest,\n",
    "               \"Random Forest\")\n",
    "\n",
    "plt.legend(loc=\"lower right\", fontsize=16)\n",
    "save_fig(\"roc_curve_comparison_plot\")\n",
    "plt.show()"
   ]
  },
  {
   "cell_type": "code",
   "execution_count": 54,
   "metadata": {
    "ExecuteTime": {
     "end_time": "2019-04-17T07:47:32.846822Z",
     "start_time": "2019-04-17T07:47:32.806744Z"
    }
   },
   "outputs": [
    {
     "data": {
      "text/plain": [
       "0.9930345243442976"
      ]
     },
     "execution_count": 54,
     "metadata": {},
     "output_type": "execute_result"
    }
   ],
   "source": [
    "roc_auc_score(y_train_5, y_score_forest)"
   ]
  },
  {
   "cell_type": "markdown",
   "metadata": {},
   "source": [
    " 从图中可以看到  **RandomForestClassifier** 的 ROC 曲线要比**SGDClassifier** 的看起来好多了: **it comes much closer to the top-left corner**.所以它的 ROC AUC score 明显的好很多"
   ]
  },
  {
   "cell_type": "markdown",
   "metadata": {
    "ExecuteTime": {
     "end_time": "2019-04-17T07:48:14.698795Z",
     "start_time": "2019-04-17T07:48:14.681798Z"
    }
   },
   "source": [
    "计算**precision and recall scores**"
   ]
  },
  {
   "cell_type": "code",
   "execution_count": 56,
   "metadata": {
    "ExecuteTime": {
     "end_time": "2019-04-17T07:49:21.227671Z",
     "start_time": "2019-04-17T07:49:13.446265Z"
    }
   },
   "outputs": [
    {
     "data": {
      "text/plain": [
       "0.9852422907488987"
      ]
     },
     "execution_count": 56,
     "metadata": {},
     "output_type": "execute_result"
    }
   ],
   "source": [
    "y_train_pred_forest = cross_val_predict(forest_clf, X_train, y_train_5, cv=3)\n",
    "precision_score(y_train_5, y_train_pred_forest)"
   ]
  },
  {
   "cell_type": "code",
   "execution_count": 57,
   "metadata": {
    "ExecuteTime": {
     "end_time": "2019-04-17T07:49:36.004433Z",
     "start_time": "2019-04-17T07:49:35.973757Z"
    }
   },
   "outputs": [
    {
     "data": {
      "text/plain": [
       "0.8251245157719977"
      ]
     },
     "execution_count": 57,
     "metadata": {},
     "output_type": "execute_result"
    }
   ],
   "source": [
    "recall_score(y_train_5, y_train_pred_forest)"
   ]
  },
  {
   "cell_type": "markdown",
   "metadata": {},
   "source": [
    "到现在我们已经知道如何训练二元分类器：\n",
    "* 为您的任务选择适当的指标，\n",
    "* 使用交叉验证评估您的分类器，\n",
    "* 选择适合您需求的精确/召回权衡，\n",
    "* 使用ROC曲线和ROC AUC分数比较各种模型。\n",
    "\n",
    "**以上我们尝试检测的仅仅是5s，这属于二分类，结果只有两个：是或者不是。现在我们来解决多分类的问题**"
   ]
  },
  {
   "cell_type": "markdown",
   "metadata": {
    "ExecuteTime": {
     "end_time": "2019-04-17T07:56:35.039431Z",
     "start_time": "2019-04-17T07:56:35.028544Z"
    }
   },
   "source": [
    "## 4.  Multiclass Classification-多类分类\n",
    "\n",
    "一些算法（例如随机森林分类器或朴素贝叶斯分类器）是能够直接处理多个类。其他算法（例如支持向量机分类器或线性分类器）则是严格的二元分类器。但是，您可以使用各种策略来使用多个二元分类器执行多类分类。\n",
    "\n",
    "例如：\n",
    "* 一种方法是创建一个通过训练10个二元分类器，进而可以将数字图像分类为10个类（从0到9）的系统，每个数字对应一个分类器（0检测器，1检测器，2检测器等等）。然后，当您想要对图像进行分类时，您将从该图像的每个分类器中获得决策分数，并选择其分类器输出分数最高的类。这被称为**one-versus-all (OvA)**策略（也称为**one-versus-the-rest**）。\n",
    "* 另一种方法是为**每对数字**训练一个二元分类器：一个用于区分0和1，另一个用于区分0和2，另一个用于区分1和2，依此类推。这称为**one-versus-one (OvO)** 策略。如果有N个类别，则需要训练**N×（N - 1）/ 2** 个分类器。对于MNIST问题，这意味着训练45个二元分类器！当您想要对图像进行分类时，您必须通过所有45个分类器运行图像，并查看哪个类赢得了最多的决斗。 OvO的**主要优点**是每个分类器只需要训练必须区分的两个类的训练集。\n",
    "\n",
    "Some algorithms (such as Support Vector Machine classifiers) scale poorly with the size of the training set,因此对于这些算法，OvO是优选的，**因为在小训练集上训练许多分类器比在大训练集上训练少量分类器更快**。然而，对于大多数二元分类算法，OvA是优选的。当您尝试将二元分类算法用于多类分类任务时，Scikit-Learn检测到，并自动运行OvA（除了使用OvO的SVM分类器）。 让我们用SGDClassifier尝试一下：\n",
    "\n"
   ]
  },
  {
   "cell_type": "code",
   "execution_count": 59,
   "metadata": {
    "ExecuteTime": {
     "end_time": "2019-04-17T07:58:03.153811Z",
     "start_time": "2019-04-17T07:57:59.116902Z"
    }
   },
   "outputs": [
    {
     "data": {
      "text/plain": [
       "array([5.])"
      ]
     },
     "execution_count": 59,
     "metadata": {},
     "output_type": "execute_result"
    }
   ],
   "source": [
    "sgd_clf.fit(X_train, y_train)\n",
    "sgd_clf.predict([some_digit])"
   ]
  },
  {
   "cell_type": "markdown",
   "metadata": {},
   "source": [
    "上面两行代码使用0到9（y_train）的原始目标类训练训练集上的SGDClassifier，而不是**5-versus-all**目标类（y_train_5）。然后它进行预测（在这种情况下是正确的）。在幕后，Scikit-Learn实际上训练了10个二元分类器，得到了他们对图像的决策分数，并选择了得分最高的类。\n",
    "\n",
    "要确定情况确实如此，您可以调用decision_function（）方法。它现在返回**10个分数**，每个类别一个，而不是每个实例仅返回一个分数："
   ]
  },
  {
   "cell_type": "code",
   "execution_count": 60,
   "metadata": {
    "ExecuteTime": {
     "end_time": "2019-04-17T07:58:27.694045Z",
     "start_time": "2019-04-17T07:58:27.686763Z"
    }
   },
   "outputs": [
    {
     "data": {
      "text/plain": [
       "array([[ -49955.59728381, -523313.91142958, -519861.42256581,\n",
       "          78611.77879849, -434542.55187476,   93102.35716829,\n",
       "        -746963.65575343, -229055.99507097, -649204.45797669,\n",
       "        -763290.57313065]])"
      ]
     },
     "execution_count": 60,
     "metadata": {},
     "output_type": "execute_result"
    }
   ],
   "source": [
    "some_digit_scores = sgd_clf.decision_function([some_digit])\n",
    "some_digit_scores"
   ]
  },
  {
   "cell_type": "code",
   "execution_count": 61,
   "metadata": {
    "ExecuteTime": {
     "end_time": "2019-04-17T08:02:33.455740Z",
     "start_time": "2019-04-17T08:02:33.448962Z"
    }
   },
   "outputs": [
    {
     "data": {
      "text/plain": [
       "5"
      ]
     },
     "execution_count": 61,
     "metadata": {},
     "output_type": "execute_result"
    }
   ],
   "source": [
    "np.argmax(some_digit_scores)"
   ]
  },
  {
   "cell_type": "code",
   "execution_count": 62,
   "metadata": {
    "ExecuteTime": {
     "end_time": "2019-04-17T08:02:54.195038Z",
     "start_time": "2019-04-17T08:02:54.189373Z"
    }
   },
   "outputs": [
    {
     "data": {
      "text/plain": [
       "array([0., 1., 2., 3., 4., 5., 6., 7., 8., 9.])"
      ]
     },
     "execution_count": 62,
     "metadata": {},
     "output_type": "execute_result"
    }
   ],
   "source": [
    "sgd_clf.classes_"
   ]
  },
  {
   "cell_type": "markdown",
   "metadata": {},
   "source": [
    "**一个分类器被训练好之后，会保存目标类别列表到它的属性class_中去，按照值排序**"
   ]
  },
  {
   "cell_type": "code",
   "execution_count": 63,
   "metadata": {
    "ExecuteTime": {
     "end_time": "2019-04-17T08:03:06.159009Z",
     "start_time": "2019-04-17T08:03:06.153177Z"
    }
   },
   "outputs": [
    {
     "data": {
      "text/plain": [
       "5.0"
      ]
     },
     "execution_count": 63,
     "metadata": {},
     "output_type": "execute_result"
    }
   ],
   "source": [
    "sgd_clf.classes_[5]"
   ]
  },
  {
   "cell_type": "markdown",
   "metadata": {},
   "source": [
    "如果您想强制让ScikitLearn使用一对一或一对一，您可以使用**OneVsOneClassifier**或**OneVsRestClassifier**类。只需创建一个实例并将二元分类器传递给它的构造函数。例如，下面的代码基于SGDClassifier使用OvO策略创建多类分类器："
   ]
  },
  {
   "cell_type": "code",
   "execution_count": 64,
   "metadata": {
    "ExecuteTime": {
     "end_time": "2019-04-17T08:06:35.950720Z",
     "start_time": "2019-04-17T08:06:30.955743Z"
    }
   },
   "outputs": [
    {
     "data": {
      "text/plain": [
       "array([5.])"
      ]
     },
     "execution_count": 64,
     "metadata": {},
     "output_type": "execute_result"
    }
   ],
   "source": [
    "from sklearn.multiclass import OneVsOneClassifier\n",
    "ovo_clf = OneVsOneClassifier(SGDClassifier(max_iter=5, random_state=42))\n",
    "ovo_clf.fit(X_train, y_train)\n",
    "ovo_clf.predict([some_digit])"
   ]
  },
  {
   "cell_type": "code",
   "execution_count": 65,
   "metadata": {
    "ExecuteTime": {
     "end_time": "2019-04-17T08:06:47.537381Z",
     "start_time": "2019-04-17T08:06:47.532434Z"
    }
   },
   "outputs": [
    {
     "data": {
      "text/plain": [
       "45"
      ]
     },
     "execution_count": 65,
     "metadata": {},
     "output_type": "execute_result"
    }
   ],
   "source": [
    "len(ovo_clf.estimators_)"
   ]
  },
  {
   "cell_type": "markdown",
   "metadata": {},
   "source": [
    "**训练一个RandomForestClassifier**"
   ]
  },
  {
   "cell_type": "code",
   "execution_count": 66,
   "metadata": {
    "ExecuteTime": {
     "end_time": "2019-04-17T08:08:39.754737Z",
     "start_time": "2019-04-17T08:08:34.972547Z"
    }
   },
   "outputs": [
    {
     "data": {
      "text/plain": [
       "array([5.])"
      ]
     },
     "execution_count": 66,
     "metadata": {},
     "output_type": "execute_result"
    }
   ],
   "source": [
    "forest_clf.fit(X_train, y_train)\n",
    "forest_clf.predict([some_digit])"
   ]
  },
  {
   "cell_type": "markdown",
   "metadata": {},
   "source": [
    "这次Scikit-Learn没有运行OvA或OvO，因为**随机森林分类器可以直接将实例分类为多个类**。我们可以调用**predict_proba（）**来获取分类器为每个类分配给每个实例的概率列表："
   ]
  },
  {
   "cell_type": "code",
   "execution_count": 67,
   "metadata": {
    "ExecuteTime": {
     "end_time": "2019-04-17T08:09:48.584772Z",
     "start_time": "2019-04-17T08:09:48.572205Z"
    }
   },
   "outputs": [
    {
     "data": {
      "text/plain": [
       "array([[0. , 0. , 0. , 0.2, 0. , 0.8, 0. , 0. , 0. , 0. ]])"
      ]
     },
     "execution_count": 67,
     "metadata": {},
     "output_type": "execute_result"
    }
   ],
   "source": [
    "forest_clf.predict_proba([some_digit])"
   ]
  },
  {
   "cell_type": "markdown",
   "metadata": {},
   "source": [
    "**使用cross_val_score 评估SGDClassifier 的精度**"
   ]
  },
  {
   "cell_type": "code",
   "execution_count": 70,
   "metadata": {
    "ExecuteTime": {
     "end_time": "2019-04-17T08:11:22.800765Z",
     "start_time": "2019-04-17T08:11:14.701242Z"
    },
    "scrolled": true
   },
   "outputs": [
    {
     "data": {
      "text/plain": [
       "array([0.84843031, 0.87229361, 0.83777567])"
      ]
     },
     "execution_count": 70,
     "metadata": {},
     "output_type": "execute_result"
    }
   ],
   "source": [
    "cross_val_score(sgd_clf, X_train, y_train, cv=3, scoring='accuracy')"
   ]
  },
  {
   "cell_type": "markdown",
   "metadata": {},
   "source": [
    "准确率超过80%，如果只是使用一个随机分类器，准确率只有10%，所以这不是一个很差的结果，但是我们可以做的更好，比如，对输入进行简单的缩放，可以将上面的准确率提高到90%："
   ]
  },
  {
   "cell_type": "code",
   "execution_count": 71,
   "metadata": {
    "ExecuteTime": {
     "end_time": "2019-04-17T08:13:33.398767Z",
     "start_time": "2019-04-17T08:12:59.324242Z"
    }
   },
   "outputs": [
    {
     "data": {
      "text/plain": [
       "array([0.90916817, 0.91129556, 0.91043657])"
      ]
     },
     "execution_count": 71,
     "metadata": {},
     "output_type": "execute_result"
    }
   ],
   "source": [
    "from sklearn.preprocessing import StandardScaler\n",
    "\n",
    "scaler = StandardScaler()\n",
    "X_train_scaled = scaler.fit_transform(X_train.astype(np.float64))\n",
    "cross_val_score(sgd_clf, X_train_scaled, y_train, cv=3, scoring=\"accuracy\")"
   ]
  },
  {
   "cell_type": "markdown",
   "metadata": {},
   "source": [
    "**Machine Learning Project Checklist**\n",
    "1. Frame the problem and look at the big picture\n",
    "2. Get the data\n",
    "3. Explore the data to gain insights\n",
    "4. Prepare the data to better expose the underlying data patterns to ML algorithms\n",
    "5. Explore many different models and short_list a great solution\n",
    "6. Fine-tune your models and combine them into a great solution\n",
    "7. Present your solution\n",
    "8. Launch, monitor and maintain your system "
   ]
  },
  {
   "cell_type": "markdown",
   "metadata": {},
   "source": [
    "## 5. Error Analysis-误差分析\n",
    "\n",
    "如果这是一个真实的项目，你将按照你的机器学习项目清单中的步骤：\n",
    "\n",
    "* 探索数据准备选项，\n",
    "* 尝试多个模型，\n",
    "* 筛选最好的模型\n",
    "* 使用**GridSearchCV**微调他们的超参数，\n",
    "\n",
    "正如我们在上一章中所做的那样，尽可能地自动化。在这里，我们假设您已找到一个有前途的模型，并且您想找到改进它的方法。 一种方法是分析它所犯的错误类型：\n",
    "\n",
    "* 首先，您可以查看混淆矩阵。您需要使用**cross_val_predict（）**函数进行预测，\n",
    "* 然后调用**confusion_matrix（）**函数，就像你之前做的那样："
   ]
  },
  {
   "cell_type": "code",
   "execution_count": 72,
   "metadata": {
    "ExecuteTime": {
     "end_time": "2019-04-17T08:48:28.739017Z",
     "start_time": "2019-04-17T08:48:17.537796Z"
    }
   },
   "outputs": [
    {
     "data": {
      "text/plain": [
       "array([[5732,    2,   20,   12,   11,   44,   48,    9,   42,    3],\n",
       "       [   2, 6476,   47,   22,    5,   43,    5,    8,  121,   13],\n",
       "       [  56,   39, 5331,   91,   83,   27,  100,   56,  160,   15],\n",
       "       [  49,   38,  148, 5322,    2,  234,   33,   57,  151,   97],\n",
       "       [  23,   24,   40,    8, 5361,    7,   47,   26,   85,  221],\n",
       "       [  73,   37,   36,  187,   71, 4611,  110,   24,  178,   94],\n",
       "       [  33,   22,   42,    1,   36,  104, 5629,    6,   45,    0],\n",
       "       [  22,   23,   74,   24,   50,   10,    6, 5813,   15,  228],\n",
       "       [  49,  140,   78,  147,   13,  160,   56,   25, 5041,  142],\n",
       "       [  46,   31,   23,   80,  141,   30,    2,  208,   86, 5302]])"
      ]
     },
     "execution_count": 72,
     "metadata": {},
     "output_type": "execute_result"
    }
   ],
   "source": [
    "y_train_pred = cross_val_predict(sgd_clf, X_train_scaled, y_train, cv=3)\n",
    "conf_mx = confusion_matrix(y_train, y_train_pred)\n",
    "conf_mx"
   ]
  },
  {
   "cell_type": "markdown",
   "metadata": {},
   "source": [
    "使用Matplotlib的**matshow（）**函数来查看表示混淆矩阵的图像通常更方便："
   ]
  },
  {
   "cell_type": "code",
   "execution_count": 73,
   "metadata": {
    "ExecuteTime": {
     "end_time": "2019-04-17T08:49:05.476817Z",
     "start_time": "2019-04-17T08:49:05.473206Z"
    }
   },
   "outputs": [],
   "source": [
    "def plot_confusion_matrix(matrix):\n",
    "    \"\"\"If you prefer color and a colorbar\"\"\"\n",
    "    fig = plt.figure(figsize=(8, 8))\n",
    "    ax = fig.add_subplot(111)\n",
    "    cax = ax.matshow(matrix)\n",
    "    fig.colorbar(cax)"
   ]
  },
  {
   "cell_type": "code",
   "execution_count": 74,
   "metadata": {
    "ExecuteTime": {
     "end_time": "2019-04-17T08:49:54.961623Z",
     "start_time": "2019-04-17T08:49:54.371215Z"
    }
   },
   "outputs": [
    {
     "name": "stdout",
     "output_type": "stream",
     "text": [
      "Saving figure confusion_matrix_plot\n"
     ]
    },
    {
     "data": {
      "image/png": "[encoded data removed]",
      "text/plain": [
       "<Figure size 288x288 with 1 Axes>"
      ]
     },
     "metadata": {
      "needs_background": "light"
     },
     "output_type": "display_data"
    }
   ],
   "source": [
    "plt.matshow(conf_mx, cmap=plt.cm.gray)\n",
    "save_fig('confusion_matrix_plot', tight_layout=False)\n",
    "plt.show()"
   ]
  },
  {
   "cell_type": "markdown",
   "metadata": {},
   "source": [
    "这个混淆矩阵看起来相当不错，因为大多数图像都在主对角线上，这意味着他们被正确分类。5s看起来比其他数字稍暗，这可能意味着数据集中5s的图像较少，或者分类器在5s上的表现不如其他数字。 实际上，您可以验证两者都是如此。\n",
    "\n",
    "让我们把重点放在错误上：\n",
    "* 首先，您需要将混淆矩阵中的每个值除以相应类中的图像数量，这样您就可以比较错误率而不是绝对错误数（这会使丰富的类看起来不那么坏）："
   ]
  },
  {
   "cell_type": "code",
   "execution_count": 75,
   "metadata": {
    "ExecuteTime": {
     "end_time": "2019-04-17T10:32:49.164071Z",
     "start_time": "2019-04-17T10:32:49.159343Z"
    }
   },
   "outputs": [],
   "source": [
    "row_sums = conf_mx.sum(axis=1, keepdims=True)\n",
    "norm_conf_mx = conf_mx / row_sums"
   ]
  },
  {
   "cell_type": "code",
   "execution_count": 77,
   "metadata": {
    "ExecuteTime": {
     "end_time": "2019-04-17T10:34:08.348575Z",
     "start_time": "2019-04-17T10:34:07.955408Z"
    }
   },
   "outputs": [
    {
     "name": "stdout",
     "output_type": "stream",
     "text": [
      "Saving figure confusion_matrix_errors_plot\n"
     ]
    },
    {
     "data": {
      "image/png": "[encoded data removed]",
      "text/plain": [
       "<Figure size 288x288 with 1 Axes>"
      ]
     },
     "metadata": {
      "needs_background": "light"
     },
     "output_type": "display_data"
    }
   ],
   "source": [
    "np.fill_diagonal(norm_conf_mx, 0)\n",
    "\n",
    "plt.matshow(norm_conf_mx, cmap=plt.cm.gray)\n",
    "save_fig('confusion_matrix_errors_plot', tight_layout=False)\n",
    "plt.show()"
   ]
  },
  {
   "cell_type": "markdown",
   "metadata": {
    "ExecuteTime": {
     "end_time": "2019-04-17T10:38:33.623082Z",
     "start_time": "2019-04-17T10:38:33.602526Z"
    }
   },
   "source": [
    "现在我们可以清楚地看到分类器产生的错误类型。需要记住的是，**行表示实际的类**，而**列表示预测的类**：\n",
    "* 类8和9所在的**列**非常明亮，它告诉您许多图像被错误分类为8或9。\n",
    "* 类似地，类8和9所在的**行**也非常明亮，告诉你8s和9s经常与其他数字混淆。\n",
    "\n",
    "相反，有些**行**非常暗：\n",
    "* 例如第1行：这意味着大多数1都被正确分类（少数与8s混淆，但这就是它）。\n",
    "\n",
    "请注意，错误并不完全对称：\n",
    "* 例如，有更多的5被错误分类为8s而不是更多的8 被分类为5。\n",
    "\n",
    "分析混淆矩阵通常可以为您改进分类方法提供见解。根据这个图，我们的注意力似乎应该花在改进上分类8s和9s上，以及修复特定的3/5混乱的情况：\n",
    "* 例如，您可以尝试为这些数字收集更多训练数据\n",
    "* 或者您可以设计有助于分类器的新特征 - 例如，编写算法来计算闭环的数量（例如，8有两个，6有一个，5没有）。\n",
    "* 或者您可以预处理图像（例如，使用Scikit-Image，Pillow或OpenCV）使某些图案更突出，例如闭环。\n",
    "\n",
    "**分析个别错误**也可以是一个很好的方式来获得你的分类器正在做什么以及它失败的原因的见解，但它**更困难和耗时**。例如，让我们以绘制3s和5s为例："
   ]
  },
  {
   "cell_type": "markdown",
   "metadata": {},
   "source": []
  },
  {
   "cell_type": "code",
   "execution_count": 81,
   "metadata": {
    "ExecuteTime": {
     "end_time": "2019-04-17T10:41:14.959677Z",
     "start_time": "2019-04-17T10:41:14.018839Z"
    },
    "scrolled": false
   },
   "outputs": [
    {
     "name": "stdout",
     "output_type": "stream",
     "text": [
      "Saving figure error_analysis_digits_plot\n"
     ]
    },
    {
     "data": {
      "image/png": "[encoded data removed]",
      "text/plain": [
       "<Figure size 576x576 with 4 Axes>"
      ]
     },
     "metadata": {
      "needs_background": "light"
     },
     "output_type": "display_data"
    }
   ],
   "source": [
    "cl_a, cl_b = 3, 5\n",
    "X_aa = X_train[(y_train == cl_a) & (y_train_pred == cl_a)]\n",
    "X_ab = X_train[(y_train == cl_a) & (y_train_pred == cl_b)]\n",
    "X_ba = X_train[(y_train == cl_b) & (y_train_pred == cl_a)]\n",
    "X_bb = X_train[(y_train == cl_b) & (y_train_pred == cl_b)]\n",
    "\n",
    "\n",
    "# EXTRA\n",
    "def plot_digits(instances, images_per_row=10, **options):\n",
    "    size = 28\n",
    "    images_per_row = min(len(instances), images_per_row)\n",
    "    images = [instance.reshape(size,size) for instance in instances]\n",
    "    n_rows = (len(instances) - 1) // images_per_row + 1\n",
    "    row_images = []\n",
    "    n_empty = n_rows * images_per_row - len(instances)\n",
    "    images.append(np.zeros((size, size * n_empty)))\n",
    "    for row in range(n_rows):\n",
    "        rimages = images[row * images_per_row : (row + 1) * images_per_row]\n",
    "        row_images.append(np.concatenate(rimages, axis=1))\n",
    "    image = np.concatenate(row_images, axis=0)\n",
    "    plt.imshow(image, cmap = matplotlib.cm.binary, **options)\n",
    "    plt.axis(\"off\")\n",
    "\n",
    "\n",
    "plt.figure(figsize=(8, 8))\n",
    "plt.subplot(221)\n",
    "plot_digits(X_aa[:25], images_per_row=5)\n",
    "plt.subplot(222)\n",
    "plot_digits(X_ab[:25], images_per_row=5)\n",
    "plt.subplot(223)\n",
    "plot_digits(X_ba[:25], images_per_row=5)\n",
    "plt.subplot(224)\n",
    "plot_digits(X_bb[:25], images_per_row=5)\n",
    "save_fig(\"error_analysis_digits_plot\")\n",
    "plt.show()"
   ]
  },
  {
   "cell_type": "markdown",
   "metadata": {},
   "source": [
    "左侧的两个5×5块显示分类为3的数字，右侧两个5×5块显示图像分类为5s。分类器出错的一些数字（即，在左下方和右上方的区域中）写得非常糟糕，甚至是人类将它们分类都有困难（例如，第8行和第1列的5真正看起来像3）。\n",
    "\n",
    "然而，大多数错误分类的图像对我们来说似乎是明显的错误，并且很难理解分类器为什么会犯错误。**原因**是我们使用了一个简单的SGDClassifier，它是一个线性模型。它所做的只是为每个像素分配每个类别的权重，当它看到一个新图像时，它**只是将加权像素强度相加得到每个类别的分数**。因此，**由于3s和5s仅相差几个像素**，因此该模型很容易混淆它们。\n",
    "\n",
    "3s和5s之间的主要区别在于连接的小线的位置顶部到底部弧线。如果你绘制一个3，结点稍微偏向左边，分类器可能将其分类为5，反之亦然。换句话说，这个分类器是对图像位移和旋转非常敏感。所以减少3/5混乱的一种方法将是预处理图像，以确保它们很好地居中，而不是旋转。这可能有助于减少其他错误。"
   ]
  },
  {
   "cell_type": "markdown",
   "metadata": {},
   "source": [
    "## 6.  Multilabel classification-多标签分类\n",
    "\n",
    "到目前为止，每个实例始终只分配给一个类。 在某些情况下，您可能希望分类器为每个实例输出多个类。例如，考虑一个人脸识别分类器：如果它识别出同一张图片中的几个人，该怎么办？ 当然，每个被识别的人应附上一个标签。假设分类器已被训练以识别三个面孔：Alice，Bob和Charlie; 然后当它显示Alice和Charlie的图片时，它应该输出**[1,0,1**]（意思是“Alice yes，Bob no，Charlie yes”）。 这种输出多个二元标记的分类系统称为**多标记分类系统**。\n",
    "\n",
    "我们暂时不会进行面部识别，但让我们看一个更简单的例子，仅用于说明目的："
   ]
  },
  {
   "cell_type": "code",
   "execution_count": 82,
   "metadata": {
    "ExecuteTime": {
     "end_time": "2019-04-17T11:02:46.426905Z",
     "start_time": "2019-04-17T11:02:15.842397Z"
    }
   },
   "outputs": [
    {
     "data": {
      "text/plain": [
       "KNeighborsClassifier(algorithm='auto', leaf_size=30, metric='minkowski',\n",
       "           metric_params=None, n_jobs=None, n_neighbors=5, p=2,\n",
       "           weights='uniform')"
      ]
     },
     "execution_count": 82,
     "metadata": {},
     "output_type": "execute_result"
    }
   ],
   "source": [
    "from sklearn.neighbors import KNeighborsClassifier\n",
    "import numpy as np\n",
    "\n",
    "y_train_large = (y_train >= 7)\n",
    "y_train_odd = (y_train % 2 == 1)\n",
    "y_multilabel = np.c_[y_train_large, y_train_odd]\n",
    "\n",
    "knn_clf = KNeighborsClassifier()\n",
    "knn_clf.fit(X_train, y_multilabel)"
   ]
  },
  {
   "cell_type": "markdown",
   "metadata": {},
   "source": [
    "此代码创建一个**y_multilabel**数组，这个数组包含每个数字图像的两个目标标签：第一个指示数字是否大（7,8或9），第二个表示它是否是奇数。 下一行创建一个**KNeighborsClassifier**实例（支持多标签分类，但不是所有分类器都支持），我们使用多个目标数组训练它。 现在您可以进行预测，并注意它输出的**两个标签**："
   ]
  },
  {
   "cell_type": "code",
   "execution_count": 83,
   "metadata": {
    "ExecuteTime": {
     "end_time": "2019-04-17T11:03:53.118017Z",
     "start_time": "2019-04-17T11:03:53.042281Z"
    },
    "scrolled": true
   },
   "outputs": [
    {
     "name": "stdout",
     "output_type": "stream",
     "text": [
      "Help on CClass in module numpy.lib.index_tricks object:\n",
      "\n",
      "class CClass(AxisConcatenator)\n",
      " |  Translates slice objects to concatenation along the second axis.\n",
      " |  \n",
      " |  This is short-hand for ``np.r_['-1,2,0', index expression]``, which is\n",
      " |  useful because of its common occurrence. In particular, arrays will be\n",
      " |  stacked along their last axis after being upgraded to at least 2-D with\n",
      " |  1's post-pended to the shape (column vectors made out of 1-D arrays).\n",
      " |  \n",
      " |  See Also\n",
      " |  --------\n",
      " |  column_stack : Stack 1-D arrays as columns into a 2-D array.\n",
      " |  r_ : For more detailed documentation.\n",
      " |  \n",
      " |  Examples\n",
      " |  --------\n",
      " |  >>> np.c_[np.array([1,2,3]), np.array([4,5,6])]\n",
      " |  array([[1, 4],\n",
      " |         [2, 5],\n",
      " |         [3, 6]])\n",
      " |  >>> np.c_[np.array([[1,2,3]]), 0, 0, np.array([[4,5,6]])]\n",
      " |  array([[1, 2, 3, 0, 0, 4, 5, 6]])\n",
      " |  \n",
      " |  Method resolution order:\n",
      " |      CClass\n",
      " |      AxisConcatenator\n",
      " |      builtins.object\n",
      " |  \n",
      " |  Methods defined here:\n",
      " |  \n",
      " |  __init__(self)\n",
      " |      Initialize self.  See help(type(self)) for accurate signature.\n",
      " |  \n",
      " |  ----------------------------------------------------------------------\n",
      " |  Methods inherited from AxisConcatenator:\n",
      " |  \n",
      " |  __getitem__(self, key)\n",
      " |  \n",
      " |  __len__(self)\n",
      " |  \n",
      " |  ----------------------------------------------------------------------\n",
      " |  Static methods inherited from AxisConcatenator:\n",
      " |  \n",
      " |  concatenate(...)\n",
      " |      concatenate((a1, a2, ...), axis=0, out=None)\n",
      " |      \n",
      " |      Join a sequence of arrays along an existing axis.\n",
      " |      \n",
      " |      Parameters\n",
      " |      ----------\n",
      " |      a1, a2, ... : sequence of array_like\n",
      " |          The arrays must have the same shape, except in the dimension\n",
      " |          corresponding to `axis` (the first, by default).\n",
      " |      axis : int, optional\n",
      " |          The axis along which the arrays will be joined.  If axis is None,\n",
      " |          arrays are flattened before use.  Default is 0.\n",
      " |      out : ndarray, optional\n",
      " |          If provided, the destination to place the result. The shape must be\n",
      " |          correct, matching that of what concatenate would have returned if no\n",
      " |          out argument were specified.\n",
      " |      \n",
      " |      Returns\n",
      " |      -------\n",
      " |      res : ndarray\n",
      " |          The concatenated array.\n",
      " |      \n",
      " |      See Also\n",
      " |      --------\n",
      " |      ma.concatenate : Concatenate function that preserves input masks.\n",
      " |      array_split : Split an array into multiple sub-arrays of equal or\n",
      " |                    near-equal size.\n",
      " |      split : Split array into a list of multiple sub-arrays of equal size.\n",
      " |      hsplit : Split array into multiple sub-arrays horizontally (column wise)\n",
      " |      vsplit : Split array into multiple sub-arrays vertically (row wise)\n",
      " |      dsplit : Split array into multiple sub-arrays along the 3rd axis (depth).\n",
      " |      stack : Stack a sequence of arrays along a new axis.\n",
      " |      hstack : Stack arrays in sequence horizontally (column wise)\n",
      " |      vstack : Stack arrays in sequence vertically (row wise)\n",
      " |      dstack : Stack arrays in sequence depth wise (along third dimension)\n",
      " |      \n",
      " |      Notes\n",
      " |      -----\n",
      " |      When one or more of the arrays to be concatenated is a MaskedArray,\n",
      " |      this function will return a MaskedArray object instead of an ndarray,\n",
      " |      but the input masks are *not* preserved. In cases where a MaskedArray\n",
      " |      is expected as input, use the ma.concatenate function from the masked\n",
      " |      array module instead.\n",
      " |      \n",
      " |      Examples\n",
      " |      --------\n",
      " |      >>> a = np.array([[1, 2], [3, 4]])\n",
      " |      >>> b = np.array([[5, 6]])\n",
      " |      >>> np.concatenate((a, b), axis=0)\n",
      " |      array([[1, 2],\n",
      " |             [3, 4],\n",
      " |             [5, 6]])\n",
      " |      >>> np.concatenate((a, b.T), axis=1)\n",
      " |      array([[1, 2, 5],\n",
      " |             [3, 4, 6]])\n",
      " |      >>> np.concatenate((a, b), axis=None)\n",
      " |      array([1, 2, 3, 4, 5, 6])\n",
      " |      \n",
      " |      This function will not preserve masking of MaskedArray inputs.\n",
      " |      \n",
      " |      >>> a = np.ma.arange(3)\n",
      " |      >>> a[1] = np.ma.masked\n",
      " |      >>> b = np.arange(2, 5)\n",
      " |      >>> a\n",
      " |      masked_array(data = [0 -- 2],\n",
      " |                   mask = [False  True False],\n",
      " |             fill_value = 999999)\n",
      " |      >>> b\n",
      " |      array([2, 3, 4])\n",
      " |      >>> np.concatenate([a, b])\n",
      " |      masked_array(data = [0 1 2 2 3 4],\n",
      " |                   mask = False,\n",
      " |             fill_value = 999999)\n",
      " |      >>> np.ma.concatenate([a, b])\n",
      " |      masked_array(data = [0 -- 2 2 3 4],\n",
      " |                   mask = [False  True False False False False],\n",
      " |             fill_value = 999999)\n",
      " |  \n",
      " |  makemat = class matrix(numpy.ndarray)\n",
      " |   |  makemat(data, dtype=None, copy=True)\n",
      " |   |  \n",
      " |   |  matrix(data, dtype=None, copy=True)\n",
      " |   |  \n",
      " |   |  .. note:: It is no longer recommended to use this class, even for linear\n",
      " |   |            algebra. Instead use regular arrays. The class may be removed\n",
      " |   |            in the future.\n",
      " |   |  \n",
      " |   |  Returns a matrix from an array-like object, or from a string of data.\n",
      " |   |  A matrix is a specialized 2-D array that retains its 2-D nature\n",
      " |   |  through operations.  It has certain special operators, such as ``*``\n",
      " |   |  (matrix multiplication) and ``**`` (matrix power).\n",
      " |   |  \n",
      " |   |  Parameters\n",
      " |   |  ----------\n",
      " |   |  data : array_like or string\n",
      " |   |     If `data` is a string, it is interpreted as a matrix with commas\n",
      " |   |     or spaces separating columns, and semicolons separating rows.\n",
      " |   |  dtype : data-type\n",
      " |   |     Data-type of the output matrix.\n",
      " |   |  copy : bool\n",
      " |   |     If `data` is already an `ndarray`, then this flag determines\n",
      " |   |     whether the data is copied (the default), or whether a view is\n",
      " |   |     constructed.\n",
      " |   |  \n",
      " |   |  See Also\n",
      " |   |  --------\n",
      " |   |  array\n",
      " |   |  \n",
      " |   |  Examples\n",
      " |   |  --------\n",
      " |   |  >>> a = np.matrix('1 2; 3 4')\n",
      " |   |  >>> print(a)\n",
      " |   |  [[1 2]\n",
      " |   |   [3 4]]\n",
      " |   |  \n",
      " |   |  >>> np.matrix([[1, 2], [3, 4]])\n",
      " |   |  matrix([[1, 2],\n",
      " |   |          [3, 4]])\n",
      " |   |  \n",
      " |   |  Method resolution order:\n",
      " |   |      matrix\n",
      " |   |      numpy.ndarray\n",
      " |   |      builtins.object\n",
      " |   |  \n",
      " |   |  Methods defined here:\n",
      " |   |  \n",
      " |   |  __array_finalize__(self, obj)\n",
      " |   |      None.\n",
      " |   |  \n",
      " |   |  __getitem__(self, index)\n",
      " |   |      Return self[key].\n",
      " |   |  \n",
      " |   |  __imul__(self, other)\n",
      " |   |      Return self*=value.\n",
      " |   |  \n",
      " |   |  __ipow__(self, other)\n",
      " |   |      Return self**=value.\n",
      " |   |  \n",
      " |   |  __mul__(self, other)\n",
      " |   |      Return self*value.\n",
      " |   |  \n",
      " |   |  __pow__(self, other)\n",
      " |   |      Return pow(self, value, mod).\n",
      " |   |  \n",
      " |   |  __rmul__(self, other)\n",
      " |   |      Return value*self.\n",
      " |   |  \n",
      " |   |  __rpow__(self, other)\n",
      " |   |      Return pow(value, self, mod).\n",
      " |   |  \n",
      " |   |  all(self, axis=None, out=None)\n",
      " |   |      Test whether all matrix elements along a given axis evaluate to True.\n",
      " |   |      \n",
      " |   |      Parameters\n",
      " |   |      ----------\n",
      " |   |      See `numpy.all` for complete descriptions\n",
      " |   |      \n",
      " |   |      See Also\n",
      " |   |      --------\n",
      " |   |      numpy.all\n",
      " |   |      \n",
      " |   |      Notes\n",
      " |   |      -----\n",
      " |   |      This is the same as `ndarray.all`, but it returns a `matrix` object.\n",
      " |   |      \n",
      " |   |      Examples\n",
      " |   |      --------\n",
      " |   |      >>> x = np.matrix(np.arange(12).reshape((3,4))); x\n",
      " |   |      matrix([[ 0,  1,  2,  3],\n",
      " |   |              [ 4,  5,  6,  7],\n",
      " |   |              [ 8,  9, 10, 11]])\n",
      " |   |      >>> y = x[0]; y\n",
      " |   |      matrix([[0, 1, 2, 3]])\n",
      " |   |      >>> (x == y)\n",
      " |   |      matrix([[ True,  True,  True,  True],\n",
      " |   |              [False, False, False, False],\n",
      " |   |              [False, False, False, False]])\n",
      " |   |      >>> (x == y).all()\n",
      " |   |      False\n",
      " |   |      >>> (x == y).all(0)\n",
      " |   |      matrix([[False, False, False, False]])\n",
      " |   |      >>> (x == y).all(1)\n",
      " |   |      matrix([[ True],\n",
      " |   |              [False],\n",
      " |   |              [False]])\n",
      " |   |  \n",
      " |   |  any(self, axis=None, out=None)\n",
      " |   |      Test whether any array element along a given axis evaluates to True.\n",
      " |   |      \n",
      " |   |      Refer to `numpy.any` for full documentation.\n",
      " |   |      \n",
      " |   |      Parameters\n",
      " |   |      ----------\n",
      " |   |      axis : int, optional\n",
      " |   |          Axis along which logical OR is performed\n",
      " |   |      out : ndarray, optional\n",
      " |   |          Output to existing array instead of creating new one, must have\n",
      " |   |          same shape as expected output\n",
      " |   |      \n",
      " |   |      Returns\n",
      " |   |      -------\n",
      " |   |          any : bool, ndarray\n",
      " |   |              Returns a single bool if `axis` is ``None``; otherwise,\n",
      " |   |              returns `ndarray`\n",
      " |   |  \n",
      " |   |  argmax(self, axis=None, out=None)\n",
      " |   |      Indexes of the maximum values along an axis.\n",
      " |   |      \n",
      " |   |      Return the indexes of the first occurrences of the maximum values\n",
      " |   |      along the specified axis.  If axis is None, the index is for the\n",
      " |   |      flattened matrix.\n",
      " |   |      \n",
      " |   |      Parameters\n",
      " |   |      ----------\n",
      " |   |      See `numpy.argmax` for complete descriptions\n",
      " |   |      \n",
      " |   |      See Also\n",
      " |   |      --------\n",
      " |   |      numpy.argmax\n",
      " |   |      \n",
      " |   |      Notes\n",
      " |   |      -----\n",
      " |   |      This is the same as `ndarray.argmax`, but returns a `matrix` object\n",
      " |   |      where `ndarray.argmax` would return an `ndarray`.\n",
      " |   |      \n",
      " |   |      Examples\n",
      " |   |      --------\n",
      " |   |      >>> x = np.matrix(np.arange(12).reshape((3,4))); x\n",
      " |   |      matrix([[ 0,  1,  2,  3],\n",
      " |   |              [ 4,  5,  6,  7],\n",
      " |   |              [ 8,  9, 10, 11]])\n",
      " |   |      >>> x.argmax()\n",
      " |   |      11\n",
      " |   |      >>> x.argmax(0)\n",
      " |   |      matrix([[2, 2, 2, 2]])\n",
      " |   |      >>> x.argmax(1)\n",
      " |   |      matrix([[3],\n",
      " |   |              [3],\n",
      " |   |              [3]])\n",
      " |   |  \n",
      " |   |  argmin(self, axis=None, out=None)\n",
      " |   |      Indexes of the minimum values along an axis.\n",
      " |   |      \n",
      " |   |      Return the indexes of the first occurrences of the minimum values\n",
      " |   |      along the specified axis.  If axis is None, the index is for the\n",
      " |   |      flattened matrix.\n",
      " |   |      \n",
      " |   |      Parameters\n",
      " |   |      ----------\n",
      " |   |      See `numpy.argmin` for complete descriptions.\n",
      " |   |      \n",
      " |   |      See Also\n",
      " |   |      --------\n",
      " |   |      numpy.argmin\n",
      " |   |      \n",
      " |   |      Notes\n",
      " |   |      -----\n",
      " |   |      This is the same as `ndarray.argmin`, but returns a `matrix` object\n",
      " |   |      where `ndarray.argmin` would return an `ndarray`.\n",
      " |   |      \n",
      " |   |      Examples\n",
      " |   |      --------\n",
      " |   |      >>> x = -np.matrix(np.arange(12).reshape((3,4))); x\n",
      " |   |      matrix([[  0,  -1,  -2,  -3],\n",
      " |   |              [ -4,  -5,  -6,  -7],\n",
      " |   |              [ -8,  -9, -10, -11]])\n",
      " |   |      >>> x.argmin()\n",
      " |   |      11\n",
      " |   |      >>> x.argmin(0)\n",
      " |   |      matrix([[2, 2, 2, 2]])\n",
      " |   |      >>> x.argmin(1)\n",
      " |   |      matrix([[3],\n",
      " |   |              [3],\n",
      " |   |              [3]])\n",
      " |   |  \n",
      " |   |  flatten(self, order='C')\n",
      " |   |      Return a flattened copy of the matrix.\n",
      " |   |      \n",
      " |   |      All `N` elements of the matrix are placed into a single row.\n",
      " |   |      \n",
      " |   |      Parameters\n",
      " |   |      ----------\n",
      " |   |      order : {'C', 'F', 'A', 'K'}, optional\n",
      " |   |          'C' means to flatten in row-major (C-style) order. 'F' means to\n",
      " |   |          flatten in column-major (Fortran-style) order. 'A' means to\n",
      " |   |          flatten in column-major order if `m` is Fortran *contiguous* in\n",
      " |   |          memory, row-major order otherwise. 'K' means to flatten `m` in\n",
      " |   |          the order the elements occur in memory. The default is 'C'.\n",
      " |   |      \n",
      " |   |      Returns\n",
      " |   |      -------\n",
      " |   |      y : matrix\n",
      " |   |          A copy of the matrix, flattened to a `(1, N)` matrix where `N`\n",
      " |   |          is the number of elements in the original matrix.\n",
      " |   |      \n",
      " |   |      See Also\n",
      " |   |      --------\n",
      " |   |      ravel : Return a flattened array.\n",
      " |   |      flat : A 1-D flat iterator over the matrix.\n",
      " |   |      \n",
      " |   |      Examples\n",
      " |   |      --------\n",
      " |   |      >>> m = np.matrix([[1,2], [3,4]])\n",
      " |   |      >>> m.flatten()\n",
      " |   |      matrix([[1, 2, 3, 4]])\n",
      " |   |      >>> m.flatten('F')\n",
      " |   |      matrix([[1, 3, 2, 4]])\n",
      " |   |  \n",
      " |   |  getA(self)\n",
      " |   |      Return `self` as an `ndarray` object.\n",
      " |   |      \n",
      " |   |      Equivalent to ``np.asarray(self)``.\n",
      " |   |      \n",
      " |   |      Parameters\n",
      " |   |      ----------\n",
      " |   |      None\n",
      " |   |      \n",
      " |   |      Returns\n",
      " |   |      -------\n",
      " |   |      ret : ndarray\n",
      " |   |          `self` as an `ndarray`\n",
      " |   |      \n",
      " |   |      Examples\n",
      " |   |      --------\n",
      " |   |      >>> x = np.matrix(np.arange(12).reshape((3,4))); x\n",
      " |   |      matrix([[ 0,  1,  2,  3],\n",
      " |   |              [ 4,  5,  6,  7],\n",
      " |   |              [ 8,  9, 10, 11]])\n",
      " |   |      >>> x.getA()\n",
      " |   |      array([[ 0,  1,  2,  3],\n",
      " |   |             [ 4,  5,  6,  7],\n",
      " |   |             [ 8,  9, 10, 11]])\n",
      " |   |  \n",
      " |   |  getA1(self)\n",
      " |   |      Return `self` as a flattened `ndarray`.\n",
      " |   |      \n",
      " |   |      Equivalent to ``np.asarray(x).ravel()``\n",
      " |   |      \n",
      " |   |      Parameters\n",
      " |   |      ----------\n",
      " |   |      None\n",
      " |   |      \n",
      " |   |      Returns\n",
      " |   |      -------\n",
      " |   |      ret : ndarray\n",
      " |   |          `self`, 1-D, as an `ndarray`\n",
      " |   |      \n",
      " |   |      Examples\n",
      " |   |      --------\n",
      " |   |      >>> x = np.matrix(np.arange(12).reshape((3,4))); x\n",
      " |   |      matrix([[ 0,  1,  2,  3],\n",
      " |   |              [ 4,  5,  6,  7],\n",
      " |   |              [ 8,  9, 10, 11]])\n",
      " |   |      >>> x.getA1()\n",
      " |   |      array([ 0,  1,  2,  3,  4,  5,  6,  7,  8,  9, 10, 11])\n",
      " |   |  \n",
      " |   |  getH(self)\n",
      " |   |      Returns the (complex) conjugate transpose of `self`.\n",
      " |   |      \n",
      " |   |      Equivalent to ``np.transpose(self)`` if `self` is real-valued.\n",
      " |   |      \n",
      " |   |      Parameters\n",
      " |   |      ----------\n",
      " |   |      None\n",
      " |   |      \n",
      " |   |      Returns\n",
      " |   |      -------\n",
      " |   |      ret : matrix object\n",
      " |   |          complex conjugate transpose of `self`\n",
      " |   |      \n",
      " |   |      Examples\n",
      " |   |      --------\n",
      " |   |      >>> x = np.matrix(np.arange(12).reshape((3,4)))\n",
      " |   |      >>> z = x - 1j*x; z\n",
      " |   |      matrix([[  0. +0.j,   1. -1.j,   2. -2.j,   3. -3.j],\n",
      " |   |              [  4. -4.j,   5. -5.j,   6. -6.j,   7. -7.j],\n",
      " |   |              [  8. -8.j,   9. -9.j,  10.-10.j,  11.-11.j]])\n",
      " |   |      >>> z.getH()\n",
      " |   |      matrix([[  0. +0.j,   4. +4.j,   8. +8.j],\n",
      " |   |              [  1. +1.j,   5. +5.j,   9. +9.j],\n",
      " |   |              [  2. +2.j,   6. +6.j,  10.+10.j],\n",
      " |   |              [  3. +3.j,   7. +7.j,  11.+11.j]])\n",
      " |   |  \n",
      " |   |  getI(self)\n",
      " |   |      Returns the (multiplicative) inverse of invertible `self`.\n",
      " |   |      \n",
      " |   |      Parameters\n",
      " |   |      ----------\n",
      " |   |      None\n",
      " |   |      \n",
      " |   |      Returns\n",
      " |   |      -------\n",
      " |   |      ret : matrix object\n",
      " |   |          If `self` is non-singular, `ret` is such that ``ret * self`` ==\n",
      " |   |          ``self * ret`` == ``np.matrix(np.eye(self[0,:].size)`` all return\n",
      " |   |          ``True``.\n",
      " |   |      \n",
      " |   |      Raises\n",
      " |   |      ------\n",
      " |   |      numpy.linalg.LinAlgError: Singular matrix\n",
      " |   |          If `self` is singular.\n",
      " |   |      \n",
      " |   |      See Also\n",
      " |   |      --------\n",
      " |   |      linalg.inv\n",
      " |   |      \n",
      " |   |      Examples\n",
      " |   |      --------\n",
      " |   |      >>> m = np.matrix('[1, 2; 3, 4]'); m\n",
      " |   |      matrix([[1, 2],\n",
      " |   |              [3, 4]])\n",
      " |   |      >>> m.getI()\n",
      " |   |      matrix([[-2. ,  1. ],\n",
      " |   |              [ 1.5, -0.5]])\n",
      " |   |      >>> m.getI() * m\n",
      " |   |      matrix([[ 1.,  0.],\n",
      " |   |              [ 0.,  1.]])\n",
      " |   |  \n",
      " |   |  getT(self)\n",
      " |   |      Returns the transpose of the matrix.\n",
      " |   |      \n",
      " |   |      Does *not* conjugate!  For the complex conjugate transpose, use ``.H``.\n",
      " |   |      \n",
      " |   |      Parameters\n",
      " |   |      ----------\n",
      " |   |      None\n",
      " |   |      \n",
      " |   |      Returns\n",
      " |   |      -------\n",
      " |   |      ret : matrix object\n",
      " |   |          The (non-conjugated) transpose of the matrix.\n",
      " |   |      \n",
      " |   |      See Also\n",
      " |   |      --------\n",
      " |   |      transpose, getH\n",
      " |   |      \n",
      " |   |      Examples\n",
      " |   |      --------\n",
      " |   |      >>> m = np.matrix('[1, 2; 3, 4]')\n",
      " |   |      >>> m\n",
      " |   |      matrix([[1, 2],\n",
      " |   |              [3, 4]])\n",
      " |   |      >>> m.getT()\n",
      " |   |      matrix([[1, 3],\n",
      " |   |              [2, 4]])\n",
      " |   |  \n",
      " |   |  max(self, axis=None, out=None)\n",
      " |   |      Return the maximum value along an axis.\n",
      " |   |      \n",
      " |   |      Parameters\n",
      " |   |      ----------\n",
      " |   |      See `amax` for complete descriptions\n",
      " |   |      \n",
      " |   |      See Also\n",
      " |   |      --------\n",
      " |   |      amax, ndarray.max\n",
      " |   |      \n",
      " |   |      Notes\n",
      " |   |      -----\n",
      " |   |      This is the same as `ndarray.max`, but returns a `matrix` object\n",
      " |   |      where `ndarray.max` would return an ndarray.\n",
      " |   |      \n",
      " |   |      Examples\n",
      " |   |      --------\n",
      " |   |      >>> x = np.matrix(np.arange(12).reshape((3,4))); x\n",
      " |   |      matrix([[ 0,  1,  2,  3],\n",
      " |   |              [ 4,  5,  6,  7],\n",
      " |   |              [ 8,  9, 10, 11]])\n",
      " |   |      >>> x.max()\n",
      " |   |      11\n",
      " |   |      >>> x.max(0)\n",
      " |   |      matrix([[ 8,  9, 10, 11]])\n",
      " |   |      >>> x.max(1)\n",
      " |   |      matrix([[ 3],\n",
      " |   |              [ 7],\n",
      " |   |              [11]])\n",
      " |   |  \n",
      " |   |  mean(self, axis=None, dtype=None, out=None)\n",
      " |   |      Returns the average of the matrix elements along the given axis.\n",
      " |   |      \n",
      " |   |      Refer to `numpy.mean` for full documentation.\n",
      " |   |      \n",
      " |   |      See Also\n",
      " |   |      --------\n",
      " |   |      numpy.mean\n",
      " |   |      \n",
      " |   |      Notes\n",
      " |   |      -----\n",
      " |   |      Same as `ndarray.mean` except that, where that returns an `ndarray`,\n",
      " |   |      this returns a `matrix` object.\n",
      " |   |      \n",
      " |   |      Examples\n",
      " |   |      --------\n",
      " |   |      >>> x = np.matrix(np.arange(12).reshape((3, 4)))\n",
      " |   |      >>> x\n",
      " |   |      matrix([[ 0,  1,  2,  3],\n",
      " |   |              [ 4,  5,  6,  7],\n",
      " |   |              [ 8,  9, 10, 11]])\n",
      " |   |      >>> x.mean()\n",
      " |   |      5.5\n",
      " |   |      >>> x.mean(0)\n",
      " |   |      matrix([[ 4.,  5.,  6.,  7.]])\n",
      " |   |      >>> x.mean(1)\n",
      " |   |      matrix([[ 1.5],\n",
      " |   |              [ 5.5],\n",
      " |   |              [ 9.5]])\n",
      " |   |  \n",
      " |   |  min(self, axis=None, out=None)\n",
      " |   |      Return the minimum value along an axis.\n",
      " |   |      \n",
      " |   |      Parameters\n",
      " |   |      ----------\n",
      " |   |      See `amin` for complete descriptions.\n",
      " |   |      \n",
      " |   |      See Also\n",
      " |   |      --------\n",
      " |   |      amin, ndarray.min\n",
      " |   |      \n",
      " |   |      Notes\n",
      " |   |      -----\n",
      " |   |      This is the same as `ndarray.min`, but returns a `matrix` object\n",
      " |   |      where `ndarray.min` would return an ndarray.\n",
      " |   |      \n",
      " |   |      Examples\n",
      " |   |      --------\n",
      " |   |      >>> x = -np.matrix(np.arange(12).reshape((3,4))); x\n",
      " |   |      matrix([[  0,  -1,  -2,  -3],\n",
      " |   |              [ -4,  -5,  -6,  -7],\n",
      " |   |              [ -8,  -9, -10, -11]])\n",
      " |   |      >>> x.min()\n",
      " |   |      -11\n",
      " |   |      >>> x.min(0)\n",
      " |   |      matrix([[ -8,  -9, -10, -11]])\n",
      " |   |      >>> x.min(1)\n",
      " |   |      matrix([[ -3],\n",
      " |   |              [ -7],\n",
      " |   |              [-11]])\n",
      " |   |  \n",
      " |   |  prod(self, axis=None, dtype=None, out=None)\n",
      " |   |      Return the product of the array elements over the given axis.\n",
      " |   |      \n",
      " |   |      Refer to `prod` for full documentation.\n",
      " |   |      \n",
      " |   |      See Also\n",
      " |   |      --------\n",
      " |   |      prod, ndarray.prod\n",
      " |   |      \n",
      " |   |      Notes\n",
      " |   |      -----\n",
      " |   |      Same as `ndarray.prod`, except, where that returns an `ndarray`, this\n",
      " |   |      returns a `matrix` object instead.\n",
      " |   |      \n",
      " |   |      Examples\n",
      " |   |      --------\n",
      " |   |      >>> x = np.matrix(np.arange(12).reshape((3,4))); x\n",
      " |   |      matrix([[ 0,  1,  2,  3],\n",
      " |   |              [ 4,  5,  6,  7],\n",
      " |   |              [ 8,  9, 10, 11]])\n",
      " |   |      >>> x.prod()\n",
      " |   |      0\n",
      " |   |      >>> x.prod(0)\n",
      " |   |      matrix([[  0,  45, 120, 231]])\n",
      " |   |      >>> x.prod(1)\n",
      " |   |      matrix([[   0],\n",
      " |   |              [ 840],\n",
      " |   |              [7920]])\n",
      " |   |  \n",
      " |   |  ptp(self, axis=None, out=None)\n",
      " |   |      Peak-to-peak (maximum - minimum) value along the given axis.\n",
      " |   |      \n",
      " |   |      Refer to `numpy.ptp` for full documentation.\n",
      " |   |      \n",
      " |   |      See Also\n",
      " |   |      --------\n",
      " |   |      numpy.ptp\n",
      " |   |      \n",
      " |   |      Notes\n",
      " |   |      -----\n",
      " |   |      Same as `ndarray.ptp`, except, where that would return an `ndarray` object,\n",
      " |   |      this returns a `matrix` object.\n",
      " |   |      \n",
      " |   |      Examples\n",
      " |   |      --------\n",
      " |   |      >>> x = np.matrix(np.arange(12).reshape((3,4))); x\n",
      " |   |      matrix([[ 0,  1,  2,  3],\n",
      " |   |              [ 4,  5,  6,  7],\n",
      " |   |              [ 8,  9, 10, 11]])\n",
      " |   |      >>> x.ptp()\n",
      " |   |      11\n",
      " |   |      >>> x.ptp(0)\n",
      " |   |      matrix([[8, 8, 8, 8]])\n",
      " |   |      >>> x.ptp(1)\n",
      " |   |      matrix([[3],\n",
      " |   |              [3],\n",
      " |   |              [3]])\n",
      " |   |  \n",
      " |   |  ravel(self, order='C')\n",
      " |   |      Return a flattened matrix.\n",
      " |   |      \n",
      " |   |      Refer to `numpy.ravel` for more documentation.\n",
      " |   |      \n",
      " |   |      Parameters\n",
      " |   |      ----------\n",
      " |   |      order : {'C', 'F', 'A', 'K'}, optional\n",
      " |   |          The elements of `m` are read using this index order. 'C' means to\n",
      " |   |          index the elements in C-like order, with the last axis index\n",
      " |   |          changing fastest, back to the first axis index changing slowest.\n",
      " |   |          'F' means to index the elements in Fortran-like index order, with\n",
      " |   |          the first index changing fastest, and the last index changing\n",
      " |   |          slowest. Note that the 'C' and 'F' options take no account of the\n",
      " |   |          memory layout of the underlying array, and only refer to the order\n",
      " |   |          of axis indexing.  'A' means to read the elements in Fortran-like\n",
      " |   |          index order if `m` is Fortran *contiguous* in memory, C-like order\n",
      " |   |          otherwise.  'K' means to read the elements in the order they occur\n",
      " |   |          in memory, except for reversing the data when strides are negative.\n",
      " |   |          By default, 'C' index order is used.\n",
      " |   |      \n",
      " |   |      Returns\n",
      " |   |      -------\n",
      " |   |      ret : matrix\n",
      " |   |          Return the matrix flattened to shape `(1, N)` where `N`\n",
      " |   |          is the number of elements in the original matrix.\n",
      " |   |          A copy is made only if necessary.\n",
      " |   |      \n",
      " |   |      See Also\n",
      " |   |      --------\n",
      " |   |      matrix.flatten : returns a similar output matrix but always a copy\n",
      " |   |      matrix.flat : a flat iterator on the array.\n",
      " |   |      numpy.ravel : related function which returns an ndarray\n",
      " |   |  \n",
      " |   |  squeeze(self, axis=None)\n",
      " |   |      Return a possibly reshaped matrix.\n",
      " |   |      \n",
      " |   |      Refer to `numpy.squeeze` for more documentation.\n",
      " |   |      \n",
      " |   |      Parameters\n",
      " |   |      ----------\n",
      " |   |      axis : None or int or tuple of ints, optional\n",
      " |   |          Selects a subset of the single-dimensional entries in the shape.\n",
      " |   |          If an axis is selected with shape entry greater than one,\n",
      " |   |          an error is raised.\n",
      " |   |      \n",
      " |   |      Returns\n",
      " |   |      -------\n",
      " |   |      squeezed : matrix\n",
      " |   |          The matrix, but as a (1, N) matrix if it had shape (N, 1).\n",
      " |   |      \n",
      " |   |      See Also\n",
      " |   |      --------\n",
      " |   |      numpy.squeeze : related function\n",
      " |   |      \n",
      " |   |      Notes\n",
      " |   |      -----\n",
      " |   |      If `m` has a single column then that column is returned\n",
      " |   |      as the single row of a matrix.  Otherwise `m` is returned.\n",
      " |   |      The returned matrix is always either `m` itself or a view into `m`.\n",
      " |   |      Supplying an axis keyword argument will not affect the returned matrix\n",
      " |   |      but it may cause an error to be raised.\n",
      " |   |      \n",
      " |   |      Examples\n",
      " |   |      --------\n",
      " |   |      >>> c = np.matrix([[1], [2]])\n",
      " |   |      >>> c\n",
      " |   |      matrix([[1],\n",
      " |   |              [2]])\n",
      " |   |      >>> c.squeeze()\n",
      " |   |      matrix([[1, 2]])\n",
      " |   |      >>> r = c.T\n",
      " |   |      >>> r\n",
      " |   |      matrix([[1, 2]])\n",
      " |   |      >>> r.squeeze()\n",
      " |   |      matrix([[1, 2]])\n",
      " |   |      >>> m = np.matrix([[1, 2], [3, 4]])\n",
      " |   |      >>> m.squeeze()\n",
      " |   |      matrix([[1, 2],\n",
      " |   |              [3, 4]])\n",
      " |   |  \n",
      " |   |  std(self, axis=None, dtype=None, out=None, ddof=0)\n",
      " |   |      Return the standard deviation of the array elements along the given axis.\n",
      " |   |      \n",
      " |   |      Refer to `numpy.std` for full documentation.\n",
      " |   |      \n",
      " |   |      See Also\n",
      " |   |      --------\n",
      " |   |      numpy.std\n",
      " |   |      \n",
      " |   |      Notes\n",
      " |   |      -----\n",
      " |   |      This is the same as `ndarray.std`, except that where an `ndarray` would\n",
      " |   |      be returned, a `matrix` object is returned instead.\n",
      " |   |      \n",
      " |   |      Examples\n",
      " |   |      --------\n",
      " |   |      >>> x = np.matrix(np.arange(12).reshape((3, 4)))\n",
      " |   |      >>> x\n",
      " |   |      matrix([[ 0,  1,  2,  3],\n",
      " |   |              [ 4,  5,  6,  7],\n",
      " |   |              [ 8,  9, 10, 11]])\n",
      " |   |      >>> x.std()\n",
      " |   |      3.4520525295346629\n",
      " |   |      >>> x.std(0)\n",
      " |   |      matrix([[ 3.26598632,  3.26598632,  3.26598632,  3.26598632]])\n",
      " |   |      >>> x.std(1)\n",
      " |   |      matrix([[ 1.11803399],\n",
      " |   |              [ 1.11803399],\n",
      " |   |              [ 1.11803399]])\n",
      " |   |  \n",
      " |   |  sum(self, axis=None, dtype=None, out=None)\n",
      " |   |      Returns the sum of the matrix elements, along the given axis.\n",
      " |   |      \n",
      " |   |      Refer to `numpy.sum` for full documentation.\n",
      " |   |      \n",
      " |   |      See Also\n",
      " |   |      --------\n",
      " |   |      numpy.sum\n",
      " |   |      \n",
      " |   |      Notes\n",
      " |   |      -----\n",
      " |   |      This is the same as `ndarray.sum`, except that where an `ndarray` would\n",
      " |   |      be returned, a `matrix` object is returned instead.\n",
      " |   |      \n",
      " |   |      Examples\n",
      " |   |      --------\n",
      " |   |      >>> x = np.matrix([[1, 2], [4, 3]])\n",
      " |   |      >>> x.sum()\n",
      " |   |      10\n",
      " |   |      >>> x.sum(axis=1)\n",
      " |   |      matrix([[3],\n",
      " |   |              [7]])\n",
      " |   |      >>> x.sum(axis=1, dtype='float')\n",
      " |   |      matrix([[ 3.],\n",
      " |   |              [ 7.]])\n",
      " |   |      >>> out = np.zeros((1, 2), dtype='float')\n",
      " |   |      >>> x.sum(axis=1, dtype='float', out=out)\n",
      " |   |      matrix([[ 3.],\n",
      " |   |              [ 7.]])\n",
      " |   |  \n",
      " |   |  tolist(self)\n",
      " |   |      Return the matrix as a (possibly nested) list.\n",
      " |   |      \n",
      " |   |      See `ndarray.tolist` for full documentation.\n",
      " |   |      \n",
      " |   |      See Also\n",
      " |   |      --------\n",
      " |   |      ndarray.tolist\n",
      " |   |      \n",
      " |   |      Examples\n",
      " |   |      --------\n",
      " |   |      >>> x = np.matrix(np.arange(12).reshape((3,4))); x\n",
      " |   |      matrix([[ 0,  1,  2,  3],\n",
      " |   |              [ 4,  5,  6,  7],\n",
      " |   |              [ 8,  9, 10, 11]])\n",
      " |   |      >>> x.tolist()\n",
      " |   |      [[0, 1, 2, 3], [4, 5, 6, 7], [8, 9, 10, 11]]\n",
      " |   |  \n",
      " |   |  var(self, axis=None, dtype=None, out=None, ddof=0)\n",
      " |   |      Returns the variance of the matrix elements, along the given axis.\n",
      " |   |      \n",
      " |   |      Refer to `numpy.var` for full documentation.\n",
      " |   |      \n",
      " |   |      See Also\n",
      " |   |      --------\n",
      " |   |      numpy.var\n",
      " |   |      \n",
      " |   |      Notes\n",
      " |   |      -----\n",
      " |   |      This is the same as `ndarray.var`, except that where an `ndarray` would\n",
      " |   |      be returned, a `matrix` object is returned instead.\n",
      " |   |      \n",
      " |   |      Examples\n",
      " |   |      --------\n",
      " |   |      >>> x = np.matrix(np.arange(12).reshape((3, 4)))\n",
      " |   |      >>> x\n",
      " |   |      matrix([[ 0,  1,  2,  3],\n",
      " |   |              [ 4,  5,  6,  7],\n",
      " |   |              [ 8,  9, 10, 11]])\n",
      " |   |      >>> x.var()\n",
      " |   |      11.916666666666666\n",
      " |   |      >>> x.var(0)\n",
      " |   |      matrix([[ 10.66666667,  10.66666667,  10.66666667,  10.66666667]])\n",
      " |   |      >>> x.var(1)\n",
      " |   |      matrix([[ 1.25],\n",
      " |   |              [ 1.25],\n",
      " |   |              [ 1.25]])\n",
      " |   |  \n",
      " |   |  ----------------------------------------------------------------------\n",
      " |   |  Static methods defined here:\n",
      " |   |  \n",
      " |   |  __new__(subtype, data, dtype=None, copy=True)\n",
      " |   |      Create and return a new object.  See help(type) for accurate signature.\n",
      " |   |  \n",
      " |   |  ----------------------------------------------------------------------\n",
      " |   |  Data descriptors defined here:\n",
      " |   |  \n",
      " |   |  A\n",
      " |   |      Return `self` as an `ndarray` object.\n",
      " |   |      \n",
      " |   |      Equivalent to ``np.asarray(self)``.\n",
      " |   |      \n",
      " |   |      Parameters\n",
      " |   |      ----------\n",
      " |   |      None\n",
      " |   |      \n",
      " |   |      Returns\n",
      " |   |      -------\n",
      " |   |      ret : ndarray\n",
      " |   |          `self` as an `ndarray`\n",
      " |   |      \n",
      " |   |      Examples\n",
      " |   |      --------\n",
      " |   |      >>> x = np.matrix(np.arange(12).reshape((3,4))); x\n",
      " |   |      matrix([[ 0,  1,  2,  3],\n",
      " |   |              [ 4,  5,  6,  7],\n",
      " |   |              [ 8,  9, 10, 11]])\n",
      " |   |      >>> x.getA()\n",
      " |   |      array([[ 0,  1,  2,  3],\n",
      " |   |             [ 4,  5,  6,  7],\n",
      " |   |             [ 8,  9, 10, 11]])\n",
      " |   |  \n",
      " |   |  A1\n",
      " |   |      Return `self` as a flattened `ndarray`.\n",
      " |   |      \n",
      " |   |      Equivalent to ``np.asarray(x).ravel()``\n",
      " |   |      \n",
      " |   |      Parameters\n",
      " |   |      ----------\n",
      " |   |      None\n",
      " |   |      \n",
      " |   |      Returns\n",
      " |   |      -------\n",
      " |   |      ret : ndarray\n",
      " |   |          `self`, 1-D, as an `ndarray`\n",
      " |   |      \n",
      " |   |      Examples\n",
      " |   |      --------\n",
      " |   |      >>> x = np.matrix(np.arange(12).reshape((3,4))); x\n",
      " |   |      matrix([[ 0,  1,  2,  3],\n",
      " |   |              [ 4,  5,  6,  7],\n",
      " |   |              [ 8,  9, 10, 11]])\n",
      " |   |      >>> x.getA1()\n",
      " |   |      array([ 0,  1,  2,  3,  4,  5,  6,  7,  8,  9, 10, 11])\n",
      " |   |  \n",
      " |   |  H\n",
      " |   |      Returns the (complex) conjugate transpose of `self`.\n",
      " |   |      \n",
      " |   |      Equivalent to ``np.transpose(self)`` if `self` is real-valued.\n",
      " |   |      \n",
      " |   |      Parameters\n",
      " |   |      ----------\n",
      " |   |      None\n",
      " |   |      \n",
      " |   |      Returns\n",
      " |   |      -------\n",
      " |   |      ret : matrix object\n",
      " |   |          complex conjugate transpose of `self`\n",
      " |   |      \n",
      " |   |      Examples\n",
      " |   |      --------\n",
      " |   |      >>> x = np.matrix(np.arange(12).reshape((3,4)))\n",
      " |   |      >>> z = x - 1j*x; z\n",
      " |   |      matrix([[  0. +0.j,   1. -1.j,   2. -2.j,   3. -3.j],\n",
      " |   |              [  4. -4.j,   5. -5.j,   6. -6.j,   7. -7.j],\n",
      " |   |              [  8. -8.j,   9. -9.j,  10.-10.j,  11.-11.j]])\n",
      " |   |      >>> z.getH()\n",
      " |   |      matrix([[  0. +0.j,   4. +4.j,   8. +8.j],\n",
      " |   |              [  1. +1.j,   5. +5.j,   9. +9.j],\n",
      " |   |              [  2. +2.j,   6. +6.j,  10.+10.j],\n",
      " |   |              [  3. +3.j,   7. +7.j,  11.+11.j]])\n",
      " |   |  \n",
      " |   |  I\n",
      " |   |      Returns the (multiplicative) inverse of invertible `self`.\n",
      " |   |      \n",
      " |   |      Parameters\n",
      " |   |      ----------\n",
      " |   |      None\n",
      " |   |      \n",
      " |   |      Returns\n",
      " |   |      -------\n",
      " |   |      ret : matrix object\n",
      " |   |          If `self` is non-singular, `ret` is such that ``ret * self`` ==\n",
      " |   |          ``self * ret`` == ``np.matrix(np.eye(self[0,:].size)`` all return\n",
      " |   |          ``True``.\n",
      " |   |      \n",
      " |   |      Raises\n",
      " |   |      ------\n",
      " |   |      numpy.linalg.LinAlgError: Singular matrix\n",
      " |   |          If `self` is singular.\n",
      " |   |      \n",
      " |   |      See Also\n",
      " |   |      --------\n",
      " |   |      linalg.inv\n",
      " |   |      \n",
      " |   |      Examples\n",
      " |   |      --------\n",
      " |   |      >>> m = np.matrix('[1, 2; 3, 4]'); m\n",
      " |   |      matrix([[1, 2],\n",
      " |   |              [3, 4]])\n",
      " |   |      >>> m.getI()\n",
      " |   |      matrix([[-2. ,  1. ],\n",
      " |   |              [ 1.5, -0.5]])\n",
      " |   |      >>> m.getI() * m\n",
      " |   |      matrix([[ 1.,  0.],\n",
      " |   |              [ 0.,  1.]])\n",
      " |   |  \n",
      " |   |  T\n",
      " |   |      Returns the transpose of the matrix.\n",
      " |   |      \n",
      " |   |      Does *not* conjugate!  For the complex conjugate transpose, use ``.H``.\n",
      " |   |      \n",
      " |   |      Parameters\n",
      " |   |      ----------\n",
      " |   |      None\n",
      " |   |      \n",
      " |   |      Returns\n",
      " |   |      -------\n",
      " |   |      ret : matrix object\n",
      " |   |          The (non-conjugated) transpose of the matrix.\n",
      " |   |      \n",
      " |   |      See Also\n",
      " |   |      --------\n",
      " |   |      transpose, getH\n",
      " |   |      \n",
      " |   |      Examples\n",
      " |   |      --------\n",
      " |   |      >>> m = np.matrix('[1, 2; 3, 4]')\n",
      " |   |      >>> m\n",
      " |   |      matrix([[1, 2],\n",
      " |   |              [3, 4]])\n",
      " |   |      >>> m.getT()\n",
      " |   |      matrix([[1, 3],\n",
      " |   |              [2, 4]])\n",
      " |   |  \n",
      " |   |  __dict__\n",
      " |   |      dictionary for instance variables (if defined)\n",
      " |   |  \n",
      " |   |  ----------------------------------------------------------------------\n",
      " |   |  Data and other attributes defined here:\n",
      " |   |  \n",
      " |   |  __array_priority__ = 10.0\n",
      " |   |  \n",
      " |   |  ----------------------------------------------------------------------\n",
      " |   |  Methods inherited from numpy.ndarray:\n",
      " |   |  \n",
      " |   |  __abs__(self, /)\n",
      " |   |      abs(self)\n",
      " |   |  \n",
      " |   |  __add__(self, value, /)\n",
      " |   |      Return self+value.\n",
      " |   |  \n",
      " |   |  __and__(self, value, /)\n",
      " |   |      Return self&value.\n",
      " |   |  \n",
      " |   |  __array__(...)\n",
      " |   |      a.__array__(|dtype) -> reference if type unchanged, copy otherwise.\n",
      " |   |      \n",
      " |   |      Returns either a new reference to self if dtype is not given or a new array\n",
      " |   |      of provided data type if dtype is different from the current dtype of the\n",
      " |   |      array.\n",
      " |   |  \n",
      " |   |  __array_prepare__(...)\n",
      " |   |      a.__array_prepare__(obj) -> Object of same type as ndarray object obj.\n",
      " |   |  \n",
      " |   |  __array_ufunc__(...)\n",
      " |   |  \n",
      " |   |  __array_wrap__(...)\n",
      " |   |      a.__array_wrap__(obj) -> Object of same type as ndarray object a.\n",
      " |   |  \n",
      " |   |  __bool__(self, /)\n",
      " |   |      self != 0\n",
      " |   |  \n",
      " |   |  __complex__(...)\n",
      " |   |  \n",
      " |   |  __contains__(self, key, /)\n",
      " |   |      Return key in self.\n",
      " |   |  \n",
      " |   |  __copy__(...)\n",
      " |   |      a.__copy__()\n",
      " |   |      \n",
      " |   |      Used if :func:`copy.copy` is called on an array. Returns a copy of the array.\n",
      " |   |      \n",
      " |   |      Equivalent to ``a.copy(order='K')``.\n",
      " |   |  \n",
      " |   |  __deepcopy__(...)\n",
      " |   |      a.__deepcopy__(memo, /) -> Deep copy of array.\n",
      " |   |      \n",
      " |   |      Used if :func:`copy.deepcopy` is called on an array.\n",
      " |   |  \n",
      " |   |  __delitem__(self, key, /)\n",
      " |   |      Delete self[key].\n",
      " |   |  \n",
      " |   |  __divmod__(self, value, /)\n",
      " |   |      Return divmod(self, value).\n",
      " |   |  \n",
      " |   |  __eq__(self, value, /)\n",
      " |   |      Return self==value.\n",
      " |   |  \n",
      " |   |  __float__(self, /)\n",
      " |   |      float(self)\n",
      " |   |  \n",
      " |   |  __floordiv__(self, value, /)\n",
      " |   |      Return self//value.\n",
      " |   |  \n",
      " |   |  __format__(...)\n",
      " |   |      Default object formatter.\n",
      " |   |  \n",
      " |   |  __ge__(self, value, /)\n",
      " |   |      Return self>=value.\n",
      " |   |  \n",
      " |   |  __gt__(self, value, /)\n",
      " |   |      Return self>value.\n",
      " |   |  \n",
      " |   |  __iadd__(self, value, /)\n",
      " |   |      Return self+=value.\n",
      " |   |  \n",
      " |   |  __iand__(self, value, /)\n",
      " |   |      Return self&=value.\n",
      " |   |  \n",
      " |   |  __ifloordiv__(self, value, /)\n",
      " |   |      Return self//=value.\n",
      " |   |  \n",
      " |   |  __ilshift__(self, value, /)\n",
      " |   |      Return self<<=value.\n",
      " |   |  \n",
      " |   |  __imatmul__(self, value, /)\n",
      " |   |      Return self@=value.\n",
      " |   |  \n",
      " |   |  __imod__(self, value, /)\n",
      " |   |      Return self%=value.\n",
      " |   |  \n",
      " |   |  __index__(self, /)\n",
      " |   |      Return self converted to an integer, if self is suitable for use as an index into a list.\n",
      " |   |  \n",
      " |   |  __int__(self, /)\n",
      " |   |      int(self)\n",
      " |   |  \n",
      " |   |  __invert__(self, /)\n",
      " |   |      ~self\n",
      " |   |  \n",
      " |   |  __ior__(self, value, /)\n",
      " |   |      Return self|=value.\n",
      " |   |  \n",
      " |   |  __irshift__(self, value, /)\n",
      " |   |      Return self>>=value.\n",
      " |   |  \n",
      " |   |  __isub__(self, value, /)\n",
      " |   |      Return self-=value.\n",
      " |   |  \n",
      " |   |  __iter__(self, /)\n",
      " |   |      Implement iter(self).\n",
      " |   |  \n",
      " |   |  __itruediv__(self, value, /)\n",
      " |   |      Return self/=value.\n",
      " |   |  \n",
      " |   |  __ixor__(self, value, /)\n",
      " |   |      Return self^=value.\n",
      " |   |  \n",
      " |   |  __le__(self, value, /)\n",
      " |   |      Return self<=value.\n",
      " |   |  \n",
      " |   |  __len__(self, /)\n",
      " |   |      Return len(self).\n",
      " |   |  \n",
      " |   |  __lshift__(self, value, /)\n",
      " |   |      Return self<<value.\n",
      " |   |  \n",
      " |   |  __lt__(self, value, /)\n",
      " |   |      Return self<value.\n",
      " |   |  \n",
      " |   |  __matmul__(self, value, /)\n",
      " |   |      Return self@value.\n",
      " |   |  \n",
      " |   |  __mod__(self, value, /)\n",
      " |   |      Return self%value.\n",
      " |   |  \n",
      " |   |  __ne__(self, value, /)\n",
      " |   |      Return self!=value.\n",
      " |   |  \n",
      " |   |  __neg__(self, /)\n",
      " |   |      -self\n",
      " |   |  \n",
      " |   |  __or__(self, value, /)\n",
      " |   |      Return self|value.\n",
      " |   |  \n",
      " |   |  __pos__(self, /)\n",
      " |   |      +self\n",
      " |   |  \n",
      " |   |  __radd__(self, value, /)\n",
      " |   |      Return value+self.\n",
      " |   |  \n",
      " |   |  __rand__(self, value, /)\n",
      " |   |      Return value&self.\n",
      " |   |  \n",
      " |   |  __rdivmod__(self, value, /)\n",
      " |   |      Return divmod(value, self).\n",
      " |   |  \n",
      " |   |  __reduce__(...)\n",
      " |   |      a.__reduce__()\n",
      " |   |      \n",
      " |   |      For pickling.\n",
      " |   |  \n",
      " |   |  __repr__(self, /)\n",
      " |   |      Return repr(self).\n",
      " |   |  \n",
      " |   |  __rfloordiv__(self, value, /)\n",
      " |   |      Return value//self.\n",
      " |   |  \n",
      " |   |  __rlshift__(self, value, /)\n",
      " |   |      Return value<<self.\n",
      " |   |  \n",
      " |   |  __rmatmul__(self, value, /)\n",
      " |   |      Return value@self.\n",
      " |   |  \n",
      " |   |  __rmod__(self, value, /)\n",
      " |   |      Return value%self.\n",
      " |   |  \n",
      " |   |  __ror__(self, value, /)\n",
      " |   |      Return value|self.\n",
      " |   |  \n",
      " |   |  __rrshift__(self, value, /)\n",
      " |   |      Return value>>self.\n",
      " |   |  \n",
      " |   |  __rshift__(self, value, /)\n",
      " |   |      Return self>>value.\n",
      " |   |  \n",
      " |   |  __rsub__(self, value, /)\n",
      " |   |      Return value-self.\n",
      " |   |  \n",
      " |   |  __rtruediv__(self, value, /)\n",
      " |   |      Return value/self.\n",
      " |   |  \n",
      " |   |  __rxor__(self, value, /)\n",
      " |   |      Return value^self.\n",
      " |   |  \n",
      " |   |  __setitem__(self, key, value, /)\n",
      " |   |      Set self[key] to value.\n",
      " |   |  \n",
      " |   |  __setstate__(...)\n",
      " |   |      a.__setstate__(state, /)\n",
      " |   |      \n",
      " |   |      For unpickling.\n",
      " |   |      \n",
      " |   |      The `state` argument must be a sequence that contains the following\n",
      " |   |      elements:\n",
      " |   |      \n",
      " |   |      Parameters\n",
      " |   |      ----------\n",
      " |   |      version : int\n",
      " |   |          optional pickle version. If omitted defaults to 0.\n",
      " |   |      shape : tuple\n",
      " |   |      dtype : data-type\n",
      " |   |      isFortran : bool\n",
      " |   |      rawdata : string or list\n",
      " |   |          a binary string with the data (or a list if 'a' is an object array)\n",
      " |   |  \n",
      " |   |  __sizeof__(...)\n",
      " |   |      Size of object in memory, in bytes.\n",
      " |   |  \n",
      " |   |  __str__(self, /)\n",
      " |   |      Return str(self).\n",
      " |   |  \n",
      " |   |  __sub__(self, value, /)\n",
      " |   |      Return self-value.\n",
      " |   |  \n",
      " |   |  __truediv__(self, value, /)\n",
      " |   |      Return self/value.\n",
      " |   |  \n",
      " |   |  __xor__(self, value, /)\n",
      " |   |      Return self^value.\n",
      " |   |  \n",
      " |   |  argpartition(...)\n",
      " |   |      a.argpartition(kth, axis=-1, kind='introselect', order=None)\n",
      " |   |      \n",
      " |   |      Returns the indices that would partition this array.\n",
      " |   |      \n",
      " |   |      Refer to `numpy.argpartition` for full documentation.\n",
      " |   |      \n",
      " |   |      .. versionadded:: 1.8.0\n",
      " |   |      \n",
      " |   |      See Also\n",
      " |   |      --------\n",
      " |   |      numpy.argpartition : equivalent function\n",
      " |   |  \n",
      " |   |  argsort(...)\n",
      " |   |      a.argsort(axis=-1, kind='quicksort', order=None)\n",
      " |   |      \n",
      " |   |      Returns the indices that would sort this array.\n",
      " |   |      \n",
      " |   |      Refer to `numpy.argsort` for full documentation.\n",
      " |   |      \n",
      " |   |      See Also\n",
      " |   |      --------\n",
      " |   |      numpy.argsort : equivalent function\n",
      " |   |  \n",
      " |   |  astype(...)\n",
      " |   |      a.astype(dtype, order='K', casting='unsafe', subok=True, copy=True)\n",
      " |   |      \n",
      " |   |      Copy of the array, cast to a specified type.\n",
      " |   |      \n",
      " |   |      Parameters\n",
      " |   |      ----------\n",
      " |   |      dtype : str or dtype\n",
      " |   |          Typecode or data-type to which the array is cast.\n",
      " |   |      order : {'C', 'F', 'A', 'K'}, optional\n",
      " |   |          Controls the memory layout order of the result.\n",
      " |   |          'C' means C order, 'F' means Fortran order, 'A'\n",
      " |   |          means 'F' order if all the arrays are Fortran contiguous,\n",
      " |   |          'C' order otherwise, and 'K' means as close to the\n",
      " |   |          order the array elements appear in memory as possible.\n",
      " |   |          Default is 'K'.\n",
      " |   |      casting : {'no', 'equiv', 'safe', 'same_kind', 'unsafe'}, optional\n",
      " |   |          Controls what kind of data casting may occur. Defaults to 'unsafe'\n",
      " |   |          for backwards compatibility.\n",
      " |   |      \n",
      " |   |            * 'no' means the data types should not be cast at all.\n",
      " |   |            * 'equiv' means only byte-order changes are allowed.\n",
      " |   |            * 'safe' means only casts which can preserve values are allowed.\n",
      " |   |            * 'same_kind' means only safe casts or casts within a kind,\n",
      " |   |              like float64 to float32, are allowed.\n",
      " |   |            * 'unsafe' means any data conversions may be done.\n",
      " |   |      subok : bool, optional\n",
      " |   |          If True, then sub-classes will be passed-through (default), otherwise\n",
      " |   |          the returned array will be forced to be a base-class array.\n",
      " |   |      copy : bool, optional\n",
      " |   |          By default, astype always returns a newly allocated array. If this\n",
      " |   |          is set to false, and the `dtype`, `order`, and `subok`\n",
      " |   |          requirements are satisfied, the input array is returned instead\n",
      " |   |          of a copy.\n",
      " |   |      \n",
      " |   |      Returns\n",
      " |   |      -------\n",
      " |   |      arr_t : ndarray\n",
      " |   |          Unless `copy` is False and the other conditions for returning the input\n",
      " |   |          array are satisfied (see description for `copy` input parameter), `arr_t`\n",
      " |   |          is a new array of the same shape as the input array, with dtype, order\n",
      " |   |          given by `dtype`, `order`.\n",
      " |   |      \n",
      " |   |      Notes\n",
      " |   |      -----\n",
      " |   |      Starting in NumPy 1.9, astype method now returns an error if the string\n",
      " |   |      dtype to cast to is not long enough in 'safe' casting mode to hold the max\n",
      " |   |      value of integer/float array that is being casted. Previously the casting\n",
      " |   |      was allowed even if the result was truncated.\n",
      " |   |      \n",
      " |   |      Raises\n",
      " |   |      ------\n",
      " |   |      ComplexWarning\n",
      " |   |          When casting from complex to float or int. To avoid this,\n",
      " |   |          one should use ``a.real.astype(t)``.\n",
      " |   |      \n",
      " |   |      Examples\n",
      " |   |      --------\n",
      " |   |      >>> x = np.array([1, 2, 2.5])\n",
      " |   |      >>> x\n",
      " |   |      array([ 1. ,  2. ,  2.5])\n",
      " |   |      \n",
      " |   |      >>> x.astype(int)\n",
      " |   |      array([1, 2, 2])\n",
      " |   |  \n",
      " |   |  byteswap(...)\n",
      " |   |      a.byteswap(inplace=False)\n",
      " |   |      \n",
      " |   |      Swap the bytes of the array elements\n",
      " |   |      \n",
      " |   |      Toggle between low-endian and big-endian data representation by\n",
      " |   |      returning a byteswapped array, optionally swapped in-place.\n",
      " |   |      \n",
      " |   |      Parameters\n",
      " |   |      ----------\n",
      " |   |      inplace : bool, optional\n",
      " |   |          If ``True``, swap bytes in-place, default is ``False``.\n",
      " |   |      \n",
      " |   |      Returns\n",
      " |   |      -------\n",
      " |   |      out : ndarray\n",
      " |   |          The byteswapped array. If `inplace` is ``True``, this is\n",
      " |   |          a view to self.\n",
      " |   |      \n",
      " |   |      Examples\n",
      " |   |      --------\n",
      " |   |      >>> A = np.array([1, 256, 8755], dtype=np.int16)\n",
      " |   |      >>> map(hex, A)\n",
      " |   |      ['0x1', '0x100', '0x2233']\n",
      " |   |      >>> A.byteswap(inplace=True)\n",
      " |   |      array([  256,     1, 13090], dtype=int16)\n",
      " |   |      >>> map(hex, A)\n",
      " |   |      ['0x100', '0x1', '0x3322']\n",
      " |   |      \n",
      " |   |      Arrays of strings are not swapped\n",
      " |   |      \n",
      " |   |      >>> A = np.array(['ceg', 'fac'])\n",
      " |   |      >>> A.byteswap()\n",
      " |   |      array(['ceg', 'fac'],\n",
      " |   |            dtype='|S3')\n",
      " |   |  \n",
      " |   |  choose(...)\n",
      " |   |      a.choose(choices, out=None, mode='raise')\n",
      " |   |      \n",
      " |   |      Use an index array to construct a new array from a set of choices.\n",
      " |   |      \n",
      " |   |      Refer to `numpy.choose` for full documentation.\n",
      " |   |      \n",
      " |   |      See Also\n",
      " |   |      --------\n",
      " |   |      numpy.choose : equivalent function\n",
      " |   |  \n",
      " |   |  clip(...)\n",
      " |   |      a.clip(min=None, max=None, out=None)\n",
      " |   |      \n",
      " |   |      Return an array whose values are limited to ``[min, max]``.\n",
      " |   |      One of max or min must be given.\n",
      " |   |      \n",
      " |   |      Refer to `numpy.clip` for full documentation.\n",
      " |   |      \n",
      " |   |      See Also\n",
      " |   |      --------\n",
      " |   |      numpy.clip : equivalent function\n",
      " |   |  \n",
      " |   |  compress(...)\n",
      " |   |      a.compress(condition, axis=None, out=None)\n",
      " |   |      \n",
      " |   |      Return selected slices of this array along given axis.\n",
      " |   |      \n",
      " |   |      Refer to `numpy.compress` for full documentation.\n",
      " |   |      \n",
      " |   |      See Also\n",
      " |   |      --------\n",
      " |   |      numpy.compress : equivalent function\n",
      " |   |  \n",
      " |   |  conj(...)\n",
      " |   |      a.conj()\n",
      " |   |      \n",
      " |   |      Complex-conjugate all elements.\n",
      " |   |      \n",
      " |   |      Refer to `numpy.conjugate` for full documentation.\n",
      " |   |      \n",
      " |   |      See Also\n",
      " |   |      --------\n",
      " |   |      numpy.conjugate : equivalent function\n",
      " |   |  \n",
      " |   |  conjugate(...)\n",
      " |   |      a.conjugate()\n",
      " |   |      \n",
      " |   |      Return the complex conjugate, element-wise.\n",
      " |   |      \n",
      " |   |      Refer to `numpy.conjugate` for full documentation.\n",
      " |   |      \n",
      " |   |      See Also\n",
      " |   |      --------\n",
      " |   |      numpy.conjugate : equivalent function\n",
      " |   |  \n",
      " |   |  copy(...)\n",
      " |   |      a.copy(order='C')\n",
      " |   |      \n",
      " |   |      Return a copy of the array.\n",
      " |   |      \n",
      " |   |      Parameters\n",
      " |   |      ----------\n",
      " |   |      order : {'C', 'F', 'A', 'K'}, optional\n",
      " |   |          Controls the memory layout of the copy. 'C' means C-order,\n",
      " |   |          'F' means F-order, 'A' means 'F' if `a` is Fortran contiguous,\n",
      " |   |          'C' otherwise. 'K' means match the layout of `a` as closely\n",
      " |   |          as possible. (Note that this function and :func:`numpy.copy` are very\n",
      " |   |          similar, but have different default values for their order=\n",
      " |   |          arguments.)\n",
      " |   |      \n",
      " |   |      See also\n",
      " |   |      --------\n",
      " |   |      numpy.copy\n",
      " |   |      numpy.copyto\n",
      " |   |      \n",
      " |   |      Examples\n",
      " |   |      --------\n",
      " |   |      >>> x = np.array([[1,2,3],[4,5,6]], order='F')\n",
      " |   |      \n",
      " |   |      >>> y = x.copy()\n",
      " |   |      \n",
      " |   |      >>> x.fill(0)\n",
      " |   |      \n",
      " |   |      >>> x\n",
      " |   |      array([[0, 0, 0],\n",
      " |   |             [0, 0, 0]])\n",
      " |   |      \n",
      " |   |      >>> y\n",
      " |   |      array([[1, 2, 3],\n",
      " |   |             [4, 5, 6]])\n",
      " |   |      \n",
      " |   |      >>> y.flags['C_CONTIGUOUS']\n",
      " |   |      True\n",
      " |   |  \n",
      " |   |  cumprod(...)\n",
      " |   |      a.cumprod(axis=None, dtype=None, out=None)\n",
      " |   |      \n",
      " |   |      Return the cumulative product of the elements along the given axis.\n",
      " |   |      \n",
      " |   |      Refer to `numpy.cumprod` for full documentation.\n",
      " |   |      \n",
      " |   |      See Also\n",
      " |   |      --------\n",
      " |   |      numpy.cumprod : equivalent function\n",
      " |   |  \n",
      " |   |  cumsum(...)\n",
      " |   |      a.cumsum(axis=None, dtype=None, out=None)\n",
      " |   |      \n",
      " |   |      Return the cumulative sum of the elements along the given axis.\n",
      " |   |      \n",
      " |   |      Refer to `numpy.cumsum` for full documentation.\n",
      " |   |      \n",
      " |   |      See Also\n",
      " |   |      --------\n",
      " |   |      numpy.cumsum : equivalent function\n",
      " |   |  \n",
      " |   |  diagonal(...)\n",
      " |   |      a.diagonal(offset=0, axis1=0, axis2=1)\n",
      " |   |      \n",
      " |   |      Return specified diagonals. In NumPy 1.9 the returned array is a\n",
      " |   |      read-only view instead of a copy as in previous NumPy versions.  In\n",
      " |   |      a future version the read-only restriction will be removed.\n",
      " |   |      \n",
      " |   |      Refer to :func:`numpy.diagonal` for full documentation.\n",
      " |   |      \n",
      " |   |      See Also\n",
      " |   |      --------\n",
      " |   |      numpy.diagonal : equivalent function\n",
      " |   |  \n",
      " |   |  dot(...)\n",
      " |   |      a.dot(b, out=None)\n",
      " |   |      \n",
      " |   |      Dot product of two arrays.\n",
      " |   |      \n",
      " |   |      Refer to `numpy.dot` for full documentation.\n",
      " |   |      \n",
      " |   |      See Also\n",
      " |   |      --------\n",
      " |   |      numpy.dot : equivalent function\n",
      " |   |      \n",
      " |   |      Examples\n",
      " |   |      --------\n",
      " |   |      >>> a = np.eye(2)\n",
      " |   |      >>> b = np.ones((2, 2)) * 2\n",
      " |   |      >>> a.dot(b)\n",
      " |   |      array([[ 2.,  2.],\n",
      " |   |             [ 2.,  2.]])\n",
      " |   |      \n",
      " |   |      This array method can be conveniently chained:\n",
      " |   |      \n",
      " |   |      >>> a.dot(b).dot(b)\n",
      " |   |      array([[ 8.,  8.],\n",
      " |   |             [ 8.,  8.]])\n",
      " |   |  \n",
      " |   |  dump(...)\n",
      " |   |      a.dump(file)\n",
      " |   |      \n",
      " |   |      Dump a pickle of the array to the specified file.\n",
      " |   |      The array can be read back with pickle.load or numpy.load.\n",
      " |   |      \n",
      " |   |      Parameters\n",
      " |   |      ----------\n",
      " |   |      file : str\n",
      " |   |          A string naming the dump file.\n",
      " |   |  \n",
      " |   |  dumps(...)\n",
      " |   |      a.dumps()\n",
      " |   |      \n",
      " |   |      Returns the pickle of the array as a string.\n",
      " |   |      pickle.loads or numpy.loads will convert the string back to an array.\n",
      " |   |      \n",
      " |   |      Parameters\n",
      " |   |      ----------\n",
      " |   |      None\n",
      " |   |  \n",
      " |   |  fill(...)\n",
      " |   |      a.fill(value)\n",
      " |   |      \n",
      " |   |      Fill the array with a scalar value.\n",
      " |   |      \n",
      " |   |      Parameters\n",
      " |   |      ----------\n",
      " |   |      value : scalar\n",
      " |   |          All elements of `a` will be assigned this value.\n",
      " |   |      \n",
      " |   |      Examples\n",
      " |   |      --------\n",
      " |   |      >>> a = np.array([1, 2])\n",
      " |   |      >>> a.fill(0)\n",
      " |   |      >>> a\n",
      " |   |      array([0, 0])\n",
      " |   |      >>> a = np.empty(2)\n",
      " |   |      >>> a.fill(1)\n",
      " |   |      >>> a\n",
      " |   |      array([ 1.,  1.])\n",
      " |   |  \n",
      " |   |  getfield(...)\n",
      " |   |      a.getfield(dtype, offset=0)\n",
      " |   |      \n",
      " |   |      Returns a field of the given array as a certain type.\n",
      " |   |      \n",
      " |   |      A field is a view of the array data with a given data-type. The values in\n",
      " |   |      the view are determined by the given type and the offset into the current\n",
      " |   |      array in bytes. The offset needs to be such that the view dtype fits in the\n",
      " |   |      array dtype; for example an array of dtype complex128 has 16-byte elements.\n",
      " |   |      If taking a view with a 32-bit integer (4 bytes), the offset needs to be\n",
      " |   |      between 0 and 12 bytes.\n",
      " |   |      \n",
      " |   |      Parameters\n",
      " |   |      ----------\n",
      " |   |      dtype : str or dtype\n",
      " |   |          The data type of the view. The dtype size of the view can not be larger\n",
      " |   |          than that of the array itself.\n",
      " |   |      offset : int\n",
      " |   |          Number of bytes to skip before beginning the element view.\n",
      " |   |      \n",
      " |   |      Examples\n",
      " |   |      --------\n",
      " |   |      >>> x = np.diag([1.+1.j]*2)\n",
      " |   |      >>> x[1, 1] = 2 + 4.j\n",
      " |   |      >>> x\n",
      " |   |      array([[ 1.+1.j,  0.+0.j],\n",
      " |   |             [ 0.+0.j,  2.+4.j]])\n",
      " |   |      >>> x.getfield(np.float64)\n",
      " |   |      array([[ 1.,  0.],\n",
      " |   |             [ 0.,  2.]])\n",
      " |   |      \n",
      " |   |      By choosing an offset of 8 bytes we can select the complex part of the\n",
      " |   |      array for our view:\n",
      " |   |      \n",
      " |   |      >>> x.getfield(np.float64, offset=8)\n",
      " |   |      array([[ 1.,  0.],\n",
      " |   |         [ 0.,  4.]])\n",
      " |   |  \n",
      " |   |  item(...)\n",
      " |   |      a.item(*args)\n",
      " |   |      \n",
      " |   |      Copy an element of an array to a standard Python scalar and return it.\n",
      " |   |      \n",
      " |   |      Parameters\n",
      " |   |      ----------\n",
      " |   |      \\*args : Arguments (variable number and type)\n",
      " |   |      \n",
      " |   |          * none: in this case, the method only works for arrays\n",
      " |   |            with one element (`a.size == 1`), which element is\n",
      " |   |            copied into a standard Python scalar object and returned.\n",
      " |   |      \n",
      " |   |          * int_type: this argument is interpreted as a flat index into\n",
      " |   |            the array, specifying which element to copy and return.\n",
      " |   |      \n",
      " |   |          * tuple of int_types: functions as does a single int_type argument,\n",
      " |   |            except that the argument is interpreted as an nd-index into the\n",
      " |   |            array.\n",
      " |   |      \n",
      " |   |      Returns\n",
      " |   |      -------\n",
      " |   |      z : Standard Python scalar object\n",
      " |   |          A copy of the specified element of the array as a suitable\n",
      " |   |          Python scalar\n",
      " |   |      \n",
      " |   |      Notes\n",
      " |   |      -----\n",
      " |   |      When the data type of `a` is longdouble or clongdouble, item() returns\n",
      " |   |      a scalar array object because there is no available Python scalar that\n",
      " |   |      would not lose information. Void arrays return a buffer object for item(),\n",
      " |   |      unless fields are defined, in which case a tuple is returned.\n",
      " |   |      \n",
      " |   |      `item` is very similar to a[args], except, instead of an array scalar,\n",
      " |   |      a standard Python scalar is returned. This can be useful for speeding up\n",
      " |   |      access to elements of the array and doing arithmetic on elements of the\n",
      " |   |      array using Python's optimized math.\n",
      " |   |      \n",
      " |   |      Examples\n",
      " |   |      --------\n",
      " |   |      >>> x = np.random.randint(9, size=(3, 3))\n",
      " |   |      >>> x\n",
      " |   |      array([[3, 1, 7],\n",
      " |   |             [2, 8, 3],\n",
      " |   |             [8, 5, 3]])\n",
      " |   |      >>> x.item(3)\n",
      " |   |      2\n",
      " |   |      >>> x.item(7)\n",
      " |   |      5\n",
      " |   |      >>> x.item((0, 1))\n",
      " |   |      1\n",
      " |   |      >>> x.item((2, 2))\n",
      " |   |      3\n",
      " |   |  \n",
      " |   |  itemset(...)\n",
      " |   |      a.itemset(*args)\n",
      " |   |      \n",
      " |   |      Insert scalar into an array (scalar is cast to array's dtype, if possible)\n",
      " |   |      \n",
      " |   |      There must be at least 1 argument, and define the last argument\n",
      " |   |      as *item*.  Then, ``a.itemset(*args)`` is equivalent to but faster\n",
      " |   |      than ``a[args] = item``.  The item should be a scalar value and `args`\n",
      " |   |      must select a single item in the array `a`.\n",
      " |   |      \n",
      " |   |      Parameters\n",
      " |   |      ----------\n",
      " |   |      \\*args : Arguments\n",
      " |   |          If one argument: a scalar, only used in case `a` is of size 1.\n",
      " |   |          If two arguments: the last argument is the value to be set\n",
      " |   |          and must be a scalar, the first argument specifies a single array\n",
      " |   |          element location. It is either an int or a tuple.\n",
      " |   |      \n",
      " |   |      Notes\n",
      " |   |      -----\n",
      " |   |      Compared to indexing syntax, `itemset` provides some speed increase\n",
      " |   |      for placing a scalar into a particular location in an `ndarray`,\n",
      " |   |      if you must do this.  However, generally this is discouraged:\n",
      " |   |      among other problems, it complicates the appearance of the code.\n",
      " |   |      Also, when using `itemset` (and `item`) inside a loop, be sure\n",
      " |   |      to assign the methods to a local variable to avoid the attribute\n",
      " |   |      look-up at each loop iteration.\n",
      " |   |      \n",
      " |   |      Examples\n",
      " |   |      --------\n",
      " |   |      >>> x = np.random.randint(9, size=(3, 3))\n",
      " |   |      >>> x\n",
      " |   |      array([[3, 1, 7],\n",
      " |   |             [2, 8, 3],\n",
      " |   |             [8, 5, 3]])\n",
      " |   |      >>> x.itemset(4, 0)\n",
      " |   |      >>> x.itemset((2, 2), 9)\n",
      " |   |      >>> x\n",
      " |   |      array([[3, 1, 7],\n",
      " |   |             [2, 0, 3],\n",
      " |   |             [8, 5, 9]])\n",
      " |   |  \n",
      " |   |  newbyteorder(...)\n",
      " |   |      arr.newbyteorder(new_order='S')\n",
      " |   |      \n",
      " |   |      Return the array with the same data viewed with a different byte order.\n",
      " |   |      \n",
      " |   |      Equivalent to::\n",
      " |   |      \n",
      " |   |          arr.view(arr.dtype.newbytorder(new_order))\n",
      " |   |      \n",
      " |   |      Changes are also made in all fields and sub-arrays of the array data\n",
      " |   |      type.\n",
      " |   |      \n",
      " |   |      \n",
      " |   |      \n",
      " |   |      Parameters\n",
      " |   |      ----------\n",
      " |   |      new_order : string, optional\n",
      " |   |          Byte order to force; a value from the byte order specifications\n",
      " |   |          below. `new_order` codes can be any of:\n",
      " |   |      \n",
      " |   |          * 'S' - swap dtype from current to opposite endian\n",
      " |   |          * {'<', 'L'} - little endian\n",
      " |   |          * {'>', 'B'} - big endian\n",
      " |   |          * {'=', 'N'} - native order\n",
      " |   |          * {'|', 'I'} - ignore (no change to byte order)\n",
      " |   |      \n",
      " |   |          The default value ('S') results in swapping the current\n",
      " |   |          byte order. The code does a case-insensitive check on the first\n",
      " |   |          letter of `new_order` for the alternatives above.  For example,\n",
      " |   |          any of 'B' or 'b' or 'biggish' are valid to specify big-endian.\n",
      " |   |      \n",
      " |   |      \n",
      " |   |      Returns\n",
      " |   |      -------\n",
      " |   |      new_arr : array\n",
      " |   |          New array object with the dtype reflecting given change to the\n",
      " |   |          byte order.\n",
      " |   |  \n",
      " |   |  nonzero(...)\n",
      " |   |      a.nonzero()\n",
      " |   |      \n",
      " |   |      Return the indices of the elements that are non-zero.\n",
      " |   |      \n",
      " |   |      Refer to `numpy.nonzero` for full documentation.\n",
      " |   |      \n",
      " |   |      See Also\n",
      " |   |      --------\n",
      " |   |      numpy.nonzero : equivalent function\n",
      " |   |  \n",
      " |   |  partition(...)\n",
      " |   |      a.partition(kth, axis=-1, kind='introselect', order=None)\n",
      " |   |      \n",
      " |   |      Rearranges the elements in the array in such a way that the value of the\n",
      " |   |      element in kth position is in the position it would be in a sorted array.\n",
      " |   |      All elements smaller than the kth element are moved before this element and\n",
      " |   |      all equal or greater are moved behind it. The ordering of the elements in\n",
      " |   |      the two partitions is undefined.\n",
      " |   |      \n",
      " |   |      .. versionadded:: 1.8.0\n",
      " |   |      \n",
      " |   |      Parameters\n",
      " |   |      ----------\n",
      " |   |      kth : int or sequence of ints\n",
      " |   |          Element index to partition by. The kth element value will be in its\n",
      " |   |          final sorted position and all smaller elements will be moved before it\n",
      " |   |          and all equal or greater elements behind it.\n",
      " |   |          The order of all elements in the partitions is undefined.\n",
      " |   |          If provided with a sequence of kth it will partition all elements\n",
      " |   |          indexed by kth of them into their sorted position at once.\n",
      " |   |      axis : int, optional\n",
      " |   |          Axis along which to sort. Default is -1, which means sort along the\n",
      " |   |          last axis.\n",
      " |   |      kind : {'introselect'}, optional\n",
      " |   |          Selection algorithm. Default is 'introselect'.\n",
      " |   |      order : str or list of str, optional\n",
      " |   |          When `a` is an array with fields defined, this argument specifies\n",
      " |   |          which fields to compare first, second, etc. A single field can\n",
      " |   |          be specified as a string, and not all fields need to be specified,\n",
      " |   |          but unspecified fields will still be used, in the order in which\n",
      " |   |          they come up in the dtype, to break ties.\n",
      " |   |      \n",
      " |   |      See Also\n",
      " |   |      --------\n",
      " |   |      numpy.partition : Return a parititioned copy of an array.\n",
      " |   |      argpartition : Indirect partition.\n",
      " |   |      sort : Full sort.\n",
      " |   |      \n",
      " |   |      Notes\n",
      " |   |      -----\n",
      " |   |      See ``np.partition`` for notes on the different algorithms.\n",
      " |   |      \n",
      " |   |      Examples\n",
      " |   |      --------\n",
      " |   |      >>> a = np.array([3, 4, 2, 1])\n",
      " |   |      >>> a.partition(3)\n",
      " |   |      >>> a\n",
      " |   |      array([2, 1, 3, 4])\n",
      " |   |      \n",
      " |   |      >>> a.partition((1, 3))\n",
      " |   |      array([1, 2, 3, 4])\n",
      " |   |  \n",
      " |   |  put(...)\n",
      " |   |      a.put(indices, values, mode='raise')\n",
      " |   |      \n",
      " |   |      Set ``a.flat[n] = values[n]`` for all `n` in indices.\n",
      " |   |      \n",
      " |   |      Refer to `numpy.put` for full documentation.\n",
      " |   |      \n",
      " |   |      See Also\n",
      " |   |      --------\n",
      " |   |      numpy.put : equivalent function\n",
      " |   |  \n",
      " |   |  repeat(...)\n",
      " |   |      a.repeat(repeats, axis=None)\n",
      " |   |      \n",
      " |   |      Repeat elements of an array.\n",
      " |   |      \n",
      " |   |      Refer to `numpy.repeat` for full documentation.\n",
      " |   |      \n",
      " |   |      See Also\n",
      " |   |      --------\n",
      " |   |      numpy.repeat : equivalent function\n",
      " |   |  \n",
      " |   |  reshape(...)\n",
      " |   |      a.reshape(shape, order='C')\n",
      " |   |      \n",
      " |   |      Returns an array containing the same data with a new shape.\n",
      " |   |      \n",
      " |   |      Refer to `numpy.reshape` for full documentation.\n",
      " |   |      \n",
      " |   |      See Also\n",
      " |   |      --------\n",
      " |   |      numpy.reshape : equivalent function\n",
      " |   |      \n",
      " |   |      Notes\n",
      " |   |      -----\n",
      " |   |      Unlike the free function `numpy.reshape`, this method on `ndarray` allows\n",
      " |   |      the elements of the shape parameter to be passed in as separate arguments.\n",
      " |   |      For example, ``a.reshape(10, 11)`` is equivalent to\n",
      " |   |      ``a.reshape((10, 11))``.\n",
      " |   |  \n",
      " |   |  resize(...)\n",
      " |   |      a.resize(new_shape, refcheck=True)\n",
      " |   |      \n",
      " |   |      Change shape and size of array in-place.\n",
      " |   |      \n",
      " |   |      Parameters\n",
      " |   |      ----------\n",
      " |   |      new_shape : tuple of ints, or `n` ints\n",
      " |   |          Shape of resized array.\n",
      " |   |      refcheck : bool, optional\n",
      " |   |          If False, reference count will not be checked. Default is True.\n",
      " |   |      \n",
      " |   |      Returns\n",
      " |   |      -------\n",
      " |   |      None\n",
      " |   |      \n",
      " |   |      Raises\n",
      " |   |      ------\n",
      " |   |      ValueError\n",
      " |   |          If `a` does not own its own data or references or views to it exist,\n",
      " |   |          and the data memory must be changed.\n",
      " |   |          PyPy only: will always raise if the data memory must be changed, since\n",
      " |   |          there is no reliable way to determine if references or views to it\n",
      " |   |          exist.\n",
      " |   |      \n",
      " |   |      SystemError\n",
      " |   |          If the `order` keyword argument is specified. This behaviour is a\n",
      " |   |          bug in NumPy.\n",
      " |   |      \n",
      " |   |      See Also\n",
      " |   |      --------\n",
      " |   |      resize : Return a new array with the specified shape.\n",
      " |   |      \n",
      " |   |      Notes\n",
      " |   |      -----\n",
      " |   |      This reallocates space for the data area if necessary.\n",
      " |   |      \n",
      " |   |      Only contiguous arrays (data elements consecutive in memory) can be\n",
      " |   |      resized.\n",
      " |   |      \n",
      " |   |      The purpose of the reference count check is to make sure you\n",
      " |   |      do not use this array as a buffer for another Python object and then\n",
      " |   |      reallocate the memory. However, reference counts can increase in\n",
      " |   |      other ways so if you are sure that you have not shared the memory\n",
      " |   |      for this array with another Python object, then you may safely set\n",
      " |   |      `refcheck` to False.\n",
      " |   |      \n",
      " |   |      Examples\n",
      " |   |      --------\n",
      " |   |      Shrinking an array: array is flattened (in the order that the data are\n",
      " |   |      stored in memory), resized, and reshaped:\n",
      " |   |      \n",
      " |   |      >>> a = np.array([[0, 1], [2, 3]], order='C')\n",
      " |   |      >>> a.resize((2, 1))\n",
      " |   |      >>> a\n",
      " |   |      array([[0],\n",
      " |   |             [1]])\n",
      " |   |      \n",
      " |   |      >>> a = np.array([[0, 1], [2, 3]], order='F')\n",
      " |   |      >>> a.resize((2, 1))\n",
      " |   |      >>> a\n",
      " |   |      array([[0],\n",
      " |   |             [2]])\n",
      " |   |      \n",
      " |   |      Enlarging an array: as above, but missing entries are filled with zeros:\n",
      " |   |      \n",
      " |   |      >>> b = np.array([[0, 1], [2, 3]])\n",
      " |   |      >>> b.resize(2, 3) # new_shape parameter doesn't have to be a tuple\n",
      " |   |      >>> b\n",
      " |   |      array([[0, 1, 2],\n",
      " |   |             [3, 0, 0]])\n",
      " |   |      \n",
      " |   |      Referencing an array prevents resizing...\n",
      " |   |      \n",
      " |   |      >>> c = a\n",
      " |   |      >>> a.resize((1, 1))\n",
      " |   |      Traceback (most recent call last):\n",
      " |   |      ...\n",
      " |   |      ValueError: cannot resize an array that has been referenced ...\n",
      " |   |      \n",
      " |   |      Unless `refcheck` is False:\n",
      " |   |      \n",
      " |   |      >>> a.resize((1, 1), refcheck=False)\n",
      " |   |      >>> a\n",
      " |   |      array([[0]])\n",
      " |   |      >>> c\n",
      " |   |      array([[0]])\n",
      " |   |  \n",
      " |   |  round(...)\n",
      " |   |      a.round(decimals=0, out=None)\n",
      " |   |      \n",
      " |   |      Return `a` with each element rounded to the given number of decimals.\n",
      " |   |      \n",
      " |   |      Refer to `numpy.around` for full documentation.\n",
      " |   |      \n",
      " |   |      See Also\n",
      " |   |      --------\n",
      " |   |      numpy.around : equivalent function\n",
      " |   |  \n",
      " |   |  searchsorted(...)\n",
      " |   |      a.searchsorted(v, side='left', sorter=None)\n",
      " |   |      \n",
      " |   |      Find indices where elements of v should be inserted in a to maintain order.\n",
      " |   |      \n",
      " |   |      For full documentation, see `numpy.searchsorted`\n",
      " |   |      \n",
      " |   |      See Also\n",
      " |   |      --------\n",
      " |   |      numpy.searchsorted : equivalent function\n",
      " |   |  \n",
      " |   |  setfield(...)\n",
      " |   |      a.setfield(val, dtype, offset=0)\n",
      " |   |      \n",
      " |   |      Put a value into a specified place in a field defined by a data-type.\n",
      " |   |      \n",
      " |   |      Place `val` into `a`'s field defined by `dtype` and beginning `offset`\n",
      " |   |      bytes into the field.\n",
      " |   |      \n",
      " |   |      Parameters\n",
      " |   |      ----------\n",
      " |   |      val : object\n",
      " |   |          Value to be placed in field.\n",
      " |   |      dtype : dtype object\n",
      " |   |          Data-type of the field in which to place `val`.\n",
      " |   |      offset : int, optional\n",
      " |   |          The number of bytes into the field at which to place `val`.\n",
      " |   |      \n",
      " |   |      Returns\n",
      " |   |      -------\n",
      " |   |      None\n",
      " |   |      \n",
      " |   |      See Also\n",
      " |   |      --------\n",
      " |   |      getfield\n",
      " |   |      \n",
      " |   |      Examples\n",
      " |   |      --------\n",
      " |   |      >>> x = np.eye(3)\n",
      " |   |      >>> x.getfield(np.float64)\n",
      " |   |      array([[ 1.,  0.,  0.],\n",
      " |   |             [ 0.,  1.,  0.],\n",
      " |   |             [ 0.,  0.,  1.]])\n",
      " |   |      >>> x.setfield(3, np.int32)\n",
      " |   |      >>> x.getfield(np.int32)\n",
      " |   |      array([[3, 3, 3],\n",
      " |   |             [3, 3, 3],\n",
      " |   |             [3, 3, 3]])\n",
      " |   |      >>> x\n",
      " |   |      array([[  1.00000000e+000,   1.48219694e-323,   1.48219694e-323],\n",
      " |   |             [  1.48219694e-323,   1.00000000e+000,   1.48219694e-323],\n",
      " |   |             [  1.48219694e-323,   1.48219694e-323,   1.00000000e+000]])\n",
      " |   |      >>> x.setfield(np.eye(3), np.int32)\n",
      " |   |      >>> x\n",
      " |   |      array([[ 1.,  0.,  0.],\n",
      " |   |             [ 0.,  1.,  0.],\n",
      " |   |             [ 0.,  0.,  1.]])\n",
      " |   |  \n",
      " |   |  setflags(...)\n",
      " |   |      a.setflags(write=None, align=None, uic=None)\n",
      " |   |      \n",
      " |   |      Set array flags WRITEABLE, ALIGNED, (WRITEBACKIFCOPY and UPDATEIFCOPY),\n",
      " |   |      respectively.\n",
      " |   |      \n",
      " |   |      These Boolean-valued flags affect how numpy interprets the memory\n",
      " |   |      area used by `a` (see Notes below). The ALIGNED flag can only\n",
      " |   |      be set to True if the data is actually aligned according to the type.\n",
      " |   |      The WRITEBACKIFCOPY and (deprecated) UPDATEIFCOPY flags can never be set\n",
      " |   |      to True. The flag WRITEABLE can only be set to True if the array owns its\n",
      " |   |      own memory, or the ultimate owner of the memory exposes a writeable buffer\n",
      " |   |      interface, or is a string. (The exception for string is made so that\n",
      " |   |      unpickling can be done without copying memory.)\n",
      " |   |      \n",
      " |   |      Parameters\n",
      " |   |      ----------\n",
      " |   |      write : bool, optional\n",
      " |   |          Describes whether or not `a` can be written to.\n",
      " |   |      align : bool, optional\n",
      " |   |          Describes whether or not `a` is aligned properly for its type.\n",
      " |   |      uic : bool, optional\n",
      " |   |          Describes whether or not `a` is a copy of another \"base\" array.\n",
      " |   |      \n",
      " |   |      Notes\n",
      " |   |      -----\n",
      " |   |      Array flags provide information about how the memory area used\n",
      " |   |      for the array is to be interpreted. There are 7 Boolean flags\n",
      " |   |      in use, only four of which can be changed by the user:\n",
      " |   |      WRITEBACKIFCOPY, UPDATEIFCOPY, WRITEABLE, and ALIGNED.\n",
      " |   |      \n",
      " |   |      WRITEABLE (W) the data area can be written to;\n",
      " |   |      \n",
      " |   |      ALIGNED (A) the data and strides are aligned appropriately for the hardware\n",
      " |   |      (as determined by the compiler);\n",
      " |   |      \n",
      " |   |      UPDATEIFCOPY (U) (deprecated), replaced by WRITEBACKIFCOPY;\n",
      " |   |      \n",
      " |   |      WRITEBACKIFCOPY (X) this array is a copy of some other array (referenced\n",
      " |   |      by .base). When the C-API function PyArray_ResolveWritebackIfCopy is\n",
      " |   |      called, the base array will be updated with the contents of this array.\n",
      " |   |      \n",
      " |   |      All flags can be accessed using the single (upper case) letter as well\n",
      " |   |      as the full name.\n",
      " |   |      \n",
      " |   |      Examples\n",
      " |   |      --------\n",
      " |   |      >>> y\n",
      " |   |      array([[3, 1, 7],\n",
      " |   |             [2, 0, 0],\n",
      " |   |             [8, 5, 9]])\n",
      " |   |      >>> y.flags\n",
      " |   |        C_CONTIGUOUS : True\n",
      " |   |        F_CONTIGUOUS : False\n",
      " |   |        OWNDATA : True\n",
      " |   |        WRITEABLE : True\n",
      " |   |        ALIGNED : True\n",
      " |   |        WRITEBACKIFCOPY : False\n",
      " |   |        UPDATEIFCOPY : False\n",
      " |   |      >>> y.setflags(write=0, align=0)\n",
      " |   |      >>> y.flags\n",
      " |   |        C_CONTIGUOUS : True\n",
      " |   |        F_CONTIGUOUS : False\n",
      " |   |        OWNDATA : True\n",
      " |   |        WRITEABLE : False\n",
      " |   |        ALIGNED : False\n",
      " |   |        WRITEBACKIFCOPY : False\n",
      " |   |        UPDATEIFCOPY : False\n",
      " |   |      >>> y.setflags(uic=1)\n",
      " |   |      Traceback (most recent call last):\n",
      " |   |        File \"<stdin>\", line 1, in <module>\n",
      " |   |      ValueError: cannot set WRITEBACKIFCOPY flag to True\n",
      " |   |  \n",
      " |   |  sort(...)\n",
      " |   |      a.sort(axis=-1, kind='quicksort', order=None)\n",
      " |   |      \n",
      " |   |      Sort an array, in-place.\n",
      " |   |      \n",
      " |   |      Parameters\n",
      " |   |      ----------\n",
      " |   |      axis : int, optional\n",
      " |   |          Axis along which to sort. Default is -1, which means sort along the\n",
      " |   |          last axis.\n",
      " |   |      kind : {'quicksort', 'mergesort', 'heapsort', 'stable'}, optional\n",
      " |   |          Sorting algorithm. Default is 'quicksort'.\n",
      " |   |      order : str or list of str, optional\n",
      " |   |          When `a` is an array with fields defined, this argument specifies\n",
      " |   |          which fields to compare first, second, etc.  A single field can\n",
      " |   |          be specified as a string, and not all fields need be specified,\n",
      " |   |          but unspecified fields will still be used, in the order in which\n",
      " |   |          they come up in the dtype, to break ties.\n",
      " |   |      \n",
      " |   |      See Also\n",
      " |   |      --------\n",
      " |   |      numpy.sort : Return a sorted copy of an array.\n",
      " |   |      argsort : Indirect sort.\n",
      " |   |      lexsort : Indirect stable sort on multiple keys.\n",
      " |   |      searchsorted : Find elements in sorted array.\n",
      " |   |      partition: Partial sort.\n",
      " |   |      \n",
      " |   |      Notes\n",
      " |   |      -----\n",
      " |   |      See ``sort`` for notes on the different sorting algorithms.\n",
      " |   |      \n",
      " |   |      Examples\n",
      " |   |      --------\n",
      " |   |      >>> a = np.array([[1,4], [3,1]])\n",
      " |   |      >>> a.sort(axis=1)\n",
      " |   |      >>> a\n",
      " |   |      array([[1, 4],\n",
      " |   |             [1, 3]])\n",
      " |   |      >>> a.sort(axis=0)\n",
      " |   |      >>> a\n",
      " |   |      array([[1, 3],\n",
      " |   |             [1, 4]])\n",
      " |   |      \n",
      " |   |      Use the `order` keyword to specify a field to use when sorting a\n",
      " |   |      structured array:\n",
      " |   |      \n",
      " |   |      >>> a = np.array([('a', 2), ('c', 1)], dtype=[('x', 'S1'), ('y', int)])\n",
      " |   |      >>> a.sort(order='y')\n",
      " |   |      >>> a\n",
      " |   |      array([('c', 1), ('a', 2)],\n",
      " |   |            dtype=[('x', '|S1'), ('y', '<i4')])\n",
      " |   |  \n",
      " |   |  swapaxes(...)\n",
      " |   |      a.swapaxes(axis1, axis2)\n",
      " |   |      \n",
      " |   |      Return a view of the array with `axis1` and `axis2` interchanged.\n",
      " |   |      \n",
      " |   |      Refer to `numpy.swapaxes` for full documentation.\n",
      " |   |      \n",
      " |   |      See Also\n",
      " |   |      --------\n",
      " |   |      numpy.swapaxes : equivalent function\n",
      " |   |  \n",
      " |   |  take(...)\n",
      " |   |      a.take(indices, axis=None, out=None, mode='raise')\n",
      " |   |      \n",
      " |   |      Return an array formed from the elements of `a` at the given indices.\n",
      " |   |      \n",
      " |   |      Refer to `numpy.take` for full documentation.\n",
      " |   |      \n",
      " |   |      See Also\n",
      " |   |      --------\n",
      " |   |      numpy.take : equivalent function\n",
      " |   |  \n",
      " |   |  tobytes(...)\n",
      " |   |      a.tobytes(order='C')\n",
      " |   |      \n",
      " |   |      Construct Python bytes containing the raw data bytes in the array.\n",
      " |   |      \n",
      " |   |      Constructs Python bytes showing a copy of the raw contents of\n",
      " |   |      data memory. The bytes object can be produced in either 'C' or 'Fortran',\n",
      " |   |      or 'Any' order (the default is 'C'-order). 'Any' order means C-order\n",
      " |   |      unless the F_CONTIGUOUS flag in the array is set, in which case it\n",
      " |   |      means 'Fortran' order.\n",
      " |   |      \n",
      " |   |      .. versionadded:: 1.9.0\n",
      " |   |      \n",
      " |   |      Parameters\n",
      " |   |      ----------\n",
      " |   |      order : {'C', 'F', None}, optional\n",
      " |   |          Order of the data for multidimensional arrays:\n",
      " |   |          C, Fortran, or the same as for the original array.\n",
      " |   |      \n",
      " |   |      Returns\n",
      " |   |      -------\n",
      " |   |      s : bytes\n",
      " |   |          Python bytes exhibiting a copy of `a`'s raw data.\n",
      " |   |      \n",
      " |   |      Examples\n",
      " |   |      --------\n",
      " |   |      >>> x = np.array([[0, 1], [2, 3]])\n",
      " |   |      >>> x.tobytes()\n",
      " |   |      b'\\x00\\x00\\x00\\x00\\x01\\x00\\x00\\x00\\x02\\x00\\x00\\x00\\x03\\x00\\x00\\x00'\n",
      " |   |      >>> x.tobytes('C') == x.tobytes()\n",
      " |   |      True\n",
      " |   |      >>> x.tobytes('F')\n",
      " |   |      b'\\x00\\x00\\x00\\x00\\x02\\x00\\x00\\x00\\x01\\x00\\x00\\x00\\x03\\x00\\x00\\x00'\n",
      " |   |  \n",
      " |   |  tofile(...)\n",
      " |   |      a.tofile(fid, sep=\"\", format=\"%s\")\n",
      " |   |      \n",
      " |   |      Write array to a file as text or binary (default).\n",
      " |   |      \n",
      " |   |      Data is always written in 'C' order, independent of the order of `a`.\n",
      " |   |      The data produced by this method can be recovered using the function\n",
      " |   |      fromfile().\n",
      " |   |      \n",
      " |   |      Parameters\n",
      " |   |      ----------\n",
      " |   |      fid : file or str\n",
      " |   |          An open file object, or a string containing a filename.\n",
      " |   |      sep : str\n",
      " |   |          Separator between array items for text output.\n",
      " |   |          If \"\" (empty), a binary file is written, equivalent to\n",
      " |   |          ``file.write(a.tobytes())``.\n",
      " |   |      format : str\n",
      " |   |          Format string for text file output.\n",
      " |   |          Each entry in the array is formatted to text by first converting\n",
      " |   |          it to the closest Python type, and then using \"format\" % item.\n",
      " |   |      \n",
      " |   |      Notes\n",
      " |   |      -----\n",
      " |   |      This is a convenience function for quick storage of array data.\n",
      " |   |      Information on endianness and precision is lost, so this method is not a\n",
      " |   |      good choice for files intended to archive data or transport data between\n",
      " |   |      machines with different endianness. Some of these problems can be overcome\n",
      " |   |      by outputting the data as text files, at the expense of speed and file\n",
      " |   |      size.\n",
      " |   |      \n",
      " |   |      When fid is a file object, array contents are directly written to the\n",
      " |   |      file, bypassing the file object's ``write`` method. As a result, tofile\n",
      " |   |      cannot be used with files objects supporting compression (e.g., GzipFile)\n",
      " |   |      or file-like objects that do not support ``fileno()`` (e.g., BytesIO).\n",
      " |   |  \n",
      " |   |  tostring(...)\n",
      " |   |      a.tostring(order='C')\n",
      " |   |      \n",
      " |   |      Construct Python bytes containing the raw data bytes in the array.\n",
      " |   |      \n",
      " |   |      Constructs Python bytes showing a copy of the raw contents of\n",
      " |   |      data memory. The bytes object can be produced in either 'C' or 'Fortran',\n",
      " |   |      or 'Any' order (the default is 'C'-order). 'Any' order means C-order\n",
      " |   |      unless the F_CONTIGUOUS flag in the array is set, in which case it\n",
      " |   |      means 'Fortran' order.\n",
      " |   |      \n",
      " |   |      This function is a compatibility alias for tobytes. Despite its name it returns bytes not strings.\n",
      " |   |      \n",
      " |   |      Parameters\n",
      " |   |      ----------\n",
      " |   |      order : {'C', 'F', None}, optional\n",
      " |   |          Order of the data for multidimensional arrays:\n",
      " |   |          C, Fortran, or the same as for the original array.\n",
      " |   |      \n",
      " |   |      Returns\n",
      " |   |      -------\n",
      " |   |      s : bytes\n",
      " |   |          Python bytes exhibiting a copy of `a`'s raw data.\n",
      " |   |      \n",
      " |   |      Examples\n",
      " |   |      --------\n",
      " |   |      >>> x = np.array([[0, 1], [2, 3]])\n",
      " |   |      >>> x.tobytes()\n",
      " |   |      b'\\x00\\x00\\x00\\x00\\x01\\x00\\x00\\x00\\x02\\x00\\x00\\x00\\x03\\x00\\x00\\x00'\n",
      " |   |      >>> x.tobytes('C') == x.tobytes()\n",
      " |   |      True\n",
      " |   |      >>> x.tobytes('F')\n",
      " |   |      b'\\x00\\x00\\x00\\x00\\x02\\x00\\x00\\x00\\x01\\x00\\x00\\x00\\x03\\x00\\x00\\x00'\n",
      " |   |  \n",
      " |   |  trace(...)\n",
      " |   |      a.trace(offset=0, axis1=0, axis2=1, dtype=None, out=None)\n",
      " |   |      \n",
      " |   |      Return the sum along diagonals of the array.\n",
      " |   |      \n",
      " |   |      Refer to `numpy.trace` for full documentation.\n",
      " |   |      \n",
      " |   |      See Also\n",
      " |   |      --------\n",
      " |   |      numpy.trace : equivalent function\n",
      " |   |  \n",
      " |   |  transpose(...)\n",
      " |   |      a.transpose(*axes)\n",
      " |   |      \n",
      " |   |      Returns a view of the array with axes transposed.\n",
      " |   |      \n",
      " |   |      For a 1-D array, this has no effect. (To change between column and\n",
      " |   |      row vectors, first cast the 1-D array into a matrix object.)\n",
      " |   |      For a 2-D array, this is the usual matrix transpose.\n",
      " |   |      For an n-D array, if axes are given, their order indicates how the\n",
      " |   |      axes are permuted (see Examples). If axes are not provided and\n",
      " |   |      ``a.shape = (i[0], i[1], ... i[n-2], i[n-1])``, then\n",
      " |   |      ``a.transpose().shape = (i[n-1], i[n-2], ... i[1], i[0])``.\n",
      " |   |      \n",
      " |   |      Parameters\n",
      " |   |      ----------\n",
      " |   |      axes : None, tuple of ints, or `n` ints\n",
      " |   |      \n",
      " |   |       * None or no argument: reverses the order of the axes.\n",
      " |   |      \n",
      " |   |       * tuple of ints: `i` in the `j`-th place in the tuple means `a`'s\n",
      " |   |         `i`-th axis becomes `a.transpose()`'s `j`-th axis.\n",
      " |   |      \n",
      " |   |       * `n` ints: same as an n-tuple of the same ints (this form is\n",
      " |   |         intended simply as a \"convenience\" alternative to the tuple form)\n",
      " |   |      \n",
      " |   |      Returns\n",
      " |   |      -------\n",
      " |   |      out : ndarray\n",
      " |   |          View of `a`, with axes suitably permuted.\n",
      " |   |      \n",
      " |   |      See Also\n",
      " |   |      --------\n",
      " |   |      ndarray.T : Array property returning the array transposed.\n",
      " |   |      \n",
      " |   |      Examples\n",
      " |   |      --------\n",
      " |   |      >>> a = np.array([[1, 2], [3, 4]])\n",
      " |   |      >>> a\n",
      " |   |      array([[1, 2],\n",
      " |   |             [3, 4]])\n",
      " |   |      >>> a.transpose()\n",
      " |   |      array([[1, 3],\n",
      " |   |             [2, 4]])\n",
      " |   |      >>> a.transpose((1, 0))\n",
      " |   |      array([[1, 3],\n",
      " |   |             [2, 4]])\n",
      " |   |      >>> a.transpose(1, 0)\n",
      " |   |      array([[1, 3],\n",
      " |   |             [2, 4]])\n",
      " |   |  \n",
      " |   |  view(...)\n",
      " |   |      a.view(dtype=None, type=None)\n",
      " |   |      \n",
      " |   |      New view of array with the same data.\n",
      " |   |      \n",
      " |   |      Parameters\n",
      " |   |      ----------\n",
      " |   |      dtype : data-type or ndarray sub-class, optional\n",
      " |   |          Data-type descriptor of the returned view, e.g., float32 or int16. The\n",
      " |   |          default, None, results in the view having the same data-type as `a`.\n",
      " |   |          This argument can also be specified as an ndarray sub-class, which\n",
      " |   |          then specifies the type of the returned object (this is equivalent to\n",
      " |   |          setting the ``type`` parameter).\n",
      " |   |      type : Python type, optional\n",
      " |   |          Type of the returned view, e.g., ndarray or matrix.  Again, the\n",
      " |   |          default None results in type preservation.\n",
      " |   |      \n",
      " |   |      Notes\n",
      " |   |      -----\n",
      " |   |      ``a.view()`` is used two different ways:\n",
      " |   |      \n",
      " |   |      ``a.view(some_dtype)`` or ``a.view(dtype=some_dtype)`` constructs a view\n",
      " |   |      of the array's memory with a different data-type.  This can cause a\n",
      " |   |      reinterpretation of the bytes of memory.\n",
      " |   |      \n",
      " |   |      ``a.view(ndarray_subclass)`` or ``a.view(type=ndarray_subclass)`` just\n",
      " |   |      returns an instance of `ndarray_subclass` that looks at the same array\n",
      " |   |      (same shape, dtype, etc.)  This does not cause a reinterpretation of the\n",
      " |   |      memory.\n",
      " |   |      \n",
      " |   |      For ``a.view(some_dtype)``, if ``some_dtype`` has a different number of\n",
      " |   |      bytes per entry than the previous dtype (for example, converting a\n",
      " |   |      regular array to a structured array), then the behavior of the view\n",
      " |   |      cannot be predicted just from the superficial appearance of ``a`` (shown\n",
      " |   |      by ``print(a)``). It also depends on exactly how ``a`` is stored in\n",
      " |   |      memory. Therefore if ``a`` is C-ordered versus fortran-ordered, versus\n",
      " |   |      defined as a slice or transpose, etc., the view may give different\n",
      " |   |      results.\n",
      " |   |      \n",
      " |   |      \n",
      " |   |      Examples\n",
      " |   |      --------\n",
      " |   |      >>> x = np.array([(1, 2)], dtype=[('a', np.int8), ('b', np.int8)])\n",
      " |   |      \n",
      " |   |      Viewing array data using a different type and dtype:\n",
      " |   |      \n",
      " |   |      >>> y = x.view(dtype=np.int16, type=np.matrix)\n",
      " |   |      >>> y\n",
      " |   |      matrix([[513]], dtype=int16)\n",
      " |   |      >>> print(type(y))\n",
      " |   |      <class 'numpy.matrixlib.defmatrix.matrix'>\n",
      " |   |      \n",
      " |   |      Creating a view on a structured array so it can be used in calculations\n",
      " |   |      \n",
      " |   |      >>> x = np.array([(1, 2),(3,4)], dtype=[('a', np.int8), ('b', np.int8)])\n",
      " |   |      >>> xv = x.view(dtype=np.int8).reshape(-1,2)\n",
      " |   |      >>> xv\n",
      " |   |      array([[1, 2],\n",
      " |   |             [3, 4]], dtype=int8)\n",
      " |   |      >>> xv.mean(0)\n",
      " |   |      array([ 2.,  3.])\n",
      " |   |      \n",
      " |   |      Making changes to the view changes the underlying array\n",
      " |   |      \n",
      " |   |      >>> xv[0,1] = 20\n",
      " |   |      >>> print(x)\n",
      " |   |      [(1, 20) (3, 4)]\n",
      " |   |      \n",
      " |   |      Using a view to convert an array to a recarray:\n",
      " |   |      \n",
      " |   |      >>> z = x.view(np.recarray)\n",
      " |   |      >>> z.a\n",
      " |   |      array([1], dtype=int8)\n",
      " |   |      \n",
      " |   |      Views share data:\n",
      " |   |      \n",
      " |   |      >>> x[0] = (9, 10)\n",
      " |   |      >>> z[0]\n",
      " |   |      (9, 10)\n",
      " |   |      \n",
      " |   |      Views that change the dtype size (bytes per entry) should normally be\n",
      " |   |      avoided on arrays defined by slices, transposes, fortran-ordering, etc.:\n",
      " |   |      \n",
      " |   |      >>> x = np.array([[1,2,3],[4,5,6]], dtype=np.int16)\n",
      " |   |      >>> y = x[:, 0:2]\n",
      " |   |      >>> y\n",
      " |   |      array([[1, 2],\n",
      " |   |             [4, 5]], dtype=int16)\n",
      " |   |      >>> y.view(dtype=[('width', np.int16), ('length', np.int16)])\n",
      " |   |      Traceback (most recent call last):\n",
      " |   |        File \"<stdin>\", line 1, in <module>\n",
      " |   |      ValueError: new type not compatible with array.\n",
      " |   |      >>> z = y.copy()\n",
      " |   |      >>> z.view(dtype=[('width', np.int16), ('length', np.int16)])\n",
      " |   |      array([[(1, 2)],\n",
      " |   |             [(4, 5)]], dtype=[('width', '<i2'), ('length', '<i2')])\n",
      " |   |  \n",
      " |   |  ----------------------------------------------------------------------\n",
      " |   |  Data descriptors inherited from numpy.ndarray:\n",
      " |   |  \n",
      " |   |  __array_interface__\n",
      " |   |      Array protocol: Python side.\n",
      " |   |  \n",
      " |   |  __array_struct__\n",
      " |   |      Array protocol: C-struct side.\n",
      " |   |  \n",
      " |   |  base\n",
      " |   |      Base object if memory is from some other object.\n",
      " |   |      \n",
      " |   |      Examples\n",
      " |   |      --------\n",
      " |   |      The base of an array that owns its memory is None:\n",
      " |   |      \n",
      " |   |      >>> x = np.array([1,2,3,4])\n",
      " |   |      >>> x.base is None\n",
      " |   |      True\n",
      " |   |      \n",
      " |   |      Slicing creates a view, whose memory is shared with x:\n",
      " |   |      \n",
      " |   |      >>> y = x[2:]\n",
      " |   |      >>> y.base is x\n",
      " |   |      True\n",
      " |   |  \n",
      " |   |  ctypes\n",
      " |   |      An object to simplify the interaction of the array with the ctypes\n",
      " |   |      module.\n",
      " |   |      \n",
      " |   |      This attribute creates an object that makes it easier to use arrays\n",
      " |   |      when calling shared libraries with the ctypes module. The returned\n",
      " |   |      object has, among others, data, shape, and strides attributes (see\n",
      " |   |      Notes below) which themselves return ctypes objects that can be used\n",
      " |   |      as arguments to a shared library.\n",
      " |   |      \n",
      " |   |      Parameters\n",
      " |   |      ----------\n",
      " |   |      None\n",
      " |   |      \n",
      " |   |      Returns\n",
      " |   |      -------\n",
      " |   |      c : Python object\n",
      " |   |          Possessing attributes data, shape, strides, etc.\n",
      " |   |      \n",
      " |   |      See Also\n",
      " |   |      --------\n",
      " |   |      numpy.ctypeslib\n",
      " |   |      \n",
      " |   |      Notes\n",
      " |   |      -----\n",
      " |   |      Below are the public attributes of this object which were documented\n",
      " |   |      in \"Guide to NumPy\" (we have omitted undocumented public attributes,\n",
      " |   |      as well as documented private attributes):\n",
      " |   |      \n",
      " |   |      * data: A pointer to the memory area of the array as a Python integer.\n",
      " |   |        This memory area may contain data that is not aligned, or not in correct\n",
      " |   |        byte-order. The memory area may not even be writeable. The array\n",
      " |   |        flags and data-type of this array should be respected when passing this\n",
      " |   |        attribute to arbitrary C-code to avoid trouble that can include Python\n",
      " |   |        crashing. User Beware! The value of this attribute is exactly the same\n",
      " |   |        as self._array_interface_['data'][0].\n",
      " |   |      \n",
      " |   |      * shape (c_intp*self.ndim): A ctypes array of length self.ndim where\n",
      " |   |        the basetype is the C-integer corresponding to dtype('p') on this\n",
      " |   |        platform. This base-type could be c_int, c_long, or c_longlong\n",
      " |   |        depending on the platform. The c_intp type is defined accordingly in\n",
      " |   |        numpy.ctypeslib. The ctypes array contains the shape of the underlying\n",
      " |   |        array.\n",
      " |   |      \n",
      " |   |      * strides (c_intp*self.ndim): A ctypes array of length self.ndim where\n",
      " |   |        the basetype is the same as for the shape attribute. This ctypes array\n",
      " |   |        contains the strides information from the underlying array. This strides\n",
      " |   |        information is important for showing how many bytes must be jumped to\n",
      " |   |        get to the next element in the array.\n",
      " |   |      \n",
      " |   |      * data_as(obj): Return the data pointer cast to a particular c-types object.\n",
      " |   |        For example, calling self._as_parameter_ is equivalent to\n",
      " |   |        self.data_as(ctypes.c_void_p). Perhaps you want to use the data as a\n",
      " |   |        pointer to a ctypes array of floating-point data:\n",
      " |   |        self.data_as(ctypes.POINTER(ctypes.c_double)).\n",
      " |   |      \n",
      " |   |      * shape_as(obj): Return the shape tuple as an array of some other c-types\n",
      " |   |        type. For example: self.shape_as(ctypes.c_short).\n",
      " |   |      \n",
      " |   |      * strides_as(obj): Return the strides tuple as an array of some other\n",
      " |   |        c-types type. For example: self.strides_as(ctypes.c_longlong).\n",
      " |   |      \n",
      " |   |      Be careful using the ctypes attribute - especially on temporary\n",
      " |   |      arrays or arrays constructed on the fly. For example, calling\n",
      " |   |      ``(a+b).ctypes.data_as(ctypes.c_void_p)`` returns a pointer to memory\n",
      " |   |      that is invalid because the array created as (a+b) is deallocated\n",
      " |   |      before the next Python statement. You can avoid this problem using\n",
      " |   |      either ``c=a+b`` or ``ct=(a+b).ctypes``. In the latter case, ct will\n",
      " |   |      hold a reference to the array until ct is deleted or re-assigned.\n",
      " |   |      \n",
      " |   |      If the ctypes module is not available, then the ctypes attribute\n",
      " |   |      of array objects still returns something useful, but ctypes objects\n",
      " |   |      are not returned and errors may be raised instead. In particular,\n",
      " |   |      the object will still have the as parameter attribute which will\n",
      " |   |      return an integer equal to the data attribute.\n",
      " |   |      \n",
      " |   |      Examples\n",
      " |   |      --------\n",
      " |   |      >>> import ctypes\n",
      " |   |      >>> x\n",
      " |   |      array([[0, 1],\n",
      " |   |             [2, 3]])\n",
      " |   |      >>> x.ctypes.data\n",
      " |   |      30439712\n",
      " |   |      >>> x.ctypes.data_as(ctypes.POINTER(ctypes.c_long))\n",
      " |   |      <ctypes.LP_c_long object at 0x01F01300>\n",
      " |   |      >>> x.ctypes.data_as(ctypes.POINTER(ctypes.c_long)).contents\n",
      " |   |      c_long(0)\n",
      " |   |      >>> x.ctypes.data_as(ctypes.POINTER(ctypes.c_longlong)).contents\n",
      " |   |      c_longlong(4294967296L)\n",
      " |   |      >>> x.ctypes.shape\n",
      " |   |      <numpy.core._internal.c_long_Array_2 object at 0x01FFD580>\n",
      " |   |      >>> x.ctypes.shape_as(ctypes.c_long)\n",
      " |   |      <numpy.core._internal.c_long_Array_2 object at 0x01FCE620>\n",
      " |   |      >>> x.ctypes.strides\n",
      " |   |      <numpy.core._internal.c_long_Array_2 object at 0x01FCE620>\n",
      " |   |      >>> x.ctypes.strides_as(ctypes.c_longlong)\n",
      " |   |      <numpy.core._internal.c_longlong_Array_2 object at 0x01F01300>\n",
      " |   |  \n",
      " |   |  data\n",
      " |   |      Python buffer object pointing to the start of the array's data.\n",
      " |   |  \n",
      " |   |  dtype\n",
      " |   |      Data-type of the array's elements.\n",
      " |   |      \n",
      " |   |      Parameters\n",
      " |   |      ----------\n",
      " |   |      None\n",
      " |   |      \n",
      " |   |      Returns\n",
      " |   |      -------\n",
      " |   |      d : numpy dtype object\n",
      " |   |      \n",
      " |   |      See Also\n",
      " |   |      --------\n",
      " |   |      numpy.dtype\n",
      " |   |      \n",
      " |   |      Examples\n",
      " |   |      --------\n",
      " |   |      >>> x\n",
      " |   |      array([[0, 1],\n",
      " |   |             [2, 3]])\n",
      " |   |      >>> x.dtype\n",
      " |   |      dtype('int32')\n",
      " |   |      >>> type(x.dtype)\n",
      " |   |      <type 'numpy.dtype'>\n",
      " |   |  \n",
      " |   |  flags\n",
      " |   |      Information about the memory layout of the array.\n",
      " |   |      \n",
      " |   |      Attributes\n",
      " |   |      ----------\n",
      " |   |      C_CONTIGUOUS (C)\n",
      " |   |          The data is in a single, C-style contiguous segment.\n",
      " |   |      F_CONTIGUOUS (F)\n",
      " |   |          The data is in a single, Fortran-style contiguous segment.\n",
      " |   |      OWNDATA (O)\n",
      " |   |          The array owns the memory it uses or borrows it from another object.\n",
      " |   |      WRITEABLE (W)\n",
      " |   |          The data area can be written to.  Setting this to False locks\n",
      " |   |          the data, making it read-only.  A view (slice, etc.) inherits WRITEABLE\n",
      " |   |          from its base array at creation time, but a view of a writeable\n",
      " |   |          array may be subsequently locked while the base array remains writeable.\n",
      " |   |          (The opposite is not true, in that a view of a locked array may not\n",
      " |   |          be made writeable.  However, currently, locking a base object does not\n",
      " |   |          lock any views that already reference it, so under that circumstance it\n",
      " |   |          is possible to alter the contents of a locked array via a previously\n",
      " |   |          created writeable view onto it.)  Attempting to change a non-writeable\n",
      " |   |          array raises a RuntimeError exception.\n",
      " |   |      ALIGNED (A)\n",
      " |   |          The data and all elements are aligned appropriately for the hardware.\n",
      " |   |      WRITEBACKIFCOPY (X)\n",
      " |   |          This array is a copy of some other array. The C-API function\n",
      " |   |          PyArray_ResolveWritebackIfCopy must be called before deallocating\n",
      " |   |          to the base array will be updated with the contents of this array.\n",
      " |   |      UPDATEIFCOPY (U)\n",
      " |   |          (Deprecated, use WRITEBACKIFCOPY) This array is a copy of some other array.\n",
      " |   |          When this array is\n",
      " |   |          deallocated, the base array will be updated with the contents of\n",
      " |   |          this array.\n",
      " |   |      FNC\n",
      " |   |          F_CONTIGUOUS and not C_CONTIGUOUS.\n",
      " |   |      FORC\n",
      " |   |          F_CONTIGUOUS or C_CONTIGUOUS (one-segment test).\n",
      " |   |      BEHAVED (B)\n",
      " |   |          ALIGNED and WRITEABLE.\n",
      " |   |      CARRAY (CA)\n",
      " |   |          BEHAVED and C_CONTIGUOUS.\n",
      " |   |      FARRAY (FA)\n",
      " |   |          BEHAVED and F_CONTIGUOUS and not C_CONTIGUOUS.\n",
      " |   |      \n",
      " |   |      Notes\n",
      " |   |      -----\n",
      " |   |      The `flags` object can be accessed dictionary-like (as in ``a.flags['WRITEABLE']``),\n",
      " |   |      or by using lowercased attribute names (as in ``a.flags.writeable``). Short flag\n",
      " |   |      names are only supported in dictionary access.\n",
      " |   |      \n",
      " |   |      Only the WRITEBACKIFCOPY, UPDATEIFCOPY, WRITEABLE, and ALIGNED flags can be\n",
      " |   |      changed by the user, via direct assignment to the attribute or dictionary\n",
      " |   |      entry, or by calling `ndarray.setflags`.\n",
      " |   |      \n",
      " |   |      The array flags cannot be set arbitrarily:\n",
      " |   |      \n",
      " |   |      - UPDATEIFCOPY can only be set ``False``.\n",
      " |   |      - WRITEBACKIFCOPY can only be set ``False``.\n",
      " |   |      - ALIGNED can only be set ``True`` if the data is truly aligned.\n",
      " |   |      - WRITEABLE can only be set ``True`` if the array owns its own memory\n",
      " |   |        or the ultimate owner of the memory exposes a writeable buffer\n",
      " |   |        interface or is a string.\n",
      " |   |      \n",
      " |   |      Arrays can be both C-style and Fortran-style contiguous simultaneously.\n",
      " |   |      This is clear for 1-dimensional arrays, but can also be true for higher\n",
      " |   |      dimensional arrays.\n",
      " |   |      \n",
      " |   |      Even for contiguous arrays a stride for a given dimension\n",
      " |   |      ``arr.strides[dim]`` may be *arbitrary* if ``arr.shape[dim] == 1``\n",
      " |   |      or the array has no elements.\n",
      " |   |      It does *not* generally hold that ``self.strides[-1] == self.itemsize``\n",
      " |   |      for C-style contiguous arrays or ``self.strides[0] == self.itemsize`` for\n",
      " |   |      Fortran-style contiguous arrays is true.\n",
      " |   |  \n",
      " |   |  flat\n",
      " |   |      A 1-D iterator over the array.\n",
      " |   |      \n",
      " |   |      This is a `numpy.flatiter` instance, which acts similarly to, but is not\n",
      " |   |      a subclass of, Python's built-in iterator object.\n",
      " |   |      \n",
      " |   |      See Also\n",
      " |   |      --------\n",
      " |   |      flatten : Return a copy of the array collapsed into one dimension.\n",
      " |   |      \n",
      " |   |      flatiter\n",
      " |   |      \n",
      " |   |      Examples\n",
      " |   |      --------\n",
      " |   |      >>> x = np.arange(1, 7).reshape(2, 3)\n",
      " |   |      >>> x\n",
      " |   |      array([[1, 2, 3],\n",
      " |   |             [4, 5, 6]])\n",
      " |   |      >>> x.flat[3]\n",
      " |   |      4\n",
      " |   |      >>> x.T\n",
      " |   |      array([[1, 4],\n",
      " |   |             [2, 5],\n",
      " |   |             [3, 6]])\n",
      " |   |      >>> x.T.flat[3]\n",
      " |   |      5\n",
      " |   |      >>> type(x.flat)\n",
      " |   |      <type 'numpy.flatiter'>\n",
      " |   |      \n",
      " |   |      An assignment example:\n",
      " |   |      \n",
      " |   |      >>> x.flat = 3; x\n",
      " |   |      array([[3, 3, 3],\n",
      " |   |             [3, 3, 3]])\n",
      " |   |      >>> x.flat[[1,4]] = 1; x\n",
      " |   |      array([[3, 1, 3],\n",
      " |   |             [3, 1, 3]])\n",
      " |   |  \n",
      " |   |  imag\n",
      " |   |      The imaginary part of the array.\n",
      " |   |      \n",
      " |   |      Examples\n",
      " |   |      --------\n",
      " |   |      >>> x = np.sqrt([1+0j, 0+1j])\n",
      " |   |      >>> x.imag\n",
      " |   |      array([ 0.        ,  0.70710678])\n",
      " |   |      >>> x.imag.dtype\n",
      " |   |      dtype('float64')\n",
      " |   |  \n",
      " |   |  itemsize\n",
      " |   |      Length of one array element in bytes.\n",
      " |   |      \n",
      " |   |      Examples\n",
      " |   |      --------\n",
      " |   |      >>> x = np.array([1,2,3], dtype=np.float64)\n",
      " |   |      >>> x.itemsize\n",
      " |   |      8\n",
      " |   |      >>> x = np.array([1,2,3], dtype=np.complex128)\n",
      " |   |      >>> x.itemsize\n",
      " |   |      16\n",
      " |   |  \n",
      " |   |  nbytes\n",
      " |   |      Total bytes consumed by the elements of the array.\n",
      " |   |      \n",
      " |   |      Notes\n",
      " |   |      -----\n",
      " |   |      Does not include memory consumed by non-element attributes of the\n",
      " |   |      array object.\n",
      " |   |      \n",
      " |   |      Examples\n",
      " |   |      --------\n",
      " |   |      >>> x = np.zeros((3,5,2), dtype=np.complex128)\n",
      " |   |      >>> x.nbytes\n",
      " |   |      480\n",
      " |   |      >>> np.prod(x.shape) * x.itemsize\n",
      " |   |      480\n",
      " |   |  \n",
      " |   |  ndim\n",
      " |   |      Number of array dimensions.\n",
      " |   |      \n",
      " |   |      Examples\n",
      " |   |      --------\n",
      " |   |      >>> x = np.array([1, 2, 3])\n",
      " |   |      >>> x.ndim\n",
      " |   |      1\n",
      " |   |      >>> y = np.zeros((2, 3, 4))\n",
      " |   |      >>> y.ndim\n",
      " |   |      3\n",
      " |   |  \n",
      " |   |  real\n",
      " |   |      The real part of the array.\n",
      " |   |      \n",
      " |   |      Examples\n",
      " |   |      --------\n",
      " |   |      >>> x = np.sqrt([1+0j, 0+1j])\n",
      " |   |      >>> x.real\n",
      " |   |      array([ 1.        ,  0.70710678])\n",
      " |   |      >>> x.real.dtype\n",
      " |   |      dtype('float64')\n",
      " |   |      \n",
      " |   |      See Also\n",
      " |   |      --------\n",
      " |   |      numpy.real : equivalent function\n",
      " |   |  \n",
      " |   |  shape\n",
      " |   |      Tuple of array dimensions.\n",
      " |   |      \n",
      " |   |      The shape property is usually used to get the current shape of an array,\n",
      " |   |      but may also be used to reshape the array in-place by assigning a tuple of\n",
      " |   |      array dimensions to it.  As with `numpy.reshape`, one of the new shape\n",
      " |   |      dimensions can be -1, in which case its value is inferred from the size of\n",
      " |   |      the array and the remaining dimensions. Reshaping an array in-place will\n",
      " |   |      fail if a copy is required.\n",
      " |   |      \n",
      " |   |      Examples\n",
      " |   |      --------\n",
      " |   |      >>> x = np.array([1, 2, 3, 4])\n",
      " |   |      >>> x.shape\n",
      " |   |      (4,)\n",
      " |   |      >>> y = np.zeros((2, 3, 4))\n",
      " |   |      >>> y.shape\n",
      " |   |      (2, 3, 4)\n",
      " |   |      >>> y.shape = (3, 8)\n",
      " |   |      >>> y\n",
      " |   |      array([[ 0.,  0.,  0.,  0.,  0.,  0.,  0.,  0.],\n",
      " |   |             [ 0.,  0.,  0.,  0.,  0.,  0.,  0.,  0.],\n",
      " |   |             [ 0.,  0.,  0.,  0.,  0.,  0.,  0.,  0.]])\n",
      " |   |      >>> y.shape = (3, 6)\n",
      " |   |      Traceback (most recent call last):\n",
      " |   |        File \"<stdin>\", line 1, in <module>\n",
      " |   |      ValueError: total size of new array must be unchanged\n",
      " |   |      >>> np.zeros((4,2))[::2].shape = (-1,)\n",
      " |   |      Traceback (most recent call last):\n",
      " |   |        File \"<stdin>\", line 1, in <module>\n",
      " |   |      AttributeError: incompatible shape for a non-contiguous array\n",
      " |   |      \n",
      " |   |      See Also\n",
      " |   |      --------\n",
      " |   |      numpy.reshape : similar function\n",
      " |   |      ndarray.reshape : similar method\n",
      " |   |  \n",
      " |   |  size\n",
      " |   |      Number of elements in the array.\n",
      " |   |      \n",
      " |   |      Equal to ``np.prod(a.shape)``, i.e., the product of the array's\n",
      " |   |      dimensions.\n",
      " |   |      \n",
      " |   |      Notes\n",
      " |   |      -----\n",
      " |   |      `a.size` returns a standard arbitrary precision Python integer. This \n",
      " |   |      may not be the case with other methods of obtaining the same value\n",
      " |   |      (like the suggested ``np.prod(a.shape)``, which returns an instance\n",
      " |   |      of ``np.int_``), and may be relevant if the value is used further in\n",
      " |   |      calculations that may overflow a fixed size integer type.\n",
      " |   |      \n",
      " |   |      Examples\n",
      " |   |      --------\n",
      " |   |      >>> x = np.zeros((3, 5, 2), dtype=np.complex128)\n",
      " |   |      >>> x.size\n",
      " |   |      30\n",
      " |   |      >>> np.prod(x.shape)\n",
      " |   |      30\n",
      " |   |  \n",
      " |   |  strides\n",
      " |   |      Tuple of bytes to step in each dimension when traversing an array.\n",
      " |   |      \n",
      " |   |      The byte offset of element ``(i[0], i[1], ..., i[n])`` in an array `a`\n",
      " |   |      is::\n",
      " |   |      \n",
      " |   |          offset = sum(np.array(i) * a.strides)\n",
      " |   |      \n",
      " |   |      A more detailed explanation of strides can be found in the\n",
      " |   |      \"ndarray.rst\" file in the NumPy reference guide.\n",
      " |   |      \n",
      " |   |      Notes\n",
      " |   |      -----\n",
      " |   |      Imagine an array of 32-bit integers (each 4 bytes)::\n",
      " |   |      \n",
      " |   |        x = np.array([[0, 1, 2, 3, 4],\n",
      " |   |                      [5, 6, 7, 8, 9]], dtype=np.int32)\n",
      " |   |      \n",
      " |   |      This array is stored in memory as 40 bytes, one after the other\n",
      " |   |      (known as a contiguous block of memory).  The strides of an array tell\n",
      " |   |      us how many bytes we have to skip in memory to move to the next position\n",
      " |   |      along a certain axis.  For example, we have to skip 4 bytes (1 value) to\n",
      " |   |      move to the next column, but 20 bytes (5 values) to get to the same\n",
      " |   |      position in the next row.  As such, the strides for the array `x` will be\n",
      " |   |      ``(20, 4)``.\n",
      " |   |      \n",
      " |   |      See Also\n",
      " |   |      --------\n",
      " |   |      numpy.lib.stride_tricks.as_strided\n",
      " |   |      \n",
      " |   |      Examples\n",
      " |   |      --------\n",
      " |   |      >>> y = np.reshape(np.arange(2*3*4), (2,3,4))\n",
      " |   |      >>> y\n",
      " |   |      array([[[ 0,  1,  2,  3],\n",
      " |   |              [ 4,  5,  6,  7],\n",
      " |   |              [ 8,  9, 10, 11]],\n",
      " |   |             [[12, 13, 14, 15],\n",
      " |   |              [16, 17, 18, 19],\n",
      " |   |              [20, 21, 22, 23]]])\n",
      " |   |      >>> y.strides\n",
      " |   |      (48, 16, 4)\n",
      " |   |      >>> y[1,1,1]\n",
      " |   |      17\n",
      " |   |      >>> offset=sum(y.strides * np.array((1,1,1)))\n",
      " |   |      >>> offset/y.itemsize\n",
      " |   |      17\n",
      " |   |      \n",
      " |   |      >>> x = np.reshape(np.arange(5*6*7*8), (5,6,7,8)).transpose(2,3,1,0)\n",
      " |   |      >>> x.strides\n",
      " |   |      (32, 4, 224, 1344)\n",
      " |   |      >>> i = np.array([3,5,2,2])\n",
      " |   |      >>> offset = sum(i * x.strides)\n",
      " |   |      >>> x[3,5,2,2]\n",
      " |   |      813\n",
      " |   |      >>> offset / x.itemsize\n",
      " |   |      813\n",
      " |   |  \n",
      " |   |  ----------------------------------------------------------------------\n",
      " |   |  Data and other attributes inherited from numpy.ndarray:\n",
      " |   |  \n",
      " |   |  __hash__ = None\n",
      " |  \n",
      " |  ----------------------------------------------------------------------\n",
      " |  Data descriptors inherited from AxisConcatenator:\n",
      " |  \n",
      " |  __dict__\n",
      " |      dictionary for instance variables (if defined)\n",
      " |  \n",
      " |  __weakref__\n",
      " |      list of weak references to the object (if defined)\n",
      "\n"
     ]
    }
   ],
   "source": [
    "help(np.c_)"
   ]
  },
  {
   "cell_type": "code",
   "execution_count": 84,
   "metadata": {
    "ExecuteTime": {
     "end_time": "2019-04-17T11:07:31.218492Z",
     "start_time": "2019-04-17T11:07:30.938958Z"
    }
   },
   "outputs": [
    {
     "data": {
      "text/plain": [
       "array([[False,  True]])"
      ]
     },
     "execution_count": 84,
     "metadata": {},
     "output_type": "execute_result"
    }
   ],
   "source": [
    "knn_clf.predict([some_digit])"
   ]
  },
  {
   "cell_type": "markdown",
   "metadata": {},
   "source": [
    "数字5确实不大（False）同时也是奇数（True）\n",
    "\n",
    "评估多标记分类器的方法有很多种，选择正确的指标实际上取决于您的项目。 例如，一种方法是测量每个单独标签（或前面讨论的任何其他二元分类器度量）的**$F_1$分数**，然后简单地计算平均分数。 此代码计算所有标签的平均$F_1$分数：\n",
    "\n",
    "这个代码可能会运行很长时间"
   ]
  },
  {
   "cell_type": "code",
   "execution_count": 85,
   "metadata": {
    "ExecuteTime": {
     "end_time": "2019-04-17T12:13:07.663660Z",
     "start_time": "2019-04-17T11:08:58.434729Z"
    }
   },
   "outputs": [
    {
     "data": {
      "text/plain": [
       "0.9770066603925986"
      ]
     },
     "execution_count": 85,
     "metadata": {},
     "output_type": "execute_result"
    }
   ],
   "source": [
    "y_train_knn_pred = cross_val_predict(knn_clf,X_train,y_multilabel,cv = 3, n_jobs= -1 )\n",
    "f1_score(y_multilabel,y_train_knn_pred,average='macro')"
   ]
  },
  {
   "cell_type": "code",
   "execution_count": null,
   "metadata": {},
   "outputs": [],
   "source": []
  }
 ],
 "metadata": {
  "kernelspec": {
   "display_name": "Python 3",
   "language": "python",
   "name": "python3"
  },
  "language_info": {
   "codemirror_mode": {
    "name": "ipython",
    "version": 3
   },
   "file_extension": ".py",
   "mimetype": "text/x-python",
   "name": "python",
   "nbconvert_exporter": "python",
   "pygments_lexer": "ipython3",
   "version": "3.7.1"
  },
  "toc": {
   "base_numbering": 1,
   "nav_menu": {},
   "number_sections": true,
   "sideBar": true,
   "skip_h1_title": false,
   "title_cell": "Table of Contents",
   "title_sidebar": "Contents",
   "toc_cell": false,
   "toc_position": {},
   "toc_section_display": true,
   "toc_window_display": false
  }
 },
 "nbformat": 4,
 "nbformat_minor": 2
}
